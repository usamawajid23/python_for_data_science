{
 "cells": [
  {
   "cell_type": "markdown",
   "source": [
    "<h2>Descriptive Statistical Analysis and Basics of Grouping</h2>"
   ],
   "metadata": {
    "collapsed": false
   }
  },
  {
   "cell_type": "markdown",
   "source": [
    "<h3>2. Descriptive Statistical Analysis</h3>"
   ],
   "metadata": {
    "collapsed": false
   }
  },
  {
   "cell_type": "markdown",
   "source": [
    "Let's first take a look at the variables by utilizing a description method.\n",
    "\n",
    "The describe function automatically computes basic statistics for all continuous variables. Any NaN values are automatically skipped in these statistics.\n",
    "\n",
    "This will show:\n",
    "\n",
    "- the count of that variable\n",
    "- the mean\n",
    "- the standard deviation (std)\n",
    "- the minimum value\n",
    "- the IQR (Interquartile Range: 25%, 50% and 75%)\n",
    "- the maximum value\n",
    "\n",
    "We can apply the method \"describe\" as follows:"
   ],
   "metadata": {
    "collapsed": false
   }
  },
  {
   "cell_type": "code",
   "execution_count": 1,
   "outputs": [],
   "source": [
    "import numpy as np\n",
    "import pandas as pd"
   ],
   "metadata": {
    "collapsed": false,
    "ExecuteTime": {
     "end_time": "2023-08-20T09:00:35.000153Z",
     "start_time": "2023-08-20T09:00:34.998793Z"
    }
   }
  },
  {
   "cell_type": "code",
   "execution_count": 3,
   "outputs": [
    {
     "data": {
      "text/plain": "   Unnamed: 0  symboling  normalized-losses           make num-of-doors  \\\n0          55          3              150.0          mazda          two   \n1          66          0               93.0  mercedes-benz          two   \n2         145          0               85.0         subaru         four   \n3         128          3              150.0           saab          two   \n4         139          0              102.0         subaru         four   \n\n  body-style drive-wheels engine-location  wheel-base  length  ...  \\\n0  hatchback          rwd           front        95.3   169.0  ...   \n1    hardtop          rwd           front       106.7   187.5  ...   \n2      wagon          4wd           front        96.9   173.6  ...   \n3  hatchback          fwd           front        99.1   186.6  ...   \n4      sedan          fwd           front        97.2   172.0  ...   \n\n   compression-ratio  horsepower  peak-rpm city-mpg highway-mpg  price  \\\n0               9.40         135      6000       16          23  15645   \n1              21.50         123      4350       22          25  28176   \n2               7.70         111      4800       23          23  11694   \n3               9.31         110      5250       21          28  11850   \n4               9.00          94      5200       26          32   9960   \n\n  fuel-type-diesel  fuel-type-gas  aspiration-std  aspiration-turbo  \n0            False           True            True             False  \n1             True          False           False              True  \n2            False           True           False              True  \n3            False           True            True             False  \n4            False           True            True             False  \n\n[5 rows x 29 columns]",
      "text/html": "<div>\n<style scoped>\n    .dataframe tbody tr th:only-of-type {\n        vertical-align: middle;\n    }\n\n    .dataframe tbody tr th {\n        vertical-align: top;\n    }\n\n    .dataframe thead th {\n        text-align: right;\n    }\n</style>\n<table border=\"1\" class=\"dataframe\">\n  <thead>\n    <tr style=\"text-align: right;\">\n      <th></th>\n      <th>Unnamed: 0</th>\n      <th>symboling</th>\n      <th>normalized-losses</th>\n      <th>make</th>\n      <th>num-of-doors</th>\n      <th>body-style</th>\n      <th>drive-wheels</th>\n      <th>engine-location</th>\n      <th>wheel-base</th>\n      <th>length</th>\n      <th>...</th>\n      <th>compression-ratio</th>\n      <th>horsepower</th>\n      <th>peak-rpm</th>\n      <th>city-mpg</th>\n      <th>highway-mpg</th>\n      <th>price</th>\n      <th>fuel-type-diesel</th>\n      <th>fuel-type-gas</th>\n      <th>aspiration-std</th>\n      <th>aspiration-turbo</th>\n    </tr>\n  </thead>\n  <tbody>\n    <tr>\n      <th>0</th>\n      <td>55</td>\n      <td>3</td>\n      <td>150.0</td>\n      <td>mazda</td>\n      <td>two</td>\n      <td>hatchback</td>\n      <td>rwd</td>\n      <td>front</td>\n      <td>95.3</td>\n      <td>169.0</td>\n      <td>...</td>\n      <td>9.40</td>\n      <td>135</td>\n      <td>6000</td>\n      <td>16</td>\n      <td>23</td>\n      <td>15645</td>\n      <td>False</td>\n      <td>True</td>\n      <td>True</td>\n      <td>False</td>\n    </tr>\n    <tr>\n      <th>1</th>\n      <td>66</td>\n      <td>0</td>\n      <td>93.0</td>\n      <td>mercedes-benz</td>\n      <td>two</td>\n      <td>hardtop</td>\n      <td>rwd</td>\n      <td>front</td>\n      <td>106.7</td>\n      <td>187.5</td>\n      <td>...</td>\n      <td>21.50</td>\n      <td>123</td>\n      <td>4350</td>\n      <td>22</td>\n      <td>25</td>\n      <td>28176</td>\n      <td>True</td>\n      <td>False</td>\n      <td>False</td>\n      <td>True</td>\n    </tr>\n    <tr>\n      <th>2</th>\n      <td>145</td>\n      <td>0</td>\n      <td>85.0</td>\n      <td>subaru</td>\n      <td>four</td>\n      <td>wagon</td>\n      <td>4wd</td>\n      <td>front</td>\n      <td>96.9</td>\n      <td>173.6</td>\n      <td>...</td>\n      <td>7.70</td>\n      <td>111</td>\n      <td>4800</td>\n      <td>23</td>\n      <td>23</td>\n      <td>11694</td>\n      <td>False</td>\n      <td>True</td>\n      <td>False</td>\n      <td>True</td>\n    </tr>\n    <tr>\n      <th>3</th>\n      <td>128</td>\n      <td>3</td>\n      <td>150.0</td>\n      <td>saab</td>\n      <td>two</td>\n      <td>hatchback</td>\n      <td>fwd</td>\n      <td>front</td>\n      <td>99.1</td>\n      <td>186.6</td>\n      <td>...</td>\n      <td>9.31</td>\n      <td>110</td>\n      <td>5250</td>\n      <td>21</td>\n      <td>28</td>\n      <td>11850</td>\n      <td>False</td>\n      <td>True</td>\n      <td>True</td>\n      <td>False</td>\n    </tr>\n    <tr>\n      <th>4</th>\n      <td>139</td>\n      <td>0</td>\n      <td>102.0</td>\n      <td>subaru</td>\n      <td>four</td>\n      <td>sedan</td>\n      <td>fwd</td>\n      <td>front</td>\n      <td>97.2</td>\n      <td>172.0</td>\n      <td>...</td>\n      <td>9.00</td>\n      <td>94</td>\n      <td>5200</td>\n      <td>26</td>\n      <td>32</td>\n      <td>9960</td>\n      <td>False</td>\n      <td>True</td>\n      <td>True</td>\n      <td>False</td>\n    </tr>\n  </tbody>\n</table>\n<p>5 rows × 29 columns</p>\n</div>"
     },
     "execution_count": 3,
     "metadata": {},
     "output_type": "execute_result"
    }
   ],
   "source": [
    "df = pd.read_csv('clean_df.csv')\n",
    "df.head()"
   ],
   "metadata": {
    "collapsed": false,
    "ExecuteTime": {
     "end_time": "2023-08-20T09:01:15.762617Z",
     "start_time": "2023-08-20T09:01:15.747773Z"
    }
   }
  },
  {
   "cell_type": "code",
   "execution_count": 4,
   "outputs": [
    {
     "data": {
      "text/plain": "       Unnamed: 0  symboling  normalized-losses  wheel-base      length  \\\ncount   10.000000  10.000000          10.000000   10.000000   10.000000   \nmean   105.700000   0.900000         116.300000   98.570000  175.290000   \nstd     54.059741   1.197219          30.192162    4.308918   10.745175   \nmin      7.000000   0.000000          85.000000   94.500000  158.700000   \n25%     59.250000   0.000000          91.500000   95.700000  168.775000   \n50%    133.500000   0.500000         108.500000   97.050000  172.800000   \n75%    146.500000   1.000000         143.000000   99.025000  184.400000   \nmax    160.000000   3.000000         168.000000  106.700000  192.700000   \n\n           width     height  curb-weight  engine-size       bore     stroke  \\\ncount  10.000000  10.000000    10.000000    10.000000  10.000000  10.000000   \nmean   66.320000  53.910000  2536.000000   114.600000   3.369975   3.112542   \nstd     2.587491   2.009671   436.710176    29.018002   0.210718   0.320951   \nmin    63.600000  49.600000  2040.000000    80.000000   3.050000   2.640000   \n25%    64.650000  52.650000  2238.000000    98.000000   3.190000   3.030000   \n50%    65.550000  54.700000  2455.000000   108.000000   3.359876   3.050000   \n75%    66.500000  55.350000  2656.000000   121.750000   3.570000   3.356356   \nmax    71.400000  56.100000  3495.000000   183.000000   3.620000   3.640000   \n\n       compression-ratio  horsepower     peak-rpm   city-mpg  highway-mpg  \\\ncount          10.000000   10.000000    10.000000  10.000000    10.000000   \nmean           10.101000   96.900000  5030.000000  24.300000    29.700000   \nstd             4.034354   24.754124   467.380407   4.945256     5.657836   \nmin             7.700000   62.000000  4350.000000  16.000000    23.000000   \n25%             8.700000   73.500000  4800.000000  21.250000    25.000000   \n50%             9.000000  102.000000  4800.000000  24.500000    30.000000   \n75%             9.232500  110.750000  5237.500000  28.250000    33.500000   \nmax            21.500000  135.000000  6000.000000  31.000000    38.000000   \n\n             price  \ncount     10.00000  \nmean   12651.40000  \nstd     6703.44053  \nmin     6338.00000  \n25%     8302.25000  \n50%    10827.00000  \n75%    14696.25000  \nmax    28176.00000  ",
      "text/html": "<div>\n<style scoped>\n    .dataframe tbody tr th:only-of-type {\n        vertical-align: middle;\n    }\n\n    .dataframe tbody tr th {\n        vertical-align: top;\n    }\n\n    .dataframe thead th {\n        text-align: right;\n    }\n</style>\n<table border=\"1\" class=\"dataframe\">\n  <thead>\n    <tr style=\"text-align: right;\">\n      <th></th>\n      <th>Unnamed: 0</th>\n      <th>symboling</th>\n      <th>normalized-losses</th>\n      <th>wheel-base</th>\n      <th>length</th>\n      <th>width</th>\n      <th>height</th>\n      <th>curb-weight</th>\n      <th>engine-size</th>\n      <th>bore</th>\n      <th>stroke</th>\n      <th>compression-ratio</th>\n      <th>horsepower</th>\n      <th>peak-rpm</th>\n      <th>city-mpg</th>\n      <th>highway-mpg</th>\n      <th>price</th>\n    </tr>\n  </thead>\n  <tbody>\n    <tr>\n      <th>count</th>\n      <td>10.000000</td>\n      <td>10.000000</td>\n      <td>10.000000</td>\n      <td>10.000000</td>\n      <td>10.000000</td>\n      <td>10.000000</td>\n      <td>10.000000</td>\n      <td>10.000000</td>\n      <td>10.000000</td>\n      <td>10.000000</td>\n      <td>10.000000</td>\n      <td>10.000000</td>\n      <td>10.000000</td>\n      <td>10.000000</td>\n      <td>10.000000</td>\n      <td>10.000000</td>\n      <td>10.00000</td>\n    </tr>\n    <tr>\n      <th>mean</th>\n      <td>105.700000</td>\n      <td>0.900000</td>\n      <td>116.300000</td>\n      <td>98.570000</td>\n      <td>175.290000</td>\n      <td>66.320000</td>\n      <td>53.910000</td>\n      <td>2536.000000</td>\n      <td>114.600000</td>\n      <td>3.369975</td>\n      <td>3.112542</td>\n      <td>10.101000</td>\n      <td>96.900000</td>\n      <td>5030.000000</td>\n      <td>24.300000</td>\n      <td>29.700000</td>\n      <td>12651.40000</td>\n    </tr>\n    <tr>\n      <th>std</th>\n      <td>54.059741</td>\n      <td>1.197219</td>\n      <td>30.192162</td>\n      <td>4.308918</td>\n      <td>10.745175</td>\n      <td>2.587491</td>\n      <td>2.009671</td>\n      <td>436.710176</td>\n      <td>29.018002</td>\n      <td>0.210718</td>\n      <td>0.320951</td>\n      <td>4.034354</td>\n      <td>24.754124</td>\n      <td>467.380407</td>\n      <td>4.945256</td>\n      <td>5.657836</td>\n      <td>6703.44053</td>\n    </tr>\n    <tr>\n      <th>min</th>\n      <td>7.000000</td>\n      <td>0.000000</td>\n      <td>85.000000</td>\n      <td>94.500000</td>\n      <td>158.700000</td>\n      <td>63.600000</td>\n      <td>49.600000</td>\n      <td>2040.000000</td>\n      <td>80.000000</td>\n      <td>3.050000</td>\n      <td>2.640000</td>\n      <td>7.700000</td>\n      <td>62.000000</td>\n      <td>4350.000000</td>\n      <td>16.000000</td>\n      <td>23.000000</td>\n      <td>6338.00000</td>\n    </tr>\n    <tr>\n      <th>25%</th>\n      <td>59.250000</td>\n      <td>0.000000</td>\n      <td>91.500000</td>\n      <td>95.700000</td>\n      <td>168.775000</td>\n      <td>64.650000</td>\n      <td>52.650000</td>\n      <td>2238.000000</td>\n      <td>98.000000</td>\n      <td>3.190000</td>\n      <td>3.030000</td>\n      <td>8.700000</td>\n      <td>73.500000</td>\n      <td>4800.000000</td>\n      <td>21.250000</td>\n      <td>25.000000</td>\n      <td>8302.25000</td>\n    </tr>\n    <tr>\n      <th>50%</th>\n      <td>133.500000</td>\n      <td>0.500000</td>\n      <td>108.500000</td>\n      <td>97.050000</td>\n      <td>172.800000</td>\n      <td>65.550000</td>\n      <td>54.700000</td>\n      <td>2455.000000</td>\n      <td>108.000000</td>\n      <td>3.359876</td>\n      <td>3.050000</td>\n      <td>9.000000</td>\n      <td>102.000000</td>\n      <td>4800.000000</td>\n      <td>24.500000</td>\n      <td>30.000000</td>\n      <td>10827.00000</td>\n    </tr>\n    <tr>\n      <th>75%</th>\n      <td>146.500000</td>\n      <td>1.000000</td>\n      <td>143.000000</td>\n      <td>99.025000</td>\n      <td>184.400000</td>\n      <td>66.500000</td>\n      <td>55.350000</td>\n      <td>2656.000000</td>\n      <td>121.750000</td>\n      <td>3.570000</td>\n      <td>3.356356</td>\n      <td>9.232500</td>\n      <td>110.750000</td>\n      <td>5237.500000</td>\n      <td>28.250000</td>\n      <td>33.500000</td>\n      <td>14696.25000</td>\n    </tr>\n    <tr>\n      <th>max</th>\n      <td>160.000000</td>\n      <td>3.000000</td>\n      <td>168.000000</td>\n      <td>106.700000</td>\n      <td>192.700000</td>\n      <td>71.400000</td>\n      <td>56.100000</td>\n      <td>3495.000000</td>\n      <td>183.000000</td>\n      <td>3.620000</td>\n      <td>3.640000</td>\n      <td>21.500000</td>\n      <td>135.000000</td>\n      <td>6000.000000</td>\n      <td>31.000000</td>\n      <td>38.000000</td>\n      <td>28176.00000</td>\n    </tr>\n  </tbody>\n</table>\n</div>"
     },
     "execution_count": 4,
     "metadata": {},
     "output_type": "execute_result"
    }
   ],
   "source": [
    "#  method \"describe\"\n",
    "df.describe()"
   ],
   "metadata": {
    "collapsed": false,
    "ExecuteTime": {
     "end_time": "2023-08-20T09:01:32.183395Z",
     "start_time": "2023-08-20T09:01:32.166321Z"
    }
   }
  },
  {
   "cell_type": "markdown",
   "source": [
    "The default setting of \"describe\" skips variables of type object. We can apply the method \"describe\" on the variables of type 'object' as follows:"
   ],
   "metadata": {
    "collapsed": false
   }
  },
  {
   "cell_type": "code",
   "execution_count": 5,
   "outputs": [
    {
     "data": {
      "text/plain": "          make num-of-doors body-style drive-wheels engine-location  \\\ncount       10           10         10           10              10   \nunique       6            2          4            3               1   \ntop     toyota          two  hatchback          fwd           front   \nfreq         3            5          5            6              10   \n\n       engine-type num-of-cylinders fuel-system  \ncount           10               10          10  \nunique           3                3           3  \ntop            ohc             four        mpfi  \nfreq             7                7           5  ",
      "text/html": "<div>\n<style scoped>\n    .dataframe tbody tr th:only-of-type {\n        vertical-align: middle;\n    }\n\n    .dataframe tbody tr th {\n        vertical-align: top;\n    }\n\n    .dataframe thead th {\n        text-align: right;\n    }\n</style>\n<table border=\"1\" class=\"dataframe\">\n  <thead>\n    <tr style=\"text-align: right;\">\n      <th></th>\n      <th>make</th>\n      <th>num-of-doors</th>\n      <th>body-style</th>\n      <th>drive-wheels</th>\n      <th>engine-location</th>\n      <th>engine-type</th>\n      <th>num-of-cylinders</th>\n      <th>fuel-system</th>\n    </tr>\n  </thead>\n  <tbody>\n    <tr>\n      <th>count</th>\n      <td>10</td>\n      <td>10</td>\n      <td>10</td>\n      <td>10</td>\n      <td>10</td>\n      <td>10</td>\n      <td>10</td>\n      <td>10</td>\n    </tr>\n    <tr>\n      <th>unique</th>\n      <td>6</td>\n      <td>2</td>\n      <td>4</td>\n      <td>3</td>\n      <td>1</td>\n      <td>3</td>\n      <td>3</td>\n      <td>3</td>\n    </tr>\n    <tr>\n      <th>top</th>\n      <td>toyota</td>\n      <td>two</td>\n      <td>hatchback</td>\n      <td>fwd</td>\n      <td>front</td>\n      <td>ohc</td>\n      <td>four</td>\n      <td>mpfi</td>\n    </tr>\n    <tr>\n      <th>freq</th>\n      <td>3</td>\n      <td>5</td>\n      <td>5</td>\n      <td>6</td>\n      <td>10</td>\n      <td>7</td>\n      <td>7</td>\n      <td>5</td>\n    </tr>\n  </tbody>\n</table>\n</div>"
     },
     "execution_count": 5,
     "metadata": {},
     "output_type": "execute_result"
    }
   ],
   "source": [
    "df.describe(include=['object'])"
   ],
   "metadata": {
    "collapsed": false,
    "ExecuteTime": {
     "end_time": "2023-08-20T09:05:04.754001Z",
     "start_time": "2023-08-20T09:05:04.733475Z"
    }
   }
  },
  {
   "cell_type": "markdown",
   "source": [
    "<h3>Value Counts</h3>"
   ],
   "metadata": {
    "collapsed": false
   }
  },
  {
   "cell_type": "markdown",
   "source": [
    "Value counts is a good way of understanding how many units of each characteristic/variable we have. We can apply the \"value_counts\" method on the column \"drive-wheels\". Don’t forget the method \"value_counts\" only works on pandas series, not pandas dataframes. As a result, we only include one bracket df['drive-wheels'], not two brackets df[['drive-wheels']]."
   ],
   "metadata": {
    "collapsed": false
   }
  },
  {
   "cell_type": "code",
   "execution_count": 6,
   "outputs": [
    {
     "data": {
      "text/plain": "drive-wheels\nfwd    6\nrwd    3\n4wd    1\nName: count, dtype: int64"
     },
     "execution_count": 6,
     "metadata": {},
     "output_type": "execute_result"
    }
   ],
   "source": [
    "df['drive-wheels'].value_counts()"
   ],
   "metadata": {
    "collapsed": false,
    "ExecuteTime": {
     "end_time": "2023-08-20T09:46:38.234571Z",
     "start_time": "2023-08-20T09:46:38.222317Z"
    }
   }
  },
  {
   "cell_type": "markdown",
   "source": [
    "We can convert the series to a dataframe as follows:"
   ],
   "metadata": {
    "collapsed": false
   }
  },
  {
   "cell_type": "markdown",
   "source": [
    "Let's repeat the above steps but save the results to the dataframe \"drive_wheels_counts\" and rename the column 'drive-wheels' to 'value_counts'."
   ],
   "metadata": {
    "collapsed": false
   }
  },
  {
   "cell_type": "code",
   "execution_count": 7,
   "outputs": [
    {
     "data": {
      "text/plain": "              count\ndrive-wheels       \nfwd               6\nrwd               3\n4wd               1",
      "text/html": "<div>\n<style scoped>\n    .dataframe tbody tr th:only-of-type {\n        vertical-align: middle;\n    }\n\n    .dataframe tbody tr th {\n        vertical-align: top;\n    }\n\n    .dataframe thead th {\n        text-align: right;\n    }\n</style>\n<table border=\"1\" class=\"dataframe\">\n  <thead>\n    <tr style=\"text-align: right;\">\n      <th></th>\n      <th>count</th>\n    </tr>\n    <tr>\n      <th>drive-wheels</th>\n      <th></th>\n    </tr>\n  </thead>\n  <tbody>\n    <tr>\n      <th>fwd</th>\n      <td>6</td>\n    </tr>\n    <tr>\n      <th>rwd</th>\n      <td>3</td>\n    </tr>\n    <tr>\n      <th>4wd</th>\n      <td>1</td>\n    </tr>\n  </tbody>\n</table>\n</div>"
     },
     "execution_count": 7,
     "metadata": {},
     "output_type": "execute_result"
    }
   ],
   "source": [
    "drive_wheel_count = df['drive-wheels'].value_counts().to_frame()\n",
    "drive_wheel_count"
   ],
   "metadata": {
    "collapsed": false,
    "ExecuteTime": {
     "end_time": "2023-08-20T09:47:35.504002Z",
     "start_time": "2023-08-20T09:47:35.500655Z"
    }
   }
  },
  {
   "cell_type": "code",
   "execution_count": 9,
   "outputs": [
    {
     "data": {
      "text/plain": "              count\ndrive-wheels       \nfwd               6\nrwd               3\n4wd               1",
      "text/html": "<div>\n<style scoped>\n    .dataframe tbody tr th:only-of-type {\n        vertical-align: middle;\n    }\n\n    .dataframe tbody tr th {\n        vertical-align: top;\n    }\n\n    .dataframe thead th {\n        text-align: right;\n    }\n</style>\n<table border=\"1\" class=\"dataframe\">\n  <thead>\n    <tr style=\"text-align: right;\">\n      <th></th>\n      <th>count</th>\n    </tr>\n    <tr>\n      <th>drive-wheels</th>\n      <th></th>\n    </tr>\n  </thead>\n  <tbody>\n    <tr>\n      <th>fwd</th>\n      <td>6</td>\n    </tr>\n    <tr>\n      <th>rwd</th>\n      <td>3</td>\n    </tr>\n    <tr>\n      <th>4wd</th>\n      <td>1</td>\n    </tr>\n  </tbody>\n</table>\n</div>"
     },
     "execution_count": 9,
     "metadata": {},
     "output_type": "execute_result"
    }
   ],
   "source": [
    "drive_wheel_count = df['drive-wheels'].value_counts().to_frame()\n",
    "drive_wheel_count.rename(columns={'drive-wheels': 'value_counts'}, inplace=True)\n",
    "drive_wheel_count"
   ],
   "metadata": {
    "collapsed": false,
    "ExecuteTime": {
     "end_time": "2023-08-20T09:49:28.565541Z",
     "start_time": "2023-08-20T09:49:28.563257Z"
    }
   }
  },
  {
   "cell_type": "code",
   "execution_count": 10,
   "outputs": [
    {
     "data": {
      "text/plain": "              count\ndrive-wheels       \nfwd               6\nrwd               3\n4wd               1",
      "text/html": "<div>\n<style scoped>\n    .dataframe tbody tr th:only-of-type {\n        vertical-align: middle;\n    }\n\n    .dataframe tbody tr th {\n        vertical-align: top;\n    }\n\n    .dataframe thead th {\n        text-align: right;\n    }\n</style>\n<table border=\"1\" class=\"dataframe\">\n  <thead>\n    <tr style=\"text-align: right;\">\n      <th></th>\n      <th>count</th>\n    </tr>\n    <tr>\n      <th>drive-wheels</th>\n      <th></th>\n    </tr>\n  </thead>\n  <tbody>\n    <tr>\n      <th>fwd</th>\n      <td>6</td>\n    </tr>\n    <tr>\n      <th>rwd</th>\n      <td>3</td>\n    </tr>\n    <tr>\n      <th>4wd</th>\n      <td>1</td>\n    </tr>\n  </tbody>\n</table>\n</div>"
     },
     "execution_count": 10,
     "metadata": {},
     "output_type": "execute_result"
    }
   ],
   "source": [
    "drive_wheel_count.index.name = 'drive-wheels'\n",
    "drive_wheel_count"
   ],
   "metadata": {
    "collapsed": false,
    "ExecuteTime": {
     "end_time": "2023-08-20T09:50:24.600900Z",
     "start_time": "2023-08-20T09:50:24.598497Z"
    }
   }
  },
  {
   "cell_type": "code",
   "execution_count": 11,
   "outputs": [
    {
     "data": {
      "text/plain": "                 count\nengine-location       \nfront               10",
      "text/html": "<div>\n<style scoped>\n    .dataframe tbody tr th:only-of-type {\n        vertical-align: middle;\n    }\n\n    .dataframe tbody tr th {\n        vertical-align: top;\n    }\n\n    .dataframe thead th {\n        text-align: right;\n    }\n</style>\n<table border=\"1\" class=\"dataframe\">\n  <thead>\n    <tr style=\"text-align: right;\">\n      <th></th>\n      <th>count</th>\n    </tr>\n    <tr>\n      <th>engine-location</th>\n      <th></th>\n    </tr>\n  </thead>\n  <tbody>\n    <tr>\n      <th>front</th>\n      <td>10</td>\n    </tr>\n  </tbody>\n</table>\n</div>"
     },
     "execution_count": 11,
     "metadata": {},
     "output_type": "execute_result"
    }
   ],
   "source": [
    "# engine-location as variable\n",
    "engine_loc_counts = df['engine-location'].value_counts().to_frame()\n",
    "engine_loc_counts.rename(columns={'engine-location': 'value_counts'}, inplace=True)\n",
    "engine_loc_counts.index.name = 'engine-location'\n",
    "engine_loc_counts.head(10)"
   ],
   "metadata": {
    "collapsed": false,
    "ExecuteTime": {
     "end_time": "2023-08-20T09:51:00.745494Z",
     "start_time": "2023-08-20T09:51:00.725941Z"
    }
   }
  },
  {
   "cell_type": "markdown",
   "source": [
    "This code snippet performs an analysis of the 'engine-location' variable in a DataFrame named 'df' using Python. The goal is to count the occurrences of different values within the 'engine-location' column and display the top 10 results.\n",
    "\n",
    "Let's break down the code step by step:\n",
    "\n",
    "1. engine_loc_counts = df['engine-location'].value_counts().to_frame(): This line calculates the frequency of each unique value in the 'engine-location' column of the DataFrame 'df'. The value_counts() function counts the occurrences of each value and returns a Pandas Series. The .to_frame() function is then used to convert this Series into a DataFrame called 'engine_loc_counts', with two columns: the unique values of 'engine-location' and their corresponding counts.\n",
    "\n",
    "2. engine_loc_counts.rename(columns={'engine-location': 'value_counts'}, inplace=True): This line renames the column header of the 'engine_loc_counts' DataFrame. It changes the original column name 'engine-location' to 'value_counts', providing a more descriptive name for the count data.\n",
    "\n",
    "3. engine_loc_counts.index.name = 'engine-location': This line sets the name of the DataFrame index to 'engine-location'. The index represents the unique values of the 'engine-location' column, and this step ensures that the index has a clear and relevant name.\n",
    "\n",
    "4. engine_loc_counts.head(10): This line displays the first 10 rows of the 'engine_loc_counts' DataFrame, showing the top 10 most frequent values in the 'engine-location' column and their corresponding counts.\n",
    "\n",
    "In summary, this code snippet calculates the frequency of each unique value in the 'engine-location' column, organizes the results into a DataFrame, and then displays the top 10 most common values along with their respective counts. This analysis can provide valuable insights into the distribution and prevalence of different engine locations in the dataset.\n",
    "\n",
    "After examining the value counts of the engine location, we see that engine location would not be a good predictor variable for the price. This is because we only have three cars with a rear engine and 198 with an engine in the front, so this result is skewed. Thus, we are not able to draw any conclusions about the engine location."
   ],
   "metadata": {
    "collapsed": false
   }
  },
  {
   "cell_type": "markdown",
   "source": [
    "<h2>3. Basics of Grouping</h2>"
   ],
   "metadata": {
    "collapsed": false
   }
  },
  {
   "cell_type": "markdown",
   "source": [
    "The \"groupby\" method groups data by different categories. The data is grouped based on one or several variables, and analysis is performed on the individual groups.\n",
    "\n",
    "The \"groupby\" method is a powerful feature in Pandas, a popular Python library for data manipulation and analysis. It allows you to group data in a DataFrame based on the values in one or more columns and then perform various operations on each group separately.\n",
    "\n",
    "Here's how the \"groupby\" method works:\n",
    "\n",
    "1. **Grouping the data:** You start by selecting the DataFrame and applying the \"groupby\" method to it. You specify one or more column names based on which you want to group the data.\n",
    "\n",
    "\n",
    "    Example: grouped_data = df.groupby('column_name')\n",
    "\n",
    "2. **Aggregating data within each group:** After grouping the data, you can apply aggregation functions like sum, mean, count, max, min, etc., to get insights about each group.\n",
    "\n",
    "\n",
    "    Example: grouped_data['column_to_aggregate'].mean()\n",
    "\n",
    "3. **Applying multiple aggregation functions:** You can apply multiple aggregation functions to different columns within each group simultaneously.\n",
    "\n",
    "\n",
    "    Example: grouped_data.agg({'column1': 'mean', 'column2': 'sum', 'column3': 'count'})\n",
    "\n",
    "The \"groupby\" method is particularly useful when you want to perform operations on subsets of data based on certain categories or conditions. It is commonly used for tasks like data summarization, analyzing groups separately, and comparing group statistics.\n",
    "\n",
    "Keep in mind that the \"groupby\" method doesn't modify the original DataFrame but rather creates an intermediate grouped object. You can then apply various aggregation functions or other operations to this object to get the desired insights from the grouped data."
   ],
   "metadata": {
    "collapsed": false
   }
  },
  {
   "cell_type": "code",
   "execution_count": 12,
   "outputs": [
    {
     "data": {
      "text/plain": "array(['rwd', '4wd', 'fwd'], dtype=object)"
     },
     "execution_count": 12,
     "metadata": {},
     "output_type": "execute_result"
    }
   ],
   "source": [
    "# let's group by the variable \"drive-wheels\". We see that there are 3 different categories of drive wheels.\n",
    "df['drive-wheels'].unique()"
   ],
   "metadata": {
    "collapsed": false,
    "ExecuteTime": {
     "end_time": "2023-08-20T09:53:56.842741Z",
     "start_time": "2023-08-20T09:53:56.836587Z"
    }
   }
  },
  {
   "cell_type": "markdown",
   "source": [
    "If we want to know, on average, which type of drive wheel is most valuable, we can group \"drive-wheels\" and then average them.\n",
    "\n",
    "We can select the columns 'drive-wheels', 'body-style' and 'price', then assign it to the variable \"df_gptest\"."
   ],
   "metadata": {
    "collapsed": false
   }
  },
  {
   "cell_type": "code",
   "execution_count": 14,
   "outputs": [
    {
     "data": {
      "text/plain": "  drive-wheels body-style  price\n0          rwd  hatchback  15645\n1          rwd    hardtop  28176\n2          4wd      wagon  11694\n3          fwd  hatchback  11850\n4          fwd      sedan   9960\n5          rwd  hatchback   8238\n6          fwd  hatchback   7198\n7          fwd      sedan   8495\n8          fwd      wagon  18920\n9          fwd  hatchback   6338",
      "text/html": "<div>\n<style scoped>\n    .dataframe tbody tr th:only-of-type {\n        vertical-align: middle;\n    }\n\n    .dataframe tbody tr th {\n        vertical-align: top;\n    }\n\n    .dataframe thead th {\n        text-align: right;\n    }\n</style>\n<table border=\"1\" class=\"dataframe\">\n  <thead>\n    <tr style=\"text-align: right;\">\n      <th></th>\n      <th>drive-wheels</th>\n      <th>body-style</th>\n      <th>price</th>\n    </tr>\n  </thead>\n  <tbody>\n    <tr>\n      <th>0</th>\n      <td>rwd</td>\n      <td>hatchback</td>\n      <td>15645</td>\n    </tr>\n    <tr>\n      <th>1</th>\n      <td>rwd</td>\n      <td>hardtop</td>\n      <td>28176</td>\n    </tr>\n    <tr>\n      <th>2</th>\n      <td>4wd</td>\n      <td>wagon</td>\n      <td>11694</td>\n    </tr>\n    <tr>\n      <th>3</th>\n      <td>fwd</td>\n      <td>hatchback</td>\n      <td>11850</td>\n    </tr>\n    <tr>\n      <th>4</th>\n      <td>fwd</td>\n      <td>sedan</td>\n      <td>9960</td>\n    </tr>\n    <tr>\n      <th>5</th>\n      <td>rwd</td>\n      <td>hatchback</td>\n      <td>8238</td>\n    </tr>\n    <tr>\n      <th>6</th>\n      <td>fwd</td>\n      <td>hatchback</td>\n      <td>7198</td>\n    </tr>\n    <tr>\n      <th>7</th>\n      <td>fwd</td>\n      <td>sedan</td>\n      <td>8495</td>\n    </tr>\n    <tr>\n      <th>8</th>\n      <td>fwd</td>\n      <td>wagon</td>\n      <td>18920</td>\n    </tr>\n    <tr>\n      <th>9</th>\n      <td>fwd</td>\n      <td>hatchback</td>\n      <td>6338</td>\n    </tr>\n  </tbody>\n</table>\n</div>"
     },
     "execution_count": 14,
     "metadata": {},
     "output_type": "execute_result"
    }
   ],
   "source": [
    "# grouping results\n",
    "df_dptest = df[['drive-wheels', 'body-style', 'price']]\n",
    "df_dptest"
   ],
   "metadata": {
    "collapsed": false,
    "ExecuteTime": {
     "end_time": "2023-08-20T10:08:32.679122Z",
     "start_time": "2023-08-20T10:08:32.648230Z"
    }
   }
  },
  {
   "cell_type": "code",
   "execution_count": 16,
   "outputs": [
    {
     "data": {
      "text/plain": "  drive-wheels body-style    price\n0          4wd      wagon  11694.0\n1          fwd  hatchback   8462.0\n2          fwd      sedan   9227.5\n3          fwd      wagon  18920.0\n4          rwd    hardtop  28176.0\n5          rwd  hatchback  11941.5",
      "text/html": "<div>\n<style scoped>\n    .dataframe tbody tr th:only-of-type {\n        vertical-align: middle;\n    }\n\n    .dataframe tbody tr th {\n        vertical-align: top;\n    }\n\n    .dataframe thead th {\n        text-align: right;\n    }\n</style>\n<table border=\"1\" class=\"dataframe\">\n  <thead>\n    <tr style=\"text-align: right;\">\n      <th></th>\n      <th>drive-wheels</th>\n      <th>body-style</th>\n      <th>price</th>\n    </tr>\n  </thead>\n  <tbody>\n    <tr>\n      <th>0</th>\n      <td>4wd</td>\n      <td>wagon</td>\n      <td>11694.0</td>\n    </tr>\n    <tr>\n      <th>1</th>\n      <td>fwd</td>\n      <td>hatchback</td>\n      <td>8462.0</td>\n    </tr>\n    <tr>\n      <th>2</th>\n      <td>fwd</td>\n      <td>sedan</td>\n      <td>9227.5</td>\n    </tr>\n    <tr>\n      <th>3</th>\n      <td>fwd</td>\n      <td>wagon</td>\n      <td>18920.0</td>\n    </tr>\n    <tr>\n      <th>4</th>\n      <td>rwd</td>\n      <td>hardtop</td>\n      <td>28176.0</td>\n    </tr>\n    <tr>\n      <th>5</th>\n      <td>rwd</td>\n      <td>hatchback</td>\n      <td>11941.5</td>\n    </tr>\n  </tbody>\n</table>\n</div>"
     },
     "execution_count": 16,
     "metadata": {},
     "output_type": "execute_result"
    }
   ],
   "source": [
    "grouped_test1 = df_dptest.groupby(['drive-wheels', 'body-style'], as_index=False).mean()\n",
    "grouped_test1"
   ],
   "metadata": {
    "collapsed": false,
    "ExecuteTime": {
     "end_time": "2023-08-20T10:09:47.736217Z",
     "start_time": "2023-08-20T10:09:47.734280Z"
    }
   }
  },
  {
   "cell_type": "markdown",
   "source": [
    "Let's break down the code step by step:\n",
    "\n",
    "1. df_gptest = df[['drive-wheels','body-style','price']]: This line creates a new DataFrame called 'df_gptest' by selecting only the columns 'drive-wheels', 'body-style', and 'price' from the original DataFrame 'df'.\n",
    "\n",
    "2. grouped_test1 = df_gptest.groupby(['drive-wheels','body-style'], as_index=False).mean(): Here, the 'df_gptest' DataFrame is grouped based on the columns 'drive-wheels' and 'body-style' using the \"groupby\" method. The as_index=False parameter ensures that the grouped columns are included as regular columns in the resulting DataFrame. The .mean() function calculates the mean value for each group, specifically for the 'price' column.\n",
    "\n",
    "3. grouped_test1: Finally, this line displays the resulting DataFrame, 'grouped_test1', which shows the average price for different combinations of 'drive-wheels' and 'body-style'.\n",
    "\n",
    "In summary, this code performs a grouping operation on the 'df_gptest' DataFrame based on the columns 'drive-wheels' and 'body-style'. It then calculates the mean price for each group and displays the resulting DataFrame with the average prices for various combinations of 'drive-wheels' and 'body-style'. This type of analysis can be helpful in understanding how different combinations of car attributes relate to the average price in the dataset.\n",
    "\n",
    "This grouped data is much easier to visualize when it is made into a pivot table. A pivot table is like an Excel spreadsheet, with one variable along the column and another along the row. We can convert the dataframe to a pivot table using the method \"pivot\" to create a pivot table from the groups.\n",
    "\n",
    "In this case, we will leave the drive-wheels variable as the rows of the table, and pivot body-style to become the columns of the table:"
   ],
   "metadata": {
    "collapsed": false
   }
  },
  {
   "cell_type": "code",
   "execution_count": 17,
   "outputs": [
    {
     "data": {
      "text/plain": "                price                           \nbody-style    hardtop hatchback   sedan    wagon\ndrive-wheels                                    \n4wd               NaN       NaN     NaN  11694.0\nfwd               NaN    8462.0  9227.5  18920.0\nrwd           28176.0   11941.5     NaN      NaN",
      "text/html": "<div>\n<style scoped>\n    .dataframe tbody tr th:only-of-type {\n        vertical-align: middle;\n    }\n\n    .dataframe tbody tr th {\n        vertical-align: top;\n    }\n\n    .dataframe thead tr th {\n        text-align: left;\n    }\n\n    .dataframe thead tr:last-of-type th {\n        text-align: right;\n    }\n</style>\n<table border=\"1\" class=\"dataframe\">\n  <thead>\n    <tr>\n      <th></th>\n      <th colspan=\"4\" halign=\"left\">price</th>\n    </tr>\n    <tr>\n      <th>body-style</th>\n      <th>hardtop</th>\n      <th>hatchback</th>\n      <th>sedan</th>\n      <th>wagon</th>\n    </tr>\n    <tr>\n      <th>drive-wheels</th>\n      <th></th>\n      <th></th>\n      <th></th>\n      <th></th>\n    </tr>\n  </thead>\n  <tbody>\n    <tr>\n      <th>4wd</th>\n      <td>NaN</td>\n      <td>NaN</td>\n      <td>NaN</td>\n      <td>11694.0</td>\n    </tr>\n    <tr>\n      <th>fwd</th>\n      <td>NaN</td>\n      <td>8462.0</td>\n      <td>9227.5</td>\n      <td>18920.0</td>\n    </tr>\n    <tr>\n      <th>rwd</th>\n      <td>28176.0</td>\n      <td>11941.5</td>\n      <td>NaN</td>\n      <td>NaN</td>\n    </tr>\n  </tbody>\n</table>\n</div>"
     },
     "execution_count": 17,
     "metadata": {},
     "output_type": "execute_result"
    }
   ],
   "source": [
    "grouped_pivot = grouped_test1.pivot(index = 'drive-wheels', columns = 'body-style')\n",
    "grouped_pivot"
   ],
   "metadata": {
    "collapsed": false,
    "ExecuteTime": {
     "end_time": "2023-08-20T11:02:38.638566Z",
     "start_time": "2023-08-20T11:02:38.618688Z"
    }
   }
  },
  {
   "cell_type": "markdown",
   "source": [
    "In this code snippet, the DataFrame 'grouped_test1' is being transformed into a pivot table to further analyze the data and provide a more structured view of the average price based on different combinations of 'drive-wheels' and 'body-style'.\n",
    "\n",
    "Let's break down the code:\n",
    "\n",
    "1. grouped_pivot = grouped_test1.pivot(index='drive-wheels', columns='body-style'): The \"pivot\" method is applied to the 'grouped_test1' DataFrame, with 'drive-wheels' as the index and 'body-style' as the columns. This operation reshapes the DataFrame to create a pivot table, where the unique values from the 'drive-wheels' column will become the rows (index), the unique values from the 'body-style' column will become the columns, and the mean prices for each combination of 'drive-wheels' and 'body-style' will populate the cells.\n",
    "\n",
    "2. grouped_pivot: This line displays the resulting pivot table, which provides a comprehensive view of the average prices for different 'body-style' categories, categorized by 'drive-wheels'. The table allows easy comparison of how the average prices vary based on both 'drive-wheels' and 'body-style' attributes.\n",
    "\n",
    "In summary, the code creates a pivot table called 'grouped_pivot' from the 'grouped_test1' DataFrame, offering a clearer and more organized representation of the average prices for various combinations of 'drive-wheels' and 'body-style'. This pivot table can be valuable for visualizing and exploring the data to uncover patterns and insights related to car prices in the dataset."
   ],
   "metadata": {
    "collapsed": false
   }
  },
  {
   "cell_type": "code",
   "execution_count": 18,
   "outputs": [
    {
     "data": {
      "text/plain": "                price                           \nbody-style    hardtop hatchback   sedan    wagon\ndrive-wheels                                    \n4wd               0.0       0.0     0.0  11694.0\nfwd               0.0    8462.0  9227.5  18920.0\nrwd           28176.0   11941.5     0.0      0.0",
      "text/html": "<div>\n<style scoped>\n    .dataframe tbody tr th:only-of-type {\n        vertical-align: middle;\n    }\n\n    .dataframe tbody tr th {\n        vertical-align: top;\n    }\n\n    .dataframe thead tr th {\n        text-align: left;\n    }\n\n    .dataframe thead tr:last-of-type th {\n        text-align: right;\n    }\n</style>\n<table border=\"1\" class=\"dataframe\">\n  <thead>\n    <tr>\n      <th></th>\n      <th colspan=\"4\" halign=\"left\">price</th>\n    </tr>\n    <tr>\n      <th>body-style</th>\n      <th>hardtop</th>\n      <th>hatchback</th>\n      <th>sedan</th>\n      <th>wagon</th>\n    </tr>\n    <tr>\n      <th>drive-wheels</th>\n      <th></th>\n      <th></th>\n      <th></th>\n      <th></th>\n    </tr>\n  </thead>\n  <tbody>\n    <tr>\n      <th>4wd</th>\n      <td>0.0</td>\n      <td>0.0</td>\n      <td>0.0</td>\n      <td>11694.0</td>\n    </tr>\n    <tr>\n      <th>fwd</th>\n      <td>0.0</td>\n      <td>8462.0</td>\n      <td>9227.5</td>\n      <td>18920.0</td>\n    </tr>\n    <tr>\n      <th>rwd</th>\n      <td>28176.0</td>\n      <td>11941.5</td>\n      <td>0.0</td>\n      <td>0.0</td>\n    </tr>\n  </tbody>\n</table>\n</div>"
     },
     "execution_count": 18,
     "metadata": {},
     "output_type": "execute_result"
    }
   ],
   "source": [
    "grouped_pivot = grouped_pivot.fillna(0) #fill missing value with 0\n",
    "grouped_pivot"
   ],
   "metadata": {
    "collapsed": false,
    "ExecuteTime": {
     "end_time": "2023-08-20T11:04:37.250126Z",
     "start_time": "2023-08-20T11:04:37.239374Z"
    }
   }
  },
  {
   "cell_type": "markdown",
   "source": [
    "Variables: Drive Wheels and Body Style vs. Price\n",
    "\n",
    "Let's use a heat map to visualize the relationship between Body Style vs Price."
   ],
   "metadata": {
    "collapsed": false
   }
  },
  {
   "cell_type": "code",
   "execution_count": 19,
   "outputs": [
    {
     "data": {
      "text/plain": "<Figure size 640x480 with 2 Axes>",
      "image/png": "[encoded data removed]"
     },
     "metadata": {},
     "output_type": "display_data"
    }
   ],
   "source": [
    "import matplotlib.pyplot as plt\n",
    "%matplotlib inline\n",
    "\n",
    "#use the grouped results\n",
    "plt.pcolor(grouped_pivot, cmap='RdBu')\n",
    "plt.colorbar()\n",
    "plt.show()"
   ],
   "metadata": {
    "collapsed": false,
    "ExecuteTime": {
     "end_time": "2023-08-20T11:05:22.882389Z",
     "start_time": "2023-08-20T11:05:22.701463Z"
    }
   }
  },
  {
   "cell_type": "markdown",
   "source": [
    "The heatmap plots the target variable (price) proportional to colour with respect to the variables 'drive-wheel' and 'body-style' on the vertical and horizontal axis, respectively. This allows us to visualize how the price is related to 'drive-wheel' and 'body-style'.\n",
    "\n",
    "The default labels convey no useful information to us. Let's change that:"
   ],
   "metadata": {
    "collapsed": false
   }
  },
  {
   "cell_type": "code",
   "execution_count": 20,
   "outputs": [
    {
     "data": {
      "text/plain": "<Figure size 640x480 with 2 Axes>",
      "image/png": "[encoded data removed]"
     },
     "metadata": {},
     "output_type": "display_data"
    }
   ],
   "source": [
    "fig, ax = plt.subplots()\n",
    "im = ax.pcolor(grouped_pivot, cmap='RdBu')\n",
    "\n",
    "#label names\n",
    "row_labels = grouped_pivot.columns.levels[1]\n",
    "col_labels = grouped_pivot.index\n",
    "\n",
    "#move ticks and labels to the center\n",
    "ax.set_xticks(np.arange(grouped_pivot.shape[1]) + 0.5, minor=False)\n",
    "ax.set_yticks(np.arange(grouped_pivot.shape[0]) + 0.5, minor=False)\n",
    "\n",
    "#insert labels\n",
    "ax.set_xticklabels(row_labels, minor=False)\n",
    "ax.set_yticklabels(col_labels, minor=False)\n",
    "\n",
    "#rotate label if too long\n",
    "plt.xticks(rotation=90)\n",
    "\n",
    "fig.colorbar(im)\n",
    "plt.show()"
   ],
   "metadata": {
    "collapsed": false,
    "ExecuteTime": {
     "end_time": "2023-08-20T11:05:46.550557Z",
     "start_time": "2023-08-20T11:05:46.480119Z"
    }
   }
  },
  {
   "cell_type": "code",
   "execution_count": 21,
   "outputs": [
    {
     "data": {
      "text/plain": "MultiIndex([('price',   'hardtop'),\n            ('price', 'hatchback'),\n            ('price',     'sedan'),\n            ('price',     'wagon')],\n           names=[None, 'body-style'])"
     },
     "execution_count": 21,
     "metadata": {},
     "output_type": "execute_result"
    }
   ],
   "source": [
    "grouped_pivot.columns"
   ],
   "metadata": {
    "collapsed": false,
    "ExecuteTime": {
     "end_time": "2023-08-20T11:06:10.977717Z",
     "start_time": "2023-08-20T11:06:10.961884Z"
    }
   }
  },
  {
   "cell_type": "code",
   "execution_count": 22,
   "outputs": [
    {
     "data": {
      "text/plain": "Index(['4wd', 'fwd', 'rwd'], dtype='object', name='drive-wheels')"
     },
     "execution_count": 22,
     "metadata": {},
     "output_type": "execute_result"
    }
   ],
   "source": [
    "grouped_pivot.index"
   ],
   "metadata": {
    "collapsed": false,
    "ExecuteTime": {
     "end_time": "2023-08-20T11:06:17.957358Z",
     "start_time": "2023-08-20T11:06:17.930472Z"
    }
   }
  },
  {
   "cell_type": "code",
   "execution_count": 23,
   "outputs": [
    {
     "data": {
      "text/plain": "[<matplotlib.axis.YTick at 0x155846650>,\n <matplotlib.axis.YTick at 0x1537e2e50>,\n <matplotlib.axis.YTick at 0x154433490>]"
     },
     "execution_count": 23,
     "metadata": {},
     "output_type": "execute_result"
    }
   ],
   "source": [
    "#move ticks and labels to the center\n",
    "ax.set_xticks(np.arange(grouped_pivot.shape[1]) + 0.5, minor=False)\n",
    "ax.set_yticks(np.arange(grouped_pivot.shape[0]) + 0.5, minor=False)"
   ],
   "metadata": {
    "collapsed": false,
    "ExecuteTime": {
     "end_time": "2023-08-20T11:06:25.240232Z",
     "start_time": "2023-08-20T11:06:25.226804Z"
    }
   }
  },
  {
   "cell_type": "markdown",
   "source": [
    "In this code snippet, the positions of the ticks and labels on the x and y axes are adjusted to be at the center of the data points in the plot.\n",
    "\n",
    "Let's break down the code:\n",
    "\n",
    "1. ax.set_xticks(np.arange(grouped_pivot.shape[1]) + 0.5, minor=False): This line sets the x-axis ticks. np.arange(grouped_pivot.shape[1]) generates an array of values from 0 to one less than the number of columns in the 'grouped_pivot' DataFrame. Adding 0.5 to each value centers the ticks between the data points. The minor=False parameter ensures that the ticks are placed on the major axis.\n",
    "\n",
    "2. ax.set_yticks(np.arange(grouped_pivot.shape[0]) + 0.5, minor=False): This line sets the y-axis ticks. np.arange(grouped_pivot.shape[0]) generates an array of values from 0 to one less than the number of rows in the 'grouped_pivot' DataFrame. Adding 0.5 to each value centers the ticks between the data points. The minor=False parameter ensures that the ticks are placed on the major axis.\n",
    "\n",
    "By adjusting the ticks and labels to the center of the data points, the plot becomes more visually appealing and easier to interpret, especially when dealing with categorical data represented by a pivot table. This technique helps to avoid confusion that might arise if the ticks and labels are aligned differently than the actual data points they represent."
   ],
   "metadata": {
    "collapsed": false
   }
  },
  {
   "cell_type": "code",
   "execution_count": null,
   "outputs": [],
   "source": [],
   "metadata": {
    "collapsed": false
   }
  }
 ],
 "metadata": {
  "kernelspec": {
   "display_name": "Python 3",
   "language": "python",
   "name": "python3"
  },
  "language_info": {
   "codemirror_mode": {
    "name": "ipython",
    "version": 2
   },
   "file_extension": ".py",
   "mimetype": "text/x-python",
   "name": "python",
   "nbconvert_exporter": "python",
   "pygments_lexer": "ipython2",
   "version": "2.7.6"
  }
 },
 "nbformat": 4,
 "nbformat_minor": 0
}
