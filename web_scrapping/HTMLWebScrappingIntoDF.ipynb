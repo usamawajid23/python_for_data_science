{
 "cells": [
  {
   "cell_type": "markdown",
   "source": [
    "### Scrape data from HTML tables into a DataFrame using BeautifulSoup and Pandas"
   ],
   "metadata": {
    "collapsed": false
   }
  },
  {
   "cell_type": "code",
   "execution_count": 2,
   "outputs": [
    {
     "name": "stdout",
     "output_type": "stream",
     "text": [
      "Requirement already satisfied: pandas in /Users/netvyne/anaconda3/lib/python3.11/site-packages (1.5.3)\r\n",
      "Requirement already satisfied: python-dateutil>=2.8.1 in /Users/netvyne/anaconda3/lib/python3.11/site-packages (from pandas) (2.8.2)\r\n",
      "Requirement already satisfied: pytz>=2020.1 in /Users/netvyne/anaconda3/lib/python3.11/site-packages (from pandas) (2022.7)\r\n",
      "Requirement already satisfied: numpy>=1.21.0 in /Users/netvyne/anaconda3/lib/python3.11/site-packages (from pandas) (1.24.3)\r\n",
      "Requirement already satisfied: six>=1.5 in /Users/netvyne/anaconda3/lib/python3.11/site-packages (from python-dateutil>=2.8.1->pandas) (1.16.0)\r\n",
      "Requirement already satisfied: beautifulsoup4 in /Users/netvyne/anaconda3/lib/python3.11/site-packages (4.12.2)\r\n",
      "Requirement already satisfied: soupsieve>1.2 in /Users/netvyne/anaconda3/lib/python3.11/site-packages (from beautifulsoup4) (2.4)\r\n",
      "Collecting html5lib==1.1\r\n",
      "  Using cached html5lib-1.1-py2.py3-none-any.whl (112 kB)\r\n",
      "Requirement already satisfied: six>=1.9 in /Users/netvyne/anaconda3/lib/python3.11/site-packages (from html5lib==1.1) (1.16.0)\r\n",
      "Requirement already satisfied: webencodings in /Users/netvyne/anaconda3/lib/python3.11/site-packages (from html5lib==1.1) (0.5.1)\r\n",
      "Installing collected packages: html5lib\r\n",
      "Successfully installed html5lib-1.1\r\n",
      "Requirement already satisfied: pandas in /Users/netvyne/anaconda3/lib/python3.11/site-packages (1.5.3)\r\n",
      "Requirement already satisfied: python-dateutil>=2.8.1 in /Users/netvyne/anaconda3/lib/python3.11/site-packages (from pandas) (2.8.2)\r\n",
      "Requirement already satisfied: pytz>=2020.1 in /Users/netvyne/anaconda3/lib/python3.11/site-packages (from pandas) (2022.7)\r\n",
      "Requirement already satisfied: numpy>=1.21.0 in /Users/netvyne/anaconda3/lib/python3.11/site-packages (from pandas) (1.24.3)\r\n",
      "Requirement already satisfied: six>=1.5 in /Users/netvyne/anaconda3/lib/python3.11/site-packages (from python-dateutil>=2.8.1->pandas) (1.16.0)\r\n",
      "Requirement already satisfied: beautifulsoup4 in /Users/netvyne/anaconda3/lib/python3.11/site-packages (4.12.2)\r\n",
      "Requirement already satisfied: soupsieve>1.2 in /Users/netvyne/anaconda3/lib/python3.11/site-packages (from beautifulsoup4) (2.4)\r\n",
      "Requirement already satisfied: html5lib==1.1 in /Users/netvyne/anaconda3/lib/python3.11/site-packages (1.1)\r\n",
      "Requirement already satisfied: six>=1.9 in /Users/netvyne/anaconda3/lib/python3.11/site-packages (from html5lib==1.1) (1.16.0)\r\n",
      "Requirement already satisfied: webencodings in /Users/netvyne/anaconda3/lib/python3.11/site-packages (from html5lib==1.1) (0.5.1)\r\n"
     ]
    }
   ],
   "source": [
    "!pip3 install pandas\n",
    "!pip3 install beautifulsoup4\n",
    "!pip3 install html5lib==1.1"
   ],
   "metadata": {
    "collapsed": false,
    "ExecuteTime": {
     "end_time": "2023-07-28T19:25:22.250132Z",
     "start_time": "2023-07-28T19:25:10.092328Z"
    }
   }
  },
  {
   "cell_type": "code",
   "execution_count": 9,
   "outputs": [],
   "source": [
    "import pandas as pd\n",
    "import requests\n",
    "from bs4 import  BeautifulSoup\n"
   ],
   "metadata": {
    "collapsed": false,
    "ExecuteTime": {
     "end_time": "2023-07-28T18:22:03.690179Z",
     "start_time": "2023-07-28T18:22:03.621769Z"
    }
   }
  },
  {
   "cell_type": "code",
   "execution_count": 10,
   "outputs": [],
   "source": [
    "#The below url contains html tables with data about world population.\n",
    "url = 'https://en.wikipedia.org/wiki/World_population'"
   ],
   "metadata": {
    "collapsed": false,
    "ExecuteTime": {
     "end_time": "2023-07-28T18:22:03.814850Z",
     "start_time": "2023-07-28T18:22:03.811636Z"
    }
   }
  },
  {
   "cell_type": "code",
   "execution_count": 6,
   "outputs": [],
   "source": [
    "# get the contents of the webpage in text format and store in a variable called data\n",
    "data = requests.get(url).text"
   ],
   "metadata": {
    "collapsed": false,
    "ExecuteTime": {
     "end_time": "2023-07-28T18:20:42.448589Z",
     "start_time": "2023-07-28T18:20:41.548408Z"
    }
   }
  },
  {
   "cell_type": "code",
   "execution_count": 12,
   "outputs": [],
   "source": [
    "soup = BeautifulSoup(data, 'html5lib')"
   ],
   "metadata": {
    "collapsed": false,
    "ExecuteTime": {
     "end_time": "2023-07-28T18:22:48.473738Z",
     "start_time": "2023-07-28T18:22:48.212066Z"
    }
   }
  },
  {
   "cell_type": "code",
   "execution_count": 13,
   "outputs": [],
   "source": [
    "# find all html tables in web page\n",
    "tables = soup.find_all('table') # in html table is represented by the tag <table>"
   ],
   "metadata": {
    "collapsed": false,
    "ExecuteTime": {
     "end_time": "2023-07-28T18:23:48.832442Z",
     "start_time": "2023-07-28T18:23:48.826942Z"
    }
   }
  },
  {
   "cell_type": "code",
   "execution_count": 15,
   "outputs": [
    {
     "data": {
      "text/plain": "29"
     },
     "execution_count": 15,
     "metadata": {},
     "output_type": "execute_result"
    }
   ],
   "source": [
    "# we can see how many tables were found by checking the length of the tables list\n",
    "len(tables)"
   ],
   "metadata": {
    "collapsed": false,
    "ExecuteTime": {
     "end_time": "2023-07-28T18:24:50.592438Z",
     "start_time": "2023-07-28T18:24:50.590170Z"
    }
   }
  },
  {
   "cell_type": "code",
   "execution_count": 16,
   "outputs": [
    {
     "name": "stdout",
     "output_type": "stream",
     "text": [
      "7\n"
     ]
    }
   ],
   "source": [
    "for index, table in enumerate(tables):\n",
    "    if('10 most densely populated countries' in str(table)):\n",
    "        table_index = index\n",
    "print(table_index)"
   ],
   "metadata": {
    "collapsed": false,
    "ExecuteTime": {
     "end_time": "2023-07-28T18:29:40.669257Z",
     "start_time": "2023-07-28T18:29:40.667321Z"
    }
   }
  },
  {
   "cell_type": "code",
   "execution_count": 17,
   "outputs": [
    {
     "name": "stdout",
     "output_type": "stream",
     "text": [
      "<table class=\"wikitable sortable\" style=\"text-align:right\">\n",
      " <caption>\n",
      "  10 most densely populated countries\n",
      "  <small>\n",
      "   (with population above 5 million)\n",
      "  </small>\n",
      "  <sup class=\"reference\" id=\"cite_ref-:10_106-0\">\n",
      "   <a href=\"#cite_note-:10-106\">\n",
      "    [102]\n",
      "   </a>\n",
      "  </sup>\n",
      " </caption>\n",
      " <tbody>\n",
      "  <tr>\n",
      "   <th scope=\"col\">\n",
      "    Rank\n",
      "   </th>\n",
      "   <th scope=\"col\">\n",
      "    Country\n",
      "   </th>\n",
      "   <th scope=\"col\">\n",
      "    Population\n",
      "   </th>\n",
      "   <th scope=\"col\">\n",
      "    Area\n",
      "    <br/>\n",
      "    <small>\n",
      "     (km\n",
      "     <sup>\n",
      "      2\n",
      "     </sup>\n",
      "     )\n",
      "    </small>\n",
      "   </th>\n",
      "   <th scope=\"col\">\n",
      "    Density\n",
      "    <br/>\n",
      "    <small>\n",
      "     (pop/km\n",
      "     <sup>\n",
      "      2\n",
      "     </sup>\n",
      "     )\n",
      "    </small>\n",
      "   </th>\n",
      "  </tr>\n",
      "  <tr>\n",
      "   <td>\n",
      "    1\n",
      "   </td>\n",
      "   <td align=\"left\">\n",
      "    <span class=\"flagicon\">\n",
      "     <span class=\"mw-image-border\" typeof=\"mw:File\">\n",
      "      <span>\n",
      "       <img alt=\"\" class=\"mw-file-element\" data-file-height=\"600\" data-file-width=\"900\" decoding=\"async\" height=\"15\" src=\"//upload.wikimedia.org/wikipedia/commons/thumb/4/48/Flag_of_Singapore.svg/23px-Flag_of_Singapore.svg.png\" srcset=\"//upload.wikimedia.org/wikipedia/commons/thumb/4/48/Flag_of_Singapore.svg/35px-Flag_of_Singapore.svg.png 1.5x, //upload.wikimedia.org/wikipedia/commons/thumb/4/48/Flag_of_Singapore.svg/45px-Flag_of_Singapore.svg.png 2x\" width=\"23\"/>\n",
      "      </span>\n",
      "     </span>\n",
      "    </span>\n",
      "    <a href=\"/wiki/Singapore\" title=\"Singapore\">\n",
      "     Singapore\n",
      "    </a>\n",
      "   </td>\n",
      "   <td>\n",
      "    5,921,231\n",
      "   </td>\n",
      "   <td>\n",
      "    719\n",
      "   </td>\n",
      "   <td>\n",
      "    8,235\n",
      "   </td>\n",
      "  </tr>\n",
      "  <tr>\n",
      "   <td>\n",
      "    2\n",
      "   </td>\n",
      "   <td align=\"left\">\n",
      "    <span class=\"flagicon\">\n",
      "     <span class=\"mw-image-border\" typeof=\"mw:File\">\n",
      "      <span>\n",
      "       <img alt=\"\" class=\"mw-file-element\" data-file-height=\"600\" data-file-width=\"1000\" decoding=\"async\" height=\"14\" src=\"//upload.wikimedia.org/wikipedia/commons/thumb/f/f9/Flag_of_Bangladesh.svg/23px-Flag_of_Bangladesh.svg.png\" srcset=\"//upload.wikimedia.org/wikipedia/commons/thumb/f/f9/Flag_of_Bangladesh.svg/35px-Flag_of_Bangladesh.svg.png 1.5x, //upload.wikimedia.org/wikipedia/commons/thumb/f/f9/Flag_of_Bangladesh.svg/46px-Flag_of_Bangladesh.svg.png 2x\" width=\"23\"/>\n",
      "      </span>\n",
      "     </span>\n",
      "    </span>\n",
      "    <a href=\"/wiki/Bangladesh\" title=\"Bangladesh\">\n",
      "     Bangladesh\n",
      "    </a>\n",
      "   </td>\n",
      "   <td>\n",
      "    165,650,475\n",
      "   </td>\n",
      "   <td>\n",
      "    148,460\n",
      "   </td>\n",
      "   <td>\n",
      "    1,116\n",
      "   </td>\n",
      "  </tr>\n",
      "  <tr>\n",
      "   <td>\n",
      "    3\n",
      "   </td>\n",
      "   <td align=\"left\">\n",
      "    <p>\n",
      "     <span class=\"flagicon\">\n",
      "      <span class=\"mw-image-border\" typeof=\"mw:File\">\n",
      "       <span>\n",
      "        <img alt=\"\" class=\"mw-file-element\" data-file-height=\"600\" data-file-width=\"1200\" decoding=\"async\" height=\"12\" src=\"//upload.wikimedia.org/wikipedia/commons/thumb/0/00/Flag_of_Palestine.svg/23px-Flag_of_Palestine.svg.png\" srcset=\"//upload.wikimedia.org/wikipedia/commons/thumb/0/00/Flag_of_Palestine.svg/35px-Flag_of_Palestine.svg.png 1.5x, //upload.wikimedia.org/wikipedia/commons/thumb/0/00/Flag_of_Palestine.svg/46px-Flag_of_Palestine.svg.png 2x\" width=\"23\"/>\n",
      "       </span>\n",
      "      </span>\n",
      "     </span>\n",
      "     <a href=\"/wiki/State_of_Palestine\" title=\"State of Palestine\">\n",
      "      Palestine\n",
      "     </a>\n",
      "     <sup class=\"reference\" id=\"cite_ref-107\">\n",
      "      <a href=\"#cite_note-107\">\n",
      "       [103]\n",
      "      </a>\n",
      "     </sup>\n",
      "    </p>\n",
      "   </td>\n",
      "   <td>\n",
      "    5,223,000\n",
      "   </td>\n",
      "   <td>\n",
      "    6,025\n",
      "   </td>\n",
      "   <td>\n",
      "    867\n",
      "   </td>\n",
      "  </tr>\n",
      "  <tr>\n",
      "   <td>\n",
      "    4\n",
      "   </td>\n",
      "   <td align=\"left\">\n",
      "    <span class=\"flagicon\">\n",
      "     <span class=\"mw-image-border\" typeof=\"mw:File\">\n",
      "      <span>\n",
      "       <img alt=\"\" class=\"mw-file-element\" data-file-height=\"600\" data-file-width=\"900\" decoding=\"async\" height=\"15\" src=\"//upload.wikimedia.org/wikipedia/commons/thumb/7/72/Flag_of_the_Republic_of_China.svg/23px-Flag_of_the_Republic_of_China.svg.png\" srcset=\"//upload.wikimedia.org/wikipedia/commons/thumb/7/72/Flag_of_the_Republic_of_China.svg/35px-Flag_of_the_Republic_of_China.svg.png 1.5x, //upload.wikimedia.org/wikipedia/commons/thumb/7/72/Flag_of_the_Republic_of_China.svg/45px-Flag_of_the_Republic_of_China.svg.png 2x\" width=\"23\"/>\n",
      "      </span>\n",
      "     </span>\n",
      "    </span>\n",
      "    <a href=\"/wiki/Taiwan\" title=\"Taiwan\">\n",
      "     Taiwan\n",
      "    </a>\n",
      "   </td>\n",
      "   <td>\n",
      "    23,580,712\n",
      "   </td>\n",
      "   <td>\n",
      "    35,980\n",
      "   </td>\n",
      "   <td>\n",
      "    655\n",
      "   </td>\n",
      "  </tr>\n",
      "  <tr>\n",
      "   <td>\n",
      "    5\n",
      "   </td>\n",
      "   <td align=\"left\">\n",
      "    <span class=\"flagicon\">\n",
      "     <span class=\"mw-image-border\" typeof=\"mw:File\">\n",
      "      <span>\n",
      "       <img alt=\"\" class=\"mw-file-element\" data-file-height=\"600\" data-file-width=\"900\" decoding=\"async\" height=\"15\" src=\"//upload.wikimedia.org/wikipedia/commons/thumb/0/09/Flag_of_South_Korea.svg/23px-Flag_of_South_Korea.svg.png\" srcset=\"//upload.wikimedia.org/wikipedia/commons/thumb/0/09/Flag_of_South_Korea.svg/35px-Flag_of_South_Korea.svg.png 1.5x, //upload.wikimedia.org/wikipedia/commons/thumb/0/09/Flag_of_South_Korea.svg/45px-Flag_of_South_Korea.svg.png 2x\" width=\"23\"/>\n",
      "      </span>\n",
      "     </span>\n",
      "    </span>\n",
      "    <a href=\"/wiki/South_Korea\" title=\"South Korea\">\n",
      "     South Korea\n",
      "    </a>\n",
      "   </td>\n",
      "   <td>\n",
      "    51,844,834\n",
      "   </td>\n",
      "   <td>\n",
      "    99,720\n",
      "   </td>\n",
      "   <td>\n",
      "    520\n",
      "   </td>\n",
      "  </tr>\n",
      "  <tr>\n",
      "   <td>\n",
      "    6\n",
      "   </td>\n",
      "   <td align=\"left\">\n",
      "    <span class=\"flagicon\">\n",
      "     <span class=\"mw-image-border\" typeof=\"mw:File\">\n",
      "      <span>\n",
      "       <img alt=\"\" class=\"mw-file-element\" data-file-height=\"600\" data-file-width=\"900\" decoding=\"async\" height=\"15\" src=\"//upload.wikimedia.org/wikipedia/commons/thumb/5/59/Flag_of_Lebanon.svg/23px-Flag_of_Lebanon.svg.png\" srcset=\"//upload.wikimedia.org/wikipedia/commons/thumb/5/59/Flag_of_Lebanon.svg/35px-Flag_of_Lebanon.svg.png 1.5x, //upload.wikimedia.org/wikipedia/commons/thumb/5/59/Flag_of_Lebanon.svg/45px-Flag_of_Lebanon.svg.png 2x\" width=\"23\"/>\n",
      "      </span>\n",
      "     </span>\n",
      "    </span>\n",
      "    <a href=\"/wiki/Lebanon\" title=\"Lebanon\">\n",
      "     Lebanon\n",
      "    </a>\n",
      "   </td>\n",
      "   <td>\n",
      "    5,296,814\n",
      "   </td>\n",
      "   <td>\n",
      "    10,400\n",
      "   </td>\n",
      "   <td>\n",
      "    509\n",
      "   </td>\n",
      "  </tr>\n",
      "  <tr>\n",
      "   <td>\n",
      "    7\n",
      "   </td>\n",
      "   <td align=\"left\">\n",
      "    <span class=\"flagicon\">\n",
      "     <span class=\"mw-image-border\" typeof=\"mw:File\">\n",
      "      <span>\n",
      "       <img alt=\"\" class=\"mw-file-element\" data-file-height=\"600\" data-file-width=\"900\" decoding=\"async\" height=\"15\" src=\"//upload.wikimedia.org/wikipedia/commons/thumb/1/17/Flag_of_Rwanda.svg/23px-Flag_of_Rwanda.svg.png\" srcset=\"//upload.wikimedia.org/wikipedia/commons/thumb/1/17/Flag_of_Rwanda.svg/35px-Flag_of_Rwanda.svg.png 1.5x, //upload.wikimedia.org/wikipedia/commons/thumb/1/17/Flag_of_Rwanda.svg/45px-Flag_of_Rwanda.svg.png 2x\" width=\"23\"/>\n",
      "      </span>\n",
      "     </span>\n",
      "    </span>\n",
      "    <a href=\"/wiki/Rwanda\" title=\"Rwanda\">\n",
      "     Rwanda\n",
      "    </a>\n",
      "   </td>\n",
      "   <td>\n",
      "    13,173,730\n",
      "   </td>\n",
      "   <td>\n",
      "    26,338\n",
      "   </td>\n",
      "   <td>\n",
      "    500\n",
      "   </td>\n",
      "  </tr>\n",
      "  <tr>\n",
      "   <td>\n",
      "    8\n",
      "   </td>\n",
      "   <td align=\"left\">\n",
      "    <span class=\"flagicon\">\n",
      "     <span class=\"mw-image-border\" typeof=\"mw:File\">\n",
      "      <span>\n",
      "       <img alt=\"\" class=\"mw-file-element\" data-file-height=\"600\" data-file-width=\"1000\" decoding=\"async\" height=\"14\" src=\"//upload.wikimedia.org/wikipedia/commons/thumb/5/50/Flag_of_Burundi.svg/23px-Flag_of_Burundi.svg.png\" srcset=\"//upload.wikimedia.org/wikipedia/commons/thumb/5/50/Flag_of_Burundi.svg/35px-Flag_of_Burundi.svg.png 1.5x, //upload.wikimedia.org/wikipedia/commons/thumb/5/50/Flag_of_Burundi.svg/46px-Flag_of_Burundi.svg.png 2x\" width=\"23\"/>\n",
      "      </span>\n",
      "     </span>\n",
      "    </span>\n",
      "    <a href=\"/wiki/Burundi\" title=\"Burundi\">\n",
      "     Burundi\n",
      "    </a>\n",
      "   </td>\n",
      "   <td>\n",
      "    12,696,478\n",
      "   </td>\n",
      "   <td>\n",
      "    27,830\n",
      "   </td>\n",
      "   <td>\n",
      "    456\n",
      "   </td>\n",
      "  </tr>\n",
      "  <tr>\n",
      "   <td>\n",
      "    9\n",
      "   </td>\n",
      "   <td align=\"left\">\n",
      "    <span class=\"flagicon\">\n",
      "     <span class=\"mw-image-border\" typeof=\"mw:File\">\n",
      "      <span>\n",
      "       <img alt=\"\" class=\"mw-file-element\" data-file-height=\"600\" data-file-width=\"900\" decoding=\"async\" height=\"15\" src=\"//upload.wikimedia.org/wikipedia/en/thumb/4/41/Flag_of_India.svg/23px-Flag_of_India.svg.png\" srcset=\"//upload.wikimedia.org/wikipedia/en/thumb/4/41/Flag_of_India.svg/35px-Flag_of_India.svg.png 1.5x, //upload.wikimedia.org/wikipedia/en/thumb/4/41/Flag_of_India.svg/45px-Flag_of_India.svg.png 2x\" width=\"23\"/>\n",
      "      </span>\n",
      "     </span>\n",
      "    </span>\n",
      "    <a href=\"/wiki/India\" title=\"India\">\n",
      "     India\n",
      "    </a>\n",
      "   </td>\n",
      "   <td>\n",
      "    1,389,637,446\n",
      "   </td>\n",
      "   <td>\n",
      "    3,287,263\n",
      "   </td>\n",
      "   <td>\n",
      "    423\n",
      "   </td>\n",
      "  </tr>\n",
      "  <tr>\n",
      "   <td>\n",
      "    10\n",
      "   </td>\n",
      "   <td align=\"left\">\n",
      "    <span class=\"flagicon\">\n",
      "     <span class=\"mw-image-border\" typeof=\"mw:File\">\n",
      "      <span>\n",
      "       <img alt=\"\" class=\"mw-file-element\" data-file-height=\"600\" data-file-width=\"900\" decoding=\"async\" height=\"15\" src=\"//upload.wikimedia.org/wikipedia/commons/thumb/2/20/Flag_of_the_Netherlands.svg/23px-Flag_of_the_Netherlands.svg.png\" srcset=\"//upload.wikimedia.org/wikipedia/commons/thumb/2/20/Flag_of_the_Netherlands.svg/35px-Flag_of_the_Netherlands.svg.png 1.5x, //upload.wikimedia.org/wikipedia/commons/thumb/2/20/Flag_of_the_Netherlands.svg/45px-Flag_of_the_Netherlands.svg.png 2x\" width=\"23\"/>\n",
      "      </span>\n",
      "     </span>\n",
      "    </span>\n",
      "    <a href=\"/wiki/Netherlands\" title=\"Netherlands\">\n",
      "     Netherlands\n",
      "    </a>\n",
      "   </td>\n",
      "   <td>\n",
      "    17,400,824\n",
      "   </td>\n",
      "   <td>\n",
      "    41,543\n",
      "   </td>\n",
      "   <td>\n",
      "    419\n",
      "   </td>\n",
      "  </tr>\n",
      " </tbody>\n",
      "</table>\n",
      "\n"
     ]
    }
   ],
   "source": [
    "print(tables[table_index].prettify())"
   ],
   "metadata": {
    "collapsed": false,
    "ExecuteTime": {
     "end_time": "2023-07-28T18:30:33.281808Z",
     "start_time": "2023-07-28T18:30:33.276378Z"
    }
   }
  },
  {
   "cell_type": "code",
   "execution_count": 21,
   "outputs": [
    {
     "data": {
      "text/plain": "  Rank                Country     Population       Area Density\n0    1              Singapore      5,921,231        719   8,235\n1    2             Bangladesh    165,650,475    148,460   1,116\n2    3  \\n Palestine[103]\\n\\n      5,223,000      6,025     867\n3    4                 Taiwan     23,580,712     35,980     655\n4    5            South Korea     51,844,834     99,720     520\n5    6                Lebanon      5,296,814     10,400     509\n6    7                 Rwanda     13,173,730     26,338     500\n7    8                Burundi     12,696,478     27,830     456\n8    9                  India  1,389,637,446  3,287,263     423\n9   10            Netherlands     17,400,824     41,543     419",
      "text/html": "<div>\n<style scoped>\n    .dataframe tbody tr th:only-of-type {\n        vertical-align: middle;\n    }\n\n    .dataframe tbody tr th {\n        vertical-align: top;\n    }\n\n    .dataframe thead th {\n        text-align: right;\n    }\n</style>\n<table border=\"1\" class=\"dataframe\">\n  <thead>\n    <tr style=\"text-align: right;\">\n      <th></th>\n      <th>Rank</th>\n      <th>Country</th>\n      <th>Population</th>\n      <th>Area</th>\n      <th>Density</th>\n    </tr>\n  </thead>\n  <tbody>\n    <tr>\n      <th>0</th>\n      <td>1</td>\n      <td>Singapore</td>\n      <td>5,921,231</td>\n      <td>719</td>\n      <td>8,235</td>\n    </tr>\n    <tr>\n      <th>1</th>\n      <td>2</td>\n      <td>Bangladesh</td>\n      <td>165,650,475</td>\n      <td>148,460</td>\n      <td>1,116</td>\n    </tr>\n    <tr>\n      <th>2</th>\n      <td>3</td>\n      <td>\\n Palestine[103]\\n\\n</td>\n      <td>5,223,000</td>\n      <td>6,025</td>\n      <td>867</td>\n    </tr>\n    <tr>\n      <th>3</th>\n      <td>4</td>\n      <td>Taiwan</td>\n      <td>23,580,712</td>\n      <td>35,980</td>\n      <td>655</td>\n    </tr>\n    <tr>\n      <th>4</th>\n      <td>5</td>\n      <td>South Korea</td>\n      <td>51,844,834</td>\n      <td>99,720</td>\n      <td>520</td>\n    </tr>\n    <tr>\n      <th>5</th>\n      <td>6</td>\n      <td>Lebanon</td>\n      <td>5,296,814</td>\n      <td>10,400</td>\n      <td>509</td>\n    </tr>\n    <tr>\n      <th>6</th>\n      <td>7</td>\n      <td>Rwanda</td>\n      <td>13,173,730</td>\n      <td>26,338</td>\n      <td>500</td>\n    </tr>\n    <tr>\n      <th>7</th>\n      <td>8</td>\n      <td>Burundi</td>\n      <td>12,696,478</td>\n      <td>27,830</td>\n      <td>456</td>\n    </tr>\n    <tr>\n      <th>8</th>\n      <td>9</td>\n      <td>India</td>\n      <td>1,389,637,446</td>\n      <td>3,287,263</td>\n      <td>423</td>\n    </tr>\n    <tr>\n      <th>9</th>\n      <td>10</td>\n      <td>Netherlands</td>\n      <td>17,400,824</td>\n      <td>41,543</td>\n      <td>419</td>\n    </tr>\n  </tbody>\n</table>\n</div>"
     },
     "execution_count": 21,
     "metadata": {},
     "output_type": "execute_result"
    }
   ],
   "source": [
    "population_data = pd.DataFrame(columns=['Rank', 'Country', 'Population', 'Area', 'Density'])\n",
    "for row in tables[table_index].tbody.find_all('tr'):\n",
    "    col = row.find_all('td')\n",
    "    if col:\n",
    "        rank = col[0].text\n",
    "        country = col[1].text\n",
    "        population = col[2].text.strip()\n",
    "        area = col[3].text.strip()\n",
    "        density = col[4].text.strip()\n",
    "        row_data = pd.DataFrame({'Rank': [rank], 'Country': [country], 'Population': [population], 'Area': [area], 'Density': [density]})\n",
    "        population_data = pd.concat([population_data, row_data], ignore_index=True)\n",
    "population_data"
   ],
   "metadata": {
    "collapsed": false,
    "ExecuteTime": {
     "end_time": "2023-07-28T18:50:28.519648Z",
     "start_time": "2023-07-28T18:50:28.503296Z"
    }
   }
  },
  {
   "cell_type": "markdown",
   "source": [
    "### Scrape data from HTML tables into a DataFrame using BeautifulSoup and read_html"
   ],
   "metadata": {
    "collapsed": false
   }
  },
  {
   "cell_type": "code",
   "execution_count": 22,
   "outputs": [
    {
     "data": {
      "text/plain": "                                                             #  \\\n   Graphs are temporarily unavailable due to technical issues.   \n   Graphs are temporarily unavailable due to technical issues.   \n   Graphs are temporarily unavailable due to technical issues.   \n   Graphs are temporarily unavailable due to technical issues.   \n   Graphs are temporarily unavailable due to technical issues.   \n   Graphs are temporarily unavailable due to technical issues.   \n   Graphs are temporarily unavailable due to technical issues.   \n   Graphs are temporarily unavailable due to technical issues.   \n   Graphs are temporarily unavailable due to technical issues.   \n   Graphs are temporarily unavailable due to technical issues.   \n   Graphs are temporarily unavailable due to technical issues.   \n0                                                 NaN            \n1                                                   1            \n2                                                   2            \n3                                                   3            \n4                                                   4            \n5                                                   5            \n6                                                   6            \n7                                                   7            \n8                                                   8            \n9                                                   9            \n10                                                 10            \n11                                                NaN            \n12  Notes: .mw-parser-output .reflist{font-size:90...            \n\n                              Most populous countries  \\\n                                   Unnamed: 1_level_1   \n                                   Unnamed: 1_level_2   \n                                   Unnamed: 1_level_3   \n                                   Unnamed: 1_level_4   \n                                   Unnamed: 1_level_5   \n                                   Unnamed: 1_level_6   \n                                   Unnamed: 1_level_7   \n                                   Unnamed: 1_level_8   \n                                   Unnamed: 1_level_9   \n                                  Unnamed: 1_level_10   \n                                  Unnamed: 1_level_11   \n0   Graphs are temporarily unavailable due to tech...   \n1                                            China[B]   \n2                                               India   \n3                                       United States   \n4                                           Indonesia   \n5                                            Pakistan   \n6                                              Brazil   \n7                                             Nigeria   \n8                                          Bangladesh   \n9                                              Russia   \n10                                             Mexico   \n11                                        World total   \n12  Notes: .mw-parser-output .reflist{font-size:90...   \n\n                                                 2000  \\\n                                   Unnamed: 2_level_1   \n                                   Unnamed: 2_level_2   \n                                   Unnamed: 2_level_3   \n                                   Unnamed: 2_level_4   \n                                   Unnamed: 2_level_5   \n                                   Unnamed: 2_level_6   \n                                   Unnamed: 2_level_7   \n                                   Unnamed: 2_level_8   \n                                   Unnamed: 2_level_9   \n                                  Unnamed: 2_level_10   \n                                  Unnamed: 2_level_11   \n0                                                 NaN   \n1                                                1270   \n2                                                1053   \n3                                                 283   \n4                                                 212   \n5                                                 136   \n6                                                 176   \n7                                                 123   \n8                                                 131   \n9                                                 146   \n10                                                103   \n11                                               6127   \n12  Notes: .mw-parser-output .reflist{font-size:90...   \n\n                                                 2015  \\\n                                   Unnamed: 3_level_1   \n                                   Unnamed: 3_level_2   \n                                   Unnamed: 3_level_3   \n                                   Unnamed: 3_level_4   \n                                   Unnamed: 3_level_5   \n                                   Unnamed: 3_level_6   \n                                   Unnamed: 3_level_7   \n                                   Unnamed: 3_level_8   \n                                   Unnamed: 3_level_9   \n                                  Unnamed: 3_level_10   \n                                  Unnamed: 3_level_11   \n0                                                 NaN   \n1                                                1376   \n2                                                1311   \n3                                                 322   \n4                                                 258   \n5                                                 208   \n6                                                 206   \n7                                                 182   \n8                                                 161   \n9                                                 146   \n10                                                127   \n11                                               7349   \n12  Notes: .mw-parser-output .reflist{font-size:90...   \n\n                                              2030[A]  \\\n                                   Unnamed: 4_level_1   \n                                   Unnamed: 4_level_2   \n                                   Unnamed: 4_level_3   \n                                   Unnamed: 4_level_4   \n                                   Unnamed: 4_level_5   \n                                   Unnamed: 4_level_6   \n                                   Unnamed: 4_level_7   \n                                   Unnamed: 4_level_8   \n                                   Unnamed: 4_level_9   \n                                  Unnamed: 4_level_10   \n                                  Unnamed: 4_level_11   \n0                                                 NaN   \n1                                                1416   \n2                                                1528   \n3                                                 356   \n4                                                 295   \n5                                                 245   \n6                                                 228   \n7                                                 263   \n8                                                 186   \n9                                                 149   \n10                                                148   \n11                                               8501   \n12  Notes: .mw-parser-output .reflist{font-size:90...   \n\n   Graphs are temporarily unavailable due to technical issues.  \n                                            Unnamed: 5_level_1  \n                                            Unnamed: 5_level_2  \n                                            Unnamed: 5_level_3  \n                                            Unnamed: 5_level_4  \n                                            Unnamed: 5_level_5  \n                                            Unnamed: 5_level_6  \n                                            Unnamed: 5_level_7  \n                                            Unnamed: 5_level_8  \n                                            Unnamed: 5_level_9  \n                                           Unnamed: 5_level_10  \n                                           Unnamed: 5_level_11  \n0                                                 NaN           \n1                                                 NaN           \n2                                                 NaN           \n3                                                 NaN           \n4                                                 NaN           \n5                                                 NaN           \n6                                                 NaN           \n7                                                 NaN           \n8                                                 NaN           \n9                                                 NaN           \n10                                                NaN           \n11                                                NaN           \n12  Notes: .mw-parser-output .reflist{font-size:90...           ",
      "text/html": "<div>\n<style scoped>\n    .dataframe tbody tr th:only-of-type {\n        vertical-align: middle;\n    }\n\n    .dataframe tbody tr th {\n        vertical-align: top;\n    }\n\n    .dataframe thead tr th {\n        text-align: left;\n    }\n</style>\n<table border=\"1\" class=\"dataframe\">\n  <thead>\n    <tr>\n      <th></th>\n      <th>#</th>\n      <th>Most populous countries</th>\n      <th>2000</th>\n      <th>2015</th>\n      <th>2030[A]</th>\n      <th>Graphs are temporarily unavailable due to technical issues.</th>\n    </tr>\n    <tr>\n      <th></th>\n      <th>Graphs are temporarily unavailable due to technical issues.</th>\n      <th>Unnamed: 1_level_1</th>\n      <th>Unnamed: 2_level_1</th>\n      <th>Unnamed: 3_level_1</th>\n      <th>Unnamed: 4_level_1</th>\n      <th>Unnamed: 5_level_1</th>\n    </tr>\n    <tr>\n      <th></th>\n      <th>Graphs are temporarily unavailable due to technical issues.</th>\n      <th>Unnamed: 1_level_2</th>\n      <th>Unnamed: 2_level_2</th>\n      <th>Unnamed: 3_level_2</th>\n      <th>Unnamed: 4_level_2</th>\n      <th>Unnamed: 5_level_2</th>\n    </tr>\n    <tr>\n      <th></th>\n      <th>Graphs are temporarily unavailable due to technical issues.</th>\n      <th>Unnamed: 1_level_3</th>\n      <th>Unnamed: 2_level_3</th>\n      <th>Unnamed: 3_level_3</th>\n      <th>Unnamed: 4_level_3</th>\n      <th>Unnamed: 5_level_3</th>\n    </tr>\n    <tr>\n      <th></th>\n      <th>Graphs are temporarily unavailable due to technical issues.</th>\n      <th>Unnamed: 1_level_4</th>\n      <th>Unnamed: 2_level_4</th>\n      <th>Unnamed: 3_level_4</th>\n      <th>Unnamed: 4_level_4</th>\n      <th>Unnamed: 5_level_4</th>\n    </tr>\n    <tr>\n      <th></th>\n      <th>Graphs are temporarily unavailable due to technical issues.</th>\n      <th>Unnamed: 1_level_5</th>\n      <th>Unnamed: 2_level_5</th>\n      <th>Unnamed: 3_level_5</th>\n      <th>Unnamed: 4_level_5</th>\n      <th>Unnamed: 5_level_5</th>\n    </tr>\n    <tr>\n      <th></th>\n      <th>Graphs are temporarily unavailable due to technical issues.</th>\n      <th>Unnamed: 1_level_6</th>\n      <th>Unnamed: 2_level_6</th>\n      <th>Unnamed: 3_level_6</th>\n      <th>Unnamed: 4_level_6</th>\n      <th>Unnamed: 5_level_6</th>\n    </tr>\n    <tr>\n      <th></th>\n      <th>Graphs are temporarily unavailable due to technical issues.</th>\n      <th>Unnamed: 1_level_7</th>\n      <th>Unnamed: 2_level_7</th>\n      <th>Unnamed: 3_level_7</th>\n      <th>Unnamed: 4_level_7</th>\n      <th>Unnamed: 5_level_7</th>\n    </tr>\n    <tr>\n      <th></th>\n      <th>Graphs are temporarily unavailable due to technical issues.</th>\n      <th>Unnamed: 1_level_8</th>\n      <th>Unnamed: 2_level_8</th>\n      <th>Unnamed: 3_level_8</th>\n      <th>Unnamed: 4_level_8</th>\n      <th>Unnamed: 5_level_8</th>\n    </tr>\n    <tr>\n      <th></th>\n      <th>Graphs are temporarily unavailable due to technical issues.</th>\n      <th>Unnamed: 1_level_9</th>\n      <th>Unnamed: 2_level_9</th>\n      <th>Unnamed: 3_level_9</th>\n      <th>Unnamed: 4_level_9</th>\n      <th>Unnamed: 5_level_9</th>\n    </tr>\n    <tr>\n      <th></th>\n      <th>Graphs are temporarily unavailable due to technical issues.</th>\n      <th>Unnamed: 1_level_10</th>\n      <th>Unnamed: 2_level_10</th>\n      <th>Unnamed: 3_level_10</th>\n      <th>Unnamed: 4_level_10</th>\n      <th>Unnamed: 5_level_10</th>\n    </tr>\n    <tr>\n      <th></th>\n      <th>Graphs are temporarily unavailable due to technical issues.</th>\n      <th>Unnamed: 1_level_11</th>\n      <th>Unnamed: 2_level_11</th>\n      <th>Unnamed: 3_level_11</th>\n      <th>Unnamed: 4_level_11</th>\n      <th>Unnamed: 5_level_11</th>\n    </tr>\n  </thead>\n  <tbody>\n    <tr>\n      <th>0</th>\n      <td>NaN</td>\n      <td>Graphs are temporarily unavailable due to tech...</td>\n      <td>NaN</td>\n      <td>NaN</td>\n      <td>NaN</td>\n      <td>NaN</td>\n    </tr>\n    <tr>\n      <th>1</th>\n      <td>1</td>\n      <td>China[B]</td>\n      <td>1270</td>\n      <td>1376</td>\n      <td>1416</td>\n      <td>NaN</td>\n    </tr>\n    <tr>\n      <th>2</th>\n      <td>2</td>\n      <td>India</td>\n      <td>1053</td>\n      <td>1311</td>\n      <td>1528</td>\n      <td>NaN</td>\n    </tr>\n    <tr>\n      <th>3</th>\n      <td>3</td>\n      <td>United States</td>\n      <td>283</td>\n      <td>322</td>\n      <td>356</td>\n      <td>NaN</td>\n    </tr>\n    <tr>\n      <th>4</th>\n      <td>4</td>\n      <td>Indonesia</td>\n      <td>212</td>\n      <td>258</td>\n      <td>295</td>\n      <td>NaN</td>\n    </tr>\n    <tr>\n      <th>5</th>\n      <td>5</td>\n      <td>Pakistan</td>\n      <td>136</td>\n      <td>208</td>\n      <td>245</td>\n      <td>NaN</td>\n    </tr>\n    <tr>\n      <th>6</th>\n      <td>6</td>\n      <td>Brazil</td>\n      <td>176</td>\n      <td>206</td>\n      <td>228</td>\n      <td>NaN</td>\n    </tr>\n    <tr>\n      <th>7</th>\n      <td>7</td>\n      <td>Nigeria</td>\n      <td>123</td>\n      <td>182</td>\n      <td>263</td>\n      <td>NaN</td>\n    </tr>\n    <tr>\n      <th>8</th>\n      <td>8</td>\n      <td>Bangladesh</td>\n      <td>131</td>\n      <td>161</td>\n      <td>186</td>\n      <td>NaN</td>\n    </tr>\n    <tr>\n      <th>9</th>\n      <td>9</td>\n      <td>Russia</td>\n      <td>146</td>\n      <td>146</td>\n      <td>149</td>\n      <td>NaN</td>\n    </tr>\n    <tr>\n      <th>10</th>\n      <td>10</td>\n      <td>Mexico</td>\n      <td>103</td>\n      <td>127</td>\n      <td>148</td>\n      <td>NaN</td>\n    </tr>\n    <tr>\n      <th>11</th>\n      <td>NaN</td>\n      <td>World total</td>\n      <td>6127</td>\n      <td>7349</td>\n      <td>8501</td>\n      <td>NaN</td>\n    </tr>\n    <tr>\n      <th>12</th>\n      <td>Notes: .mw-parser-output .reflist{font-size:90...</td>\n      <td>Notes: .mw-parser-output .reflist{font-size:90...</td>\n      <td>Notes: .mw-parser-output .reflist{font-size:90...</td>\n      <td>Notes: .mw-parser-output .reflist{font-size:90...</td>\n      <td>Notes: .mw-parser-output .reflist{font-size:90...</td>\n      <td>Notes: .mw-parser-output .reflist{font-size:90...</td>\n    </tr>\n  </tbody>\n</table>\n</div>"
     },
     "execution_count": 22,
     "metadata": {},
     "output_type": "execute_result"
    }
   ],
   "source": [
    "pd.read_html(str(tables[5]), flavor='bs4')[0]\n"
   ],
   "metadata": {
    "collapsed": false,
    "ExecuteTime": {
     "end_time": "2023-07-28T19:14:20.409141Z",
     "start_time": "2023-07-28T19:14:20.394168Z"
    }
   }
  },
  {
   "cell_type": "code",
   "execution_count": 23,
   "outputs": [
    {
     "data": {
      "text/plain": "  Rank                Country     Population       Area Density\n0    1              Singapore      5,921,231        719   8,235\n1    2             Bangladesh    165,650,475    148,460   1,116\n2    3  \\n Palestine[103]\\n\\n      5,223,000      6,025     867\n3    4                 Taiwan     23,580,712     35,980     655\n4    5            South Korea     51,844,834     99,720     520\n5    6                Lebanon      5,296,814     10,400     509\n6    7                 Rwanda     13,173,730     26,338     500\n7    8                Burundi     12,696,478     27,830     456\n8    9                  India  1,389,637,446  3,287,263     423\n9   10            Netherlands     17,400,824     41,543     419",
      "text/html": "<div>\n<style scoped>\n    .dataframe tbody tr th:only-of-type {\n        vertical-align: middle;\n    }\n\n    .dataframe tbody tr th {\n        vertical-align: top;\n    }\n\n    .dataframe thead th {\n        text-align: right;\n    }\n</style>\n<table border=\"1\" class=\"dataframe\">\n  <thead>\n    <tr style=\"text-align: right;\">\n      <th></th>\n      <th>Rank</th>\n      <th>Country</th>\n      <th>Population</th>\n      <th>Area</th>\n      <th>Density</th>\n    </tr>\n  </thead>\n  <tbody>\n    <tr>\n      <th>0</th>\n      <td>1</td>\n      <td>Singapore</td>\n      <td>5,921,231</td>\n      <td>719</td>\n      <td>8,235</td>\n    </tr>\n    <tr>\n      <th>1</th>\n      <td>2</td>\n      <td>Bangladesh</td>\n      <td>165,650,475</td>\n      <td>148,460</td>\n      <td>1,116</td>\n    </tr>\n    <tr>\n      <th>2</th>\n      <td>3</td>\n      <td>\\n Palestine[103]\\n\\n</td>\n      <td>5,223,000</td>\n      <td>6,025</td>\n      <td>867</td>\n    </tr>\n    <tr>\n      <th>3</th>\n      <td>4</td>\n      <td>Taiwan</td>\n      <td>23,580,712</td>\n      <td>35,980</td>\n      <td>655</td>\n    </tr>\n    <tr>\n      <th>4</th>\n      <td>5</td>\n      <td>South Korea</td>\n      <td>51,844,834</td>\n      <td>99,720</td>\n      <td>520</td>\n    </tr>\n    <tr>\n      <th>5</th>\n      <td>6</td>\n      <td>Lebanon</td>\n      <td>5,296,814</td>\n      <td>10,400</td>\n      <td>509</td>\n    </tr>\n    <tr>\n      <th>6</th>\n      <td>7</td>\n      <td>Rwanda</td>\n      <td>13,173,730</td>\n      <td>26,338</td>\n      <td>500</td>\n    </tr>\n    <tr>\n      <th>7</th>\n      <td>8</td>\n      <td>Burundi</td>\n      <td>12,696,478</td>\n      <td>27,830</td>\n      <td>456</td>\n    </tr>\n    <tr>\n      <th>8</th>\n      <td>9</td>\n      <td>India</td>\n      <td>1,389,637,446</td>\n      <td>3,287,263</td>\n      <td>423</td>\n    </tr>\n    <tr>\n      <th>9</th>\n      <td>10</td>\n      <td>Netherlands</td>\n      <td>17,400,824</td>\n      <td>41,543</td>\n      <td>419</td>\n    </tr>\n  </tbody>\n</table>\n</div>"
     },
     "execution_count": 23,
     "metadata": {},
     "output_type": "execute_result"
    }
   ],
   "source": [
    "population_data_read_html = pd.read_html(str(tables[5]),flavor='bs4')[0]\n",
    "population_data"
   ],
   "metadata": {
    "collapsed": false,
    "ExecuteTime": {
     "end_time": "2023-07-28T19:20:30.758687Z",
     "start_time": "2023-07-28T19:20:30.735083Z"
    }
   }
  },
  {
   "cell_type": "markdown",
   "source": [
    "We can also use the match parameter to select the specific table we want. If the table contains a string matching the text it will be read."
   ],
   "metadata": {
    "collapsed": false
   }
  },
  {
   "cell_type": "code",
   "execution_count": 24,
   "outputs": [
    {
     "data": {
      "text/plain": "   Rank         Country  Population  Area (km2)  Density (pop/km2)\n0     1       Singapore     5921231         719               8235\n1     2      Bangladesh   165650475      148460               1116\n2     3  Palestine[103]     5223000        6025                867\n3     4          Taiwan    23580712       35980                655\n4     5     South Korea    51844834       99720                520\n5     6         Lebanon     5296814       10400                509\n6     7          Rwanda    13173730       26338                500\n7     8         Burundi    12696478       27830                456\n8     9           India  1389637446     3287263                423\n9    10     Netherlands    17400824       41543                419",
      "text/html": "<div>\n<style scoped>\n    .dataframe tbody tr th:only-of-type {\n        vertical-align: middle;\n    }\n\n    .dataframe tbody tr th {\n        vertical-align: top;\n    }\n\n    .dataframe thead th {\n        text-align: right;\n    }\n</style>\n<table border=\"1\" class=\"dataframe\">\n  <thead>\n    <tr style=\"text-align: right;\">\n      <th></th>\n      <th>Rank</th>\n      <th>Country</th>\n      <th>Population</th>\n      <th>Area (km2)</th>\n      <th>Density (pop/km2)</th>\n    </tr>\n  </thead>\n  <tbody>\n    <tr>\n      <th>0</th>\n      <td>1</td>\n      <td>Singapore</td>\n      <td>5921231</td>\n      <td>719</td>\n      <td>8235</td>\n    </tr>\n    <tr>\n      <th>1</th>\n      <td>2</td>\n      <td>Bangladesh</td>\n      <td>165650475</td>\n      <td>148460</td>\n      <td>1116</td>\n    </tr>\n    <tr>\n      <th>2</th>\n      <td>3</td>\n      <td>Palestine[103]</td>\n      <td>5223000</td>\n      <td>6025</td>\n      <td>867</td>\n    </tr>\n    <tr>\n      <th>3</th>\n      <td>4</td>\n      <td>Taiwan</td>\n      <td>23580712</td>\n      <td>35980</td>\n      <td>655</td>\n    </tr>\n    <tr>\n      <th>4</th>\n      <td>5</td>\n      <td>South Korea</td>\n      <td>51844834</td>\n      <td>99720</td>\n      <td>520</td>\n    </tr>\n    <tr>\n      <th>5</th>\n      <td>6</td>\n      <td>Lebanon</td>\n      <td>5296814</td>\n      <td>10400</td>\n      <td>509</td>\n    </tr>\n    <tr>\n      <th>6</th>\n      <td>7</td>\n      <td>Rwanda</td>\n      <td>13173730</td>\n      <td>26338</td>\n      <td>500</td>\n    </tr>\n    <tr>\n      <th>7</th>\n      <td>8</td>\n      <td>Burundi</td>\n      <td>12696478</td>\n      <td>27830</td>\n      <td>456</td>\n    </tr>\n    <tr>\n      <th>8</th>\n      <td>9</td>\n      <td>India</td>\n      <td>1389637446</td>\n      <td>3287263</td>\n      <td>423</td>\n    </tr>\n    <tr>\n      <th>9</th>\n      <td>10</td>\n      <td>Netherlands</td>\n      <td>17400824</td>\n      <td>41543</td>\n      <td>419</td>\n    </tr>\n  </tbody>\n</table>\n</div>"
     },
     "execution_count": 24,
     "metadata": {},
     "output_type": "execute_result"
    }
   ],
   "source": [
    "pd.read_html(url,match='10 most densely populated countries', flavor='bs4')[0]"
   ],
   "metadata": {
    "collapsed": false,
    "ExecuteTime": {
     "end_time": "2023-07-28T19:22:46.363846Z",
     "start_time": "2023-07-28T19:22:43.482959Z"
    }
   }
  },
  {
   "cell_type": "code",
   "execution_count": null,
   "outputs": [],
   "source": [],
   "metadata": {
    "collapsed": false
   }
  }
 ],
 "metadata": {
  "kernelspec": {
   "display_name": "Python 3",
   "language": "python",
   "name": "python3"
  },
  "language_info": {
   "codemirror_mode": {
    "name": "ipython",
    "version": 2
   },
   "file_extension": ".py",
   "mimetype": "text/x-python",
   "name": "python",
   "nbconvert_exporter": "python",
   "pygments_lexer": "ipython2",
   "version": "2.7.6"
  }
 },
 "nbformat": 4,
 "nbformat_minor": 0
}
