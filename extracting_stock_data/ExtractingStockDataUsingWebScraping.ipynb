{
 "cells": [
  {
   "cell_type": "code",
   "execution_count": 1,
   "metadata": {
    "collapsed": true,
    "ExecuteTime": {
     "end_time": "2023-07-29T11:54:32.378367Z",
     "start_time": "2023-07-29T11:54:28.310365Z"
    }
   },
   "outputs": [
    {
     "name": "stdout",
     "output_type": "stream",
     "text": [
      "Requirement already satisfied: beautifulsoup4 in /Users/netvyne/anaconda3/lib/python3.11/site-packages (4.12.2)\r\n",
      "Requirement already satisfied: soupsieve>1.2 in /Users/netvyne/anaconda3/lib/python3.11/site-packages (from beautifulsoup4) (2.4)\r\n",
      "Requirement already satisfied: html5lib==1.1 in /Users/netvyne/anaconda3/lib/python3.11/site-packages (1.1)\r\n",
      "Requirement already satisfied: six>=1.9 in /Users/netvyne/anaconda3/lib/python3.11/site-packages (from html5lib==1.1) (1.16.0)\r\n",
      "Requirement already satisfied: webencodings in /Users/netvyne/anaconda3/lib/python3.11/site-packages (from html5lib==1.1) (0.5.1)\r\n"
     ]
    }
   ],
   "source": [
    "!pip3 install beautifulsoup4\n",
    "!pip3 install html5lib==1.1"
   ]
  },
  {
   "cell_type": "code",
   "execution_count": 2,
   "outputs": [],
   "source": [
    "import pandas as pd\n",
    "import requests\n",
    "from bs4 import BeautifulSoup"
   ],
   "metadata": {
    "collapsed": false,
    "ExecuteTime": {
     "end_time": "2023-07-29T11:54:46.995688Z",
     "start_time": "2023-07-29T11:54:46.574811Z"
    }
   }
  },
  {
   "cell_type": "markdown",
   "source": [
    "## Steps to be followed for extracting data\n",
    "1. Send an HTTP request to the webpage using the requests library.\n",
    "2. Parse the HTML content of the webpage using BeautifulSoup.\n",
    "3. Identify the HTML tags that contain the data you want to extract.\n",
    "4. Use BeautifulSoup methods to extract the data from the HTML tags.\n",
    "5. Print the extracted data"
   ],
   "metadata": {
    "collapsed": false
   }
  },
  {
   "cell_type": "markdown",
   "source": [
    "## Step-1 Send an HTTP Request to the webpage"
   ],
   "metadata": {
    "collapsed": false
   }
  },
  {
   "cell_type": "markdown",
   "source": [
    "We are using Request library for sending an HTTP request to the webpage."
   ],
   "metadata": {
    "collapsed": false
   }
  },
  {
   "cell_type": "code",
   "execution_count": 3,
   "outputs": [],
   "source": [
    "url = \"https://cf-courses-data.s3.us.cloud-object-storage.appdomain.cloud/IBMDeveloperSkillsNetwork-PY0220EN-SkillsNetwork/labs/project/netflix_data_webpage.html\""
   ],
   "metadata": {
    "collapsed": false,
    "ExecuteTime": {
     "end_time": "2023-07-29T11:54:57.451131Z",
     "start_time": "2023-07-29T11:54:57.448471Z"
    }
   }
  },
  {
   "cell_type": "code",
   "execution_count": null,
   "outputs": [],
   "source": [
    "data = requests.get(url).text\n",
    "print(data)"
   ],
   "metadata": {
    "collapsed": false,
    "is_executing": true,
    "ExecuteTime": {
     "start_time": "2023-07-29T11:54:59.506749Z"
    }
   }
  },
  {
   "cell_type": "markdown",
   "source": [
    "### Step:-2 Parse the HTML content"
   ],
   "metadata": {
    "collapsed": false
   }
  },
  {
   "cell_type": "markdown",
   "source": [
    "## How to parse the data using Beautiful soup library?\n",
    "* Create a new Beautiful soup object.\n",
    "<br>\n",
    "<br>\n",
    "<b>Note:- </b>To create a Beautiful Soup object in Python, you need to pass two arguments to its constructor:\n",
    "\n",
    "1. The HTML or XML content that you want to parse as a string.\n",
    "2. The name of the parser that you want to use to parse the HTML or XML content. This argument is optional, and if you don't specify a parser, Beautiful Soup will use the default HTML parser included with the library.\n",
    "here in this lab we are using \"html5lib\" parser."
   ],
   "metadata": {
    "collapsed": false
   }
  },
  {
   "cell_type": "code",
   "execution_count": 5,
   "outputs": [],
   "source": [
    "soup = BeautifulSoup(data, 'html5lib')"
   ],
   "metadata": {
    "collapsed": false,
    "ExecuteTime": {
     "end_time": "2023-07-29T12:12:01.806541Z",
     "start_time": "2023-07-29T12:12:01.739666Z"
    }
   }
  },
  {
   "cell_type": "markdown",
   "source": [
    "## Step-3 Identify the HTML tags"
   ],
   "metadata": {
    "collapsed": false
   }
  },
  {
   "cell_type": "code",
   "execution_count": 17,
   "outputs": [],
   "source": [
    "netflix_data = pd.DataFrame(['Date', 'Open', 'High', 'Low', 'Close', 'Volume'])"
   ],
   "metadata": {
    "collapsed": false,
    "ExecuteTime": {
     "end_time": "2023-07-29T12:22:08.091593Z",
     "start_time": "2023-07-29T12:22:08.083012Z"
    }
   }
  },
  {
   "cell_type": "markdown",
   "source": [
    "## Step-4 Use Beautiful soup method for extracting data"
   ],
   "metadata": {
    "collapsed": false
   }
  },
  {
   "cell_type": "code",
   "execution_count": 18,
   "outputs": [
    {
     "data": {
      "text/plain": "        0          Date    Open    High     Low   Close Adj Close       Volume\n0    Date           NaN     NaN     NaN     NaN     NaN       NaN          NaN\n1    Open           NaN     NaN     NaN     NaN     NaN       NaN          NaN\n2    High           NaN     NaN     NaN     NaN     NaN       NaN          NaN\n3     Low           NaN     NaN     NaN     NaN     NaN       NaN          NaN\n4   Close           NaN     NaN     NaN     NaN     NaN       NaN          NaN\n..    ...           ...     ...     ...     ...     ...       ...          ...\n71    NaN  Jan 01, 2016  109.00  122.18   90.11   91.84     91.84  488,193,200\n72    NaN  Dec 01, 2015  124.47  133.27  113.85  114.38    114.38  319,939,200\n73    NaN  Nov 01, 2015  109.20  126.60  101.86  123.33    123.33  320,321,800\n74    NaN  Oct 01, 2015  102.91  115.83   96.26  108.38    108.38  446,204,400\n75    NaN  Sep 01, 2015  109.35  111.24   93.55  103.26    103.26  497,401,200\n\n[76 rows x 8 columns]",
      "text/html": "<div>\n<style scoped>\n    .dataframe tbody tr th:only-of-type {\n        vertical-align: middle;\n    }\n\n    .dataframe tbody tr th {\n        vertical-align: top;\n    }\n\n    .dataframe thead th {\n        text-align: right;\n    }\n</style>\n<table border=\"1\" class=\"dataframe\">\n  <thead>\n    <tr style=\"text-align: right;\">\n      <th></th>\n      <th>0</th>\n      <th>Date</th>\n      <th>Open</th>\n      <th>High</th>\n      <th>Low</th>\n      <th>Close</th>\n      <th>Adj Close</th>\n      <th>Volume</th>\n    </tr>\n  </thead>\n  <tbody>\n    <tr>\n      <th>0</th>\n      <td>Date</td>\n      <td>NaN</td>\n      <td>NaN</td>\n      <td>NaN</td>\n      <td>NaN</td>\n      <td>NaN</td>\n      <td>NaN</td>\n      <td>NaN</td>\n    </tr>\n    <tr>\n      <th>1</th>\n      <td>Open</td>\n      <td>NaN</td>\n      <td>NaN</td>\n      <td>NaN</td>\n      <td>NaN</td>\n      <td>NaN</td>\n      <td>NaN</td>\n      <td>NaN</td>\n    </tr>\n    <tr>\n      <th>2</th>\n      <td>High</td>\n      <td>NaN</td>\n      <td>NaN</td>\n      <td>NaN</td>\n      <td>NaN</td>\n      <td>NaN</td>\n      <td>NaN</td>\n      <td>NaN</td>\n    </tr>\n    <tr>\n      <th>3</th>\n      <td>Low</td>\n      <td>NaN</td>\n      <td>NaN</td>\n      <td>NaN</td>\n      <td>NaN</td>\n      <td>NaN</td>\n      <td>NaN</td>\n      <td>NaN</td>\n    </tr>\n    <tr>\n      <th>4</th>\n      <td>Close</td>\n      <td>NaN</td>\n      <td>NaN</td>\n      <td>NaN</td>\n      <td>NaN</td>\n      <td>NaN</td>\n      <td>NaN</td>\n      <td>NaN</td>\n    </tr>\n    <tr>\n      <th>...</th>\n      <td>...</td>\n      <td>...</td>\n      <td>...</td>\n      <td>...</td>\n      <td>...</td>\n      <td>...</td>\n      <td>...</td>\n      <td>...</td>\n    </tr>\n    <tr>\n      <th>71</th>\n      <td>NaN</td>\n      <td>Jan 01, 2016</td>\n      <td>109.00</td>\n      <td>122.18</td>\n      <td>90.11</td>\n      <td>91.84</td>\n      <td>91.84</td>\n      <td>488,193,200</td>\n    </tr>\n    <tr>\n      <th>72</th>\n      <td>NaN</td>\n      <td>Dec 01, 2015</td>\n      <td>124.47</td>\n      <td>133.27</td>\n      <td>113.85</td>\n      <td>114.38</td>\n      <td>114.38</td>\n      <td>319,939,200</td>\n    </tr>\n    <tr>\n      <th>73</th>\n      <td>NaN</td>\n      <td>Nov 01, 2015</td>\n      <td>109.20</td>\n      <td>126.60</td>\n      <td>101.86</td>\n      <td>123.33</td>\n      <td>123.33</td>\n      <td>320,321,800</td>\n    </tr>\n    <tr>\n      <th>74</th>\n      <td>NaN</td>\n      <td>Oct 01, 2015</td>\n      <td>102.91</td>\n      <td>115.83</td>\n      <td>96.26</td>\n      <td>108.38</td>\n      <td>108.38</td>\n      <td>446,204,400</td>\n    </tr>\n    <tr>\n      <th>75</th>\n      <td>NaN</td>\n      <td>Sep 01, 2015</td>\n      <td>109.35</td>\n      <td>111.24</td>\n      <td>93.55</td>\n      <td>103.26</td>\n      <td>103.26</td>\n      <td>497,401,200</td>\n    </tr>\n  </tbody>\n</table>\n<p>76 rows × 8 columns</p>\n</div>"
     },
     "execution_count": 18,
     "metadata": {},
     "output_type": "execute_result"
    }
   ],
   "source": [
    "# Then we loop through each row and find all the column values for each row\n",
    "for row in soup.find(\"tbody\").find_all('tr'):\n",
    "    col = row.find_all(\"td\")\n",
    "    date = col[0].text\n",
    "    Open = col[1].text\n",
    "    high = col[2].text\n",
    "    low = col[3].text\n",
    "    close = col[4].text\n",
    "    adj_close = col[5].text\n",
    "    volume = col[6].text\n",
    "    row_data = pd.DataFrame({'Date': [date], 'Open': [Open], 'High': [high], 'Low': [low], 'Close': [close], 'Adj Close': [adj_close], 'Volume': [volume]})\n",
    "    netflix_data = pd.concat([netflix_data, row_data], ignore_index=True)\n",
    "netflix_data"
   ],
   "metadata": {
    "collapsed": false,
    "ExecuteTime": {
     "end_time": "2023-07-29T12:22:10.818134Z",
     "start_time": "2023-07-29T12:22:10.799466Z"
    }
   }
  },
  {
   "cell_type": "markdown",
   "source": [
    "### Step-5 Print the Extracted Data"
   ],
   "metadata": {
    "collapsed": false
   }
  },
  {
   "cell_type": "code",
   "execution_count": 16,
   "outputs": [
    {
     "data": {
      "text/plain": "       0 Date Open High  Low Close Adj Close Volume\n0   Date  NaN  NaN  NaN  NaN   NaN       NaN    NaN\n1   Open  NaN  NaN  NaN  NaN   NaN       NaN    NaN\n2   High  NaN  NaN  NaN  NaN   NaN       NaN    NaN\n3    Low  NaN  NaN  NaN  NaN   NaN       NaN    NaN\n4  Close  NaN  NaN  NaN  NaN   NaN       NaN    NaN",
      "text/html": "<div>\n<style scoped>\n    .dataframe tbody tr th:only-of-type {\n        vertical-align: middle;\n    }\n\n    .dataframe tbody tr th {\n        vertical-align: top;\n    }\n\n    .dataframe thead th {\n        text-align: right;\n    }\n</style>\n<table border=\"1\" class=\"dataframe\">\n  <thead>\n    <tr style=\"text-align: right;\">\n      <th></th>\n      <th>0</th>\n      <th>Date</th>\n      <th>Open</th>\n      <th>High</th>\n      <th>Low</th>\n      <th>Close</th>\n      <th>Adj Close</th>\n      <th>Volume</th>\n    </tr>\n  </thead>\n  <tbody>\n    <tr>\n      <th>0</th>\n      <td>Date</td>\n      <td>NaN</td>\n      <td>NaN</td>\n      <td>NaN</td>\n      <td>NaN</td>\n      <td>NaN</td>\n      <td>NaN</td>\n      <td>NaN</td>\n    </tr>\n    <tr>\n      <th>1</th>\n      <td>Open</td>\n      <td>NaN</td>\n      <td>NaN</td>\n      <td>NaN</td>\n      <td>NaN</td>\n      <td>NaN</td>\n      <td>NaN</td>\n      <td>NaN</td>\n    </tr>\n    <tr>\n      <th>2</th>\n      <td>High</td>\n      <td>NaN</td>\n      <td>NaN</td>\n      <td>NaN</td>\n      <td>NaN</td>\n      <td>NaN</td>\n      <td>NaN</td>\n      <td>NaN</td>\n    </tr>\n    <tr>\n      <th>3</th>\n      <td>Low</td>\n      <td>NaN</td>\n      <td>NaN</td>\n      <td>NaN</td>\n      <td>NaN</td>\n      <td>NaN</td>\n      <td>NaN</td>\n      <td>NaN</td>\n    </tr>\n    <tr>\n      <th>4</th>\n      <td>Close</td>\n      <td>NaN</td>\n      <td>NaN</td>\n      <td>NaN</td>\n      <td>NaN</td>\n      <td>NaN</td>\n      <td>NaN</td>\n      <td>NaN</td>\n    </tr>\n  </tbody>\n</table>\n</div>"
     },
     "execution_count": 16,
     "metadata": {},
     "output_type": "execute_result"
    }
   ],
   "source": [
    "netflix_data.head()"
   ],
   "metadata": {
    "collapsed": false,
    "ExecuteTime": {
     "end_time": "2023-07-29T12:21:10.775195Z",
     "start_time": "2023-07-29T12:21:10.769638Z"
    }
   }
  },
  {
   "cell_type": "markdown",
   "source": [
    "# Extracting data using `pandas` library\n"
   ],
   "metadata": {
    "collapsed": false
   }
  },
  {
   "cell_type": "code",
   "execution_count": 19,
   "outputs": [],
   "source": [
    "read_html_pandas_data = pd.read_html(url)"
   ],
   "metadata": {
    "collapsed": false,
    "ExecuteTime": {
     "end_time": "2023-07-29T12:23:25.963352Z",
     "start_time": "2023-07-29T12:23:13.305518Z"
    }
   }
  },
  {
   "cell_type": "markdown",
   "source": [
    "Or we can convert the BeautifulSoup object to a string"
   ],
   "metadata": {
    "collapsed": false
   }
  },
  {
   "cell_type": "code",
   "execution_count": 20,
   "outputs": [],
   "source": [
    "read_html_pandas_data = pd.read_html(str(soup))"
   ],
   "metadata": {
    "collapsed": false,
    "ExecuteTime": {
     "end_time": "2023-07-29T12:23:39.250276Z",
     "start_time": "2023-07-29T12:23:39.234976Z"
    }
   }
  },
  {
   "cell_type": "code",
   "execution_count": 21,
   "outputs": [
    {
     "data": {
      "text/plain": "           Date    Open    High     Low  Close* Adj Close**     Volume\n0  Jun 01, 2021  504.01  536.13  482.14  528.21      528.21   78560600\n1  May 01, 2021  512.65  518.95  478.54  502.81      502.81   66927600\n2  Apr 01, 2021  529.93  563.56  499.00  513.47      513.47  111573300\n3  Mar 01, 2021  545.57  556.99  492.85  521.66      521.66   90183900\n4  Feb 01, 2021  536.79  566.65  518.28  538.85      538.85   61902300",
      "text/html": "<div>\n<style scoped>\n    .dataframe tbody tr th:only-of-type {\n        vertical-align: middle;\n    }\n\n    .dataframe tbody tr th {\n        vertical-align: top;\n    }\n\n    .dataframe thead th {\n        text-align: right;\n    }\n</style>\n<table border=\"1\" class=\"dataframe\">\n  <thead>\n    <tr style=\"text-align: right;\">\n      <th></th>\n      <th>Date</th>\n      <th>Open</th>\n      <th>High</th>\n      <th>Low</th>\n      <th>Close*</th>\n      <th>Adj Close**</th>\n      <th>Volume</th>\n    </tr>\n  </thead>\n  <tbody>\n    <tr>\n      <th>0</th>\n      <td>Jun 01, 2021</td>\n      <td>504.01</td>\n      <td>536.13</td>\n      <td>482.14</td>\n      <td>528.21</td>\n      <td>528.21</td>\n      <td>78560600</td>\n    </tr>\n    <tr>\n      <th>1</th>\n      <td>May 01, 2021</td>\n      <td>512.65</td>\n      <td>518.95</td>\n      <td>478.54</td>\n      <td>502.81</td>\n      <td>502.81</td>\n      <td>66927600</td>\n    </tr>\n    <tr>\n      <th>2</th>\n      <td>Apr 01, 2021</td>\n      <td>529.93</td>\n      <td>563.56</td>\n      <td>499.00</td>\n      <td>513.47</td>\n      <td>513.47</td>\n      <td>111573300</td>\n    </tr>\n    <tr>\n      <th>3</th>\n      <td>Mar 01, 2021</td>\n      <td>545.57</td>\n      <td>556.99</td>\n      <td>492.85</td>\n      <td>521.66</td>\n      <td>521.66</td>\n      <td>90183900</td>\n    </tr>\n    <tr>\n      <th>4</th>\n      <td>Feb 01, 2021</td>\n      <td>536.79</td>\n      <td>566.65</td>\n      <td>518.28</td>\n      <td>538.85</td>\n      <td>538.85</td>\n      <td>61902300</td>\n    </tr>\n  </tbody>\n</table>\n</div>"
     },
     "execution_count": 21,
     "metadata": {},
     "output_type": "execute_result"
    }
   ],
   "source": [
    "netflix_dataframe = read_html_pandas_data[0]\n",
    "\n",
    "netflix_dataframe.head()"
   ],
   "metadata": {
    "collapsed": false,
    "ExecuteTime": {
     "end_time": "2023-07-29T12:23:48.731903Z",
     "start_time": "2023-07-29T12:23:48.725563Z"
    }
   }
  },
  {
   "cell_type": "code",
   "execution_count": null,
   "outputs": [],
   "source": [],
   "metadata": {
    "collapsed": false
   }
  }
 ],
 "metadata": {
  "kernelspec": {
   "display_name": "Python 3",
   "language": "python",
   "name": "python3"
  },
  "language_info": {
   "codemirror_mode": {
    "name": "ipython",
    "version": 2
   },
   "file_extension": ".py",
   "mimetype": "text/x-python",
   "name": "python",
   "nbconvert_exporter": "python",
   "pygments_lexer": "ipython2",
   "version": "2.7.6"
  }
 },
 "nbformat": 4,
 "nbformat_minor": 0
}
