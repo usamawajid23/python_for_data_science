{
 "cells": [
  {
   "cell_type": "markdown",
   "source": [
    "## Pandas - working with CSV file"
   ],
   "metadata": {
    "collapsed": false
   }
  },
  {
   "cell_type": "code",
   "execution_count": 1,
   "outputs": [],
   "source": [
    "import pandas as pd\n",
    "import numpy as np"
   ],
   "metadata": {
    "collapsed": false,
    "ExecuteTime": {
     "end_time": "2023-07-31T18:49:18.149660Z",
     "start_time": "2023-07-31T18:49:17.834128Z"
    }
   }
  },
  {
   "cell_type": "markdown",
   "source": [
    "## Problem statement\n",
    "\n",
    "- isin()\n",
    "- Find the most destructive death over batsman in the history of IPL\n",
    "- strike Rate =(Number of runs/number of balls)/100\n",
    "- min batsman 200 balls in over 16-20\n",
    "\n",
    "In this Pandas tutorial, we explore the 'isin()' function to find the most destructive death over batsman in the history of IPL. We calculate the strike rate of each batsman (runs per ball) and filter the players who faced a minimum of 200 balls in overs 16 to 20. By analyzing this data, we can identify the most impactful batsman during the crucial final overs of an IPL match."
   ],
   "metadata": {
    "collapsed": false
   }
  },
  {
   "cell_type": "code",
   "execution_count": 2,
   "outputs": [],
   "source": [
    "delivery = pd.read_csv('deliveries.csv')"
   ],
   "metadata": {
    "collapsed": false,
    "ExecuteTime": {
     "end_time": "2023-07-31T18:49:30.131984Z",
     "start_time": "2023-07-31T18:49:29.990788Z"
    }
   }
  },
  {
   "cell_type": "code",
   "execution_count": 3,
   "outputs": [
    {
     "data": {
      "text/plain": "        match_id  inning         batting_team      bowling_team  over  ball  \\\n29711        128       2       Mumbai Indians   Deccan Chargers     9     1   \n67092        284       1      Kings XI Punjab     Pune Warriors     2     5   \n107027       451       2     Delhi Daredevils     Pune Warriors     9     5   \n27185        117       1  Chennai Super Kings  Rajasthan Royals    14     5   \n112979       477       1  Sunrisers Hyderabad    Mumbai Indians    10     1   \n\n            batsman   non_striker      bowler  is_super_over  ...  bye_runs  \\\n29711     JP Duminy  SR Tendulkar    DR Smith              0  ...         0   \n67092   PC Valthaty  AC Gilchrist     SB Wagh              0  ...         0   \n107027    BJ Rohrer     IK Pathan  AD Mathews              0  ...         0   \n27185      SK Raina      MS Dhoni  SK Trivedi              0  ...         0   \n112979     KL Rahul     DA Warner  KA Pollard              0  ...         0   \n\n        legbye_runs  noball_runs  penalty_runs  batsman_runs  extra_runs  \\\n29711             0            0             0             4           0   \n67092             0            0             0             0           0   \n107027            0            0             0             1           0   \n27185             0            0             0             0           0   \n112979            0            0             0             1           0   \n\n        total_runs  player_dismissed dismissal_kind fielder  \n29711            4               NaN            NaN     NaN  \n67092            0               NaN            NaN     NaN  \n107027           1               NaN            NaN     NaN  \n27185            0               NaN            NaN     NaN  \n112979           1               NaN            NaN     NaN  \n\n[5 rows x 21 columns]",
      "text/html": "<div>\n<style scoped>\n    .dataframe tbody tr th:only-of-type {\n        vertical-align: middle;\n    }\n\n    .dataframe tbody tr th {\n        vertical-align: top;\n    }\n\n    .dataframe thead th {\n        text-align: right;\n    }\n</style>\n<table border=\"1\" class=\"dataframe\">\n  <thead>\n    <tr style=\"text-align: right;\">\n      <th></th>\n      <th>match_id</th>\n      <th>inning</th>\n      <th>batting_team</th>\n      <th>bowling_team</th>\n      <th>over</th>\n      <th>ball</th>\n      <th>batsman</th>\n      <th>non_striker</th>\n      <th>bowler</th>\n      <th>is_super_over</th>\n      <th>...</th>\n      <th>bye_runs</th>\n      <th>legbye_runs</th>\n      <th>noball_runs</th>\n      <th>penalty_runs</th>\n      <th>batsman_runs</th>\n      <th>extra_runs</th>\n      <th>total_runs</th>\n      <th>player_dismissed</th>\n      <th>dismissal_kind</th>\n      <th>fielder</th>\n    </tr>\n  </thead>\n  <tbody>\n    <tr>\n      <th>29711</th>\n      <td>128</td>\n      <td>2</td>\n      <td>Mumbai Indians</td>\n      <td>Deccan Chargers</td>\n      <td>9</td>\n      <td>1</td>\n      <td>JP Duminy</td>\n      <td>SR Tendulkar</td>\n      <td>DR Smith</td>\n      <td>0</td>\n      <td>...</td>\n      <td>0</td>\n      <td>0</td>\n      <td>0</td>\n      <td>0</td>\n      <td>4</td>\n      <td>0</td>\n      <td>4</td>\n      <td>NaN</td>\n      <td>NaN</td>\n      <td>NaN</td>\n    </tr>\n    <tr>\n      <th>67092</th>\n      <td>284</td>\n      <td>1</td>\n      <td>Kings XI Punjab</td>\n      <td>Pune Warriors</td>\n      <td>2</td>\n      <td>5</td>\n      <td>PC Valthaty</td>\n      <td>AC Gilchrist</td>\n      <td>SB Wagh</td>\n      <td>0</td>\n      <td>...</td>\n      <td>0</td>\n      <td>0</td>\n      <td>0</td>\n      <td>0</td>\n      <td>0</td>\n      <td>0</td>\n      <td>0</td>\n      <td>NaN</td>\n      <td>NaN</td>\n      <td>NaN</td>\n    </tr>\n    <tr>\n      <th>107027</th>\n      <td>451</td>\n      <td>2</td>\n      <td>Delhi Daredevils</td>\n      <td>Pune Warriors</td>\n      <td>9</td>\n      <td>5</td>\n      <td>BJ Rohrer</td>\n      <td>IK Pathan</td>\n      <td>AD Mathews</td>\n      <td>0</td>\n      <td>...</td>\n      <td>0</td>\n      <td>0</td>\n      <td>0</td>\n      <td>0</td>\n      <td>1</td>\n      <td>0</td>\n      <td>1</td>\n      <td>NaN</td>\n      <td>NaN</td>\n      <td>NaN</td>\n    </tr>\n    <tr>\n      <th>27185</th>\n      <td>117</td>\n      <td>1</td>\n      <td>Chennai Super Kings</td>\n      <td>Rajasthan Royals</td>\n      <td>14</td>\n      <td>5</td>\n      <td>SK Raina</td>\n      <td>MS Dhoni</td>\n      <td>SK Trivedi</td>\n      <td>0</td>\n      <td>...</td>\n      <td>0</td>\n      <td>0</td>\n      <td>0</td>\n      <td>0</td>\n      <td>0</td>\n      <td>0</td>\n      <td>0</td>\n      <td>NaN</td>\n      <td>NaN</td>\n      <td>NaN</td>\n    </tr>\n    <tr>\n      <th>112979</th>\n      <td>477</td>\n      <td>1</td>\n      <td>Sunrisers Hyderabad</td>\n      <td>Mumbai Indians</td>\n      <td>10</td>\n      <td>1</td>\n      <td>KL Rahul</td>\n      <td>DA Warner</td>\n      <td>KA Pollard</td>\n      <td>0</td>\n      <td>...</td>\n      <td>0</td>\n      <td>0</td>\n      <td>0</td>\n      <td>0</td>\n      <td>1</td>\n      <td>0</td>\n      <td>1</td>\n      <td>NaN</td>\n      <td>NaN</td>\n      <td>NaN</td>\n    </tr>\n  </tbody>\n</table>\n<p>5 rows × 21 columns</p>\n</div>"
     },
     "execution_count": 3,
     "metadata": {},
     "output_type": "execute_result"
    }
   ],
   "source": [
    "delivery.sample(5)"
   ],
   "metadata": {
    "collapsed": false,
    "ExecuteTime": {
     "end_time": "2023-07-31T18:49:32.427727Z",
     "start_time": "2023-07-31T18:49:32.413479Z"
    }
   }
  },
  {
   "cell_type": "code",
   "execution_count": 4,
   "outputs": [
    {
     "data": {
      "text/plain": "        match_id  inning                 batting_team         bowling_team  \\\n0            NaN     NaN                          NaN                  NaN   \n1            NaN     NaN                          NaN                  NaN   \n2            NaN     NaN                          NaN                  NaN   \n3            NaN     NaN                          NaN                  NaN   \n4            NaN     NaN                          NaN                  NaN   \n...          ...     ...                          ...                  ...   \n150455     636.0     2.0  Royal Challengers Bangalore  Sunrisers Hyderabad   \n150456     636.0     2.0  Royal Challengers Bangalore  Sunrisers Hyderabad   \n150457     636.0     2.0  Royal Challengers Bangalore  Sunrisers Hyderabad   \n150458     636.0     2.0  Royal Challengers Bangalore  Sunrisers Hyderabad   \n150459     636.0     2.0  Royal Challengers Bangalore  Sunrisers Hyderabad   \n\n        over  ball        batsman    non_striker   bowler  is_super_over  ...  \\\n0        NaN   NaN            NaN            NaN      NaN            NaN  ...   \n1        NaN   NaN            NaN            NaN      NaN            NaN  ...   \n2        NaN   NaN            NaN            NaN      NaN            NaN  ...   \n3        NaN   NaN            NaN            NaN      NaN            NaN  ...   \n4        NaN   NaN            NaN            NaN      NaN            NaN  ...   \n...      ...   ...            ...            ...      ...            ...  ...   \n150455  20.0   2.0    Sachin Baby      CJ Jordan  B Kumar            0.0  ...   \n150456  20.0   3.0    Sachin Baby      CJ Jordan  B Kumar            0.0  ...   \n150457  20.0   4.0  Iqbal Abdulla    Sachin Baby  B Kumar            0.0  ...   \n150458  20.0   5.0    Sachin Baby  Iqbal Abdulla  B Kumar            0.0  ...   \n150459  20.0   6.0  Iqbal Abdulla    Sachin Baby  B Kumar            0.0  ...   \n\n        bye_runs  legbye_runs  noball_runs  penalty_runs  batsman_runs  \\\n0            NaN          NaN          NaN           NaN           NaN   \n1            NaN          NaN          NaN           NaN           NaN   \n2            NaN          NaN          NaN           NaN           NaN   \n3            NaN          NaN          NaN           NaN           NaN   \n4            NaN          NaN          NaN           NaN           NaN   \n...          ...          ...          ...           ...           ...   \n150455       0.0          0.0          0.0           0.0           2.0   \n150456       0.0          0.0          0.0           0.0           0.0   \n150457       0.0          1.0          0.0           0.0           0.0   \n150458       0.0          0.0          0.0           0.0           1.0   \n150459       0.0          0.0          0.0           0.0           4.0   \n\n        extra_runs  total_runs  player_dismissed dismissal_kind  fielder  \n0              NaN         NaN               NaN            NaN      NaN  \n1              NaN         NaN               NaN            NaN      NaN  \n2              NaN         NaN               NaN            NaN      NaN  \n3              NaN         NaN               NaN            NaN      NaN  \n4              NaN         NaN               NaN            NaN      NaN  \n...            ...         ...               ...            ...      ...  \n150455         0.0         2.0               NaN            NaN      NaN  \n150456         0.0         0.0         CJ Jordan        run out  NV Ojha  \n150457         1.0         1.0               NaN            NaN      NaN  \n150458         0.0         1.0               NaN            NaN      NaN  \n150459         0.0         4.0               NaN            NaN      NaN  \n\n[150460 rows x 21 columns]",
      "text/html": "<div>\n<style scoped>\n    .dataframe tbody tr th:only-of-type {\n        vertical-align: middle;\n    }\n\n    .dataframe tbody tr th {\n        vertical-align: top;\n    }\n\n    .dataframe thead th {\n        text-align: right;\n    }\n</style>\n<table border=\"1\" class=\"dataframe\">\n  <thead>\n    <tr style=\"text-align: right;\">\n      <th></th>\n      <th>match_id</th>\n      <th>inning</th>\n      <th>batting_team</th>\n      <th>bowling_team</th>\n      <th>over</th>\n      <th>ball</th>\n      <th>batsman</th>\n      <th>non_striker</th>\n      <th>bowler</th>\n      <th>is_super_over</th>\n      <th>...</th>\n      <th>bye_runs</th>\n      <th>legbye_runs</th>\n      <th>noball_runs</th>\n      <th>penalty_runs</th>\n      <th>batsman_runs</th>\n      <th>extra_runs</th>\n      <th>total_runs</th>\n      <th>player_dismissed</th>\n      <th>dismissal_kind</th>\n      <th>fielder</th>\n    </tr>\n  </thead>\n  <tbody>\n    <tr>\n      <th>0</th>\n      <td>NaN</td>\n      <td>NaN</td>\n      <td>NaN</td>\n      <td>NaN</td>\n      <td>NaN</td>\n      <td>NaN</td>\n      <td>NaN</td>\n      <td>NaN</td>\n      <td>NaN</td>\n      <td>NaN</td>\n      <td>...</td>\n      <td>NaN</td>\n      <td>NaN</td>\n      <td>NaN</td>\n      <td>NaN</td>\n      <td>NaN</td>\n      <td>NaN</td>\n      <td>NaN</td>\n      <td>NaN</td>\n      <td>NaN</td>\n      <td>NaN</td>\n    </tr>\n    <tr>\n      <th>1</th>\n      <td>NaN</td>\n      <td>NaN</td>\n      <td>NaN</td>\n      <td>NaN</td>\n      <td>NaN</td>\n      <td>NaN</td>\n      <td>NaN</td>\n      <td>NaN</td>\n      <td>NaN</td>\n      <td>NaN</td>\n      <td>...</td>\n      <td>NaN</td>\n      <td>NaN</td>\n      <td>NaN</td>\n      <td>NaN</td>\n      <td>NaN</td>\n      <td>NaN</td>\n      <td>NaN</td>\n      <td>NaN</td>\n      <td>NaN</td>\n      <td>NaN</td>\n    </tr>\n    <tr>\n      <th>2</th>\n      <td>NaN</td>\n      <td>NaN</td>\n      <td>NaN</td>\n      <td>NaN</td>\n      <td>NaN</td>\n      <td>NaN</td>\n      <td>NaN</td>\n      <td>NaN</td>\n      <td>NaN</td>\n      <td>NaN</td>\n      <td>...</td>\n      <td>NaN</td>\n      <td>NaN</td>\n      <td>NaN</td>\n      <td>NaN</td>\n      <td>NaN</td>\n      <td>NaN</td>\n      <td>NaN</td>\n      <td>NaN</td>\n      <td>NaN</td>\n      <td>NaN</td>\n    </tr>\n    <tr>\n      <th>3</th>\n      <td>NaN</td>\n      <td>NaN</td>\n      <td>NaN</td>\n      <td>NaN</td>\n      <td>NaN</td>\n      <td>NaN</td>\n      <td>NaN</td>\n      <td>NaN</td>\n      <td>NaN</td>\n      <td>NaN</td>\n      <td>...</td>\n      <td>NaN</td>\n      <td>NaN</td>\n      <td>NaN</td>\n      <td>NaN</td>\n      <td>NaN</td>\n      <td>NaN</td>\n      <td>NaN</td>\n      <td>NaN</td>\n      <td>NaN</td>\n      <td>NaN</td>\n    </tr>\n    <tr>\n      <th>4</th>\n      <td>NaN</td>\n      <td>NaN</td>\n      <td>NaN</td>\n      <td>NaN</td>\n      <td>NaN</td>\n      <td>NaN</td>\n      <td>NaN</td>\n      <td>NaN</td>\n      <td>NaN</td>\n      <td>NaN</td>\n      <td>...</td>\n      <td>NaN</td>\n      <td>NaN</td>\n      <td>NaN</td>\n      <td>NaN</td>\n      <td>NaN</td>\n      <td>NaN</td>\n      <td>NaN</td>\n      <td>NaN</td>\n      <td>NaN</td>\n      <td>NaN</td>\n    </tr>\n    <tr>\n      <th>...</th>\n      <td>...</td>\n      <td>...</td>\n      <td>...</td>\n      <td>...</td>\n      <td>...</td>\n      <td>...</td>\n      <td>...</td>\n      <td>...</td>\n      <td>...</td>\n      <td>...</td>\n      <td>...</td>\n      <td>...</td>\n      <td>...</td>\n      <td>...</td>\n      <td>...</td>\n      <td>...</td>\n      <td>...</td>\n      <td>...</td>\n      <td>...</td>\n      <td>...</td>\n      <td>...</td>\n    </tr>\n    <tr>\n      <th>150455</th>\n      <td>636.0</td>\n      <td>2.0</td>\n      <td>Royal Challengers Bangalore</td>\n      <td>Sunrisers Hyderabad</td>\n      <td>20.0</td>\n      <td>2.0</td>\n      <td>Sachin Baby</td>\n      <td>CJ Jordan</td>\n      <td>B Kumar</td>\n      <td>0.0</td>\n      <td>...</td>\n      <td>0.0</td>\n      <td>0.0</td>\n      <td>0.0</td>\n      <td>0.0</td>\n      <td>2.0</td>\n      <td>0.0</td>\n      <td>2.0</td>\n      <td>NaN</td>\n      <td>NaN</td>\n      <td>NaN</td>\n    </tr>\n    <tr>\n      <th>150456</th>\n      <td>636.0</td>\n      <td>2.0</td>\n      <td>Royal Challengers Bangalore</td>\n      <td>Sunrisers Hyderabad</td>\n      <td>20.0</td>\n      <td>3.0</td>\n      <td>Sachin Baby</td>\n      <td>CJ Jordan</td>\n      <td>B Kumar</td>\n      <td>0.0</td>\n      <td>...</td>\n      <td>0.0</td>\n      <td>0.0</td>\n      <td>0.0</td>\n      <td>0.0</td>\n      <td>0.0</td>\n      <td>0.0</td>\n      <td>0.0</td>\n      <td>CJ Jordan</td>\n      <td>run out</td>\n      <td>NV Ojha</td>\n    </tr>\n    <tr>\n      <th>150457</th>\n      <td>636.0</td>\n      <td>2.0</td>\n      <td>Royal Challengers Bangalore</td>\n      <td>Sunrisers Hyderabad</td>\n      <td>20.0</td>\n      <td>4.0</td>\n      <td>Iqbal Abdulla</td>\n      <td>Sachin Baby</td>\n      <td>B Kumar</td>\n      <td>0.0</td>\n      <td>...</td>\n      <td>0.0</td>\n      <td>1.0</td>\n      <td>0.0</td>\n      <td>0.0</td>\n      <td>0.0</td>\n      <td>1.0</td>\n      <td>1.0</td>\n      <td>NaN</td>\n      <td>NaN</td>\n      <td>NaN</td>\n    </tr>\n    <tr>\n      <th>150458</th>\n      <td>636.0</td>\n      <td>2.0</td>\n      <td>Royal Challengers Bangalore</td>\n      <td>Sunrisers Hyderabad</td>\n      <td>20.0</td>\n      <td>5.0</td>\n      <td>Sachin Baby</td>\n      <td>Iqbal Abdulla</td>\n      <td>B Kumar</td>\n      <td>0.0</td>\n      <td>...</td>\n      <td>0.0</td>\n      <td>0.0</td>\n      <td>0.0</td>\n      <td>0.0</td>\n      <td>1.0</td>\n      <td>0.0</td>\n      <td>1.0</td>\n      <td>NaN</td>\n      <td>NaN</td>\n      <td>NaN</td>\n    </tr>\n    <tr>\n      <th>150459</th>\n      <td>636.0</td>\n      <td>2.0</td>\n      <td>Royal Challengers Bangalore</td>\n      <td>Sunrisers Hyderabad</td>\n      <td>20.0</td>\n      <td>6.0</td>\n      <td>Iqbal Abdulla</td>\n      <td>Sachin Baby</td>\n      <td>B Kumar</td>\n      <td>0.0</td>\n      <td>...</td>\n      <td>0.0</td>\n      <td>0.0</td>\n      <td>0.0</td>\n      <td>0.0</td>\n      <td>4.0</td>\n      <td>0.0</td>\n      <td>4.0</td>\n      <td>NaN</td>\n      <td>NaN</td>\n      <td>NaN</td>\n    </tr>\n  </tbody>\n</table>\n<p>150460 rows × 21 columns</p>\n</div>"
     },
     "execution_count": 4,
     "metadata": {},
     "output_type": "execute_result"
    }
   ],
   "source": [
    "# min batsman 200 balls in over 16-20\n",
    "delivery['over']>15\n",
    "\n",
    "# add in delivery\n",
    "# delivery[delivery['over']>15]\n",
    "\n",
    "# we can also do this step with mask\n",
    "mask_over = delivery.mask(delivery['over']<15)\n",
    "mask_over\n",
    "\n",
    "# mask_over = delivery['over']>15\n",
    "# mask_over\n",
    "# delivery_2 = delivery[mask_over]\n",
    "# delivery_2\n",
    "# delivery_2.sample(2)"
   ],
   "metadata": {
    "collapsed": false,
    "ExecuteTime": {
     "end_time": "2023-07-31T18:49:35.133725Z",
     "start_time": "2023-07-31T18:49:35.034091Z"
    }
   }
  },
  {
   "cell_type": "code",
   "execution_count": 5,
   "outputs": [
    {
     "data": {
      "text/plain": "       match_id  inning                 batting_team           bowling_team  \\\n53655       227       1             Rajasthan Royals  Kolkata Knight Riders   \n90575       383       1  Royal Challengers Bangalore         Mumbai Indians   \n\n       over  ball          batsman non_striker      bowler  is_super_over  \\\n53655    16     2          AS Raut     P Dogra  JD Unadkat              0   \n90575    17     1  KB Arun Karthik    CH Gayle    JDP Oram              0   \n\n       ...  bye_runs  legbye_runs  noball_runs  penalty_runs  batsman_runs  \\\n53655  ...         0            0            0             0             1   \n90575  ...         0            0            0             0             4   \n\n       extra_runs  total_runs  player_dismissed dismissal_kind fielder  \n53655           0           1               NaN            NaN     NaN  \n90575           0           4               NaN            NaN     NaN  \n\n[2 rows x 21 columns]",
      "text/html": "<div>\n<style scoped>\n    .dataframe tbody tr th:only-of-type {\n        vertical-align: middle;\n    }\n\n    .dataframe tbody tr th {\n        vertical-align: top;\n    }\n\n    .dataframe thead th {\n        text-align: right;\n    }\n</style>\n<table border=\"1\" class=\"dataframe\">\n  <thead>\n    <tr style=\"text-align: right;\">\n      <th></th>\n      <th>match_id</th>\n      <th>inning</th>\n      <th>batting_team</th>\n      <th>bowling_team</th>\n      <th>over</th>\n      <th>ball</th>\n      <th>batsman</th>\n      <th>non_striker</th>\n      <th>bowler</th>\n      <th>is_super_over</th>\n      <th>...</th>\n      <th>bye_runs</th>\n      <th>legbye_runs</th>\n      <th>noball_runs</th>\n      <th>penalty_runs</th>\n      <th>batsman_runs</th>\n      <th>extra_runs</th>\n      <th>total_runs</th>\n      <th>player_dismissed</th>\n      <th>dismissal_kind</th>\n      <th>fielder</th>\n    </tr>\n  </thead>\n  <tbody>\n    <tr>\n      <th>53655</th>\n      <td>227</td>\n      <td>1</td>\n      <td>Rajasthan Royals</td>\n      <td>Kolkata Knight Riders</td>\n      <td>16</td>\n      <td>2</td>\n      <td>AS Raut</td>\n      <td>P Dogra</td>\n      <td>JD Unadkat</td>\n      <td>0</td>\n      <td>...</td>\n      <td>0</td>\n      <td>0</td>\n      <td>0</td>\n      <td>0</td>\n      <td>1</td>\n      <td>0</td>\n      <td>1</td>\n      <td>NaN</td>\n      <td>NaN</td>\n      <td>NaN</td>\n    </tr>\n    <tr>\n      <th>90575</th>\n      <td>383</td>\n      <td>1</td>\n      <td>Royal Challengers Bangalore</td>\n      <td>Mumbai Indians</td>\n      <td>17</td>\n      <td>1</td>\n      <td>KB Arun Karthik</td>\n      <td>CH Gayle</td>\n      <td>JDP Oram</td>\n      <td>0</td>\n      <td>...</td>\n      <td>0</td>\n      <td>0</td>\n      <td>0</td>\n      <td>0</td>\n      <td>4</td>\n      <td>0</td>\n      <td>4</td>\n      <td>NaN</td>\n      <td>NaN</td>\n      <td>NaN</td>\n    </tr>\n  </tbody>\n</table>\n<p>2 rows × 21 columns</p>\n</div>"
     },
     "execution_count": 5,
     "metadata": {},
     "output_type": "execute_result"
    }
   ],
   "source": [
    "mask_over = delivery['over']>15\n",
    "delivery2 = delivery[mask_over]\n",
    "delivery2.sample(2)"
   ],
   "metadata": {
    "collapsed": false,
    "ExecuteTime": {
     "end_time": "2023-07-31T18:49:40.059417Z",
     "start_time": "2023-07-31T18:49:40.049727Z"
    }
   }
  },
  {
   "cell_type": "code",
   "execution_count": 6,
   "outputs": [
    {
     "data": {
      "text/plain": "batsman\nA Ashish Reddy    148\nA Chandila          7\nA Chopra            2\nA Choudhary        20\nA Flintoff         18\n                 ... \nYS Chahal          27\nYV Takawale        13\nYashpal Singh      13\nYuvraj Singh      516\nZ Khan            109\nName: batsman_runs, Length: 416, dtype: int64"
     },
     "execution_count": 6,
     "metadata": {},
     "output_type": "execute_result"
    }
   ],
   "source": [
    "# data getting from all dataset - delivery\n",
    "delivery.groupby('batsman')['batsman_runs'].count()\n",
    "\n",
    "# data comming from all the columns where over is greater then 15\n",
    "delivery2.groupby('batsman')['batsman_runs'].count()"
   ],
   "metadata": {
    "collapsed": false,
    "ExecuteTime": {
     "end_time": "2023-07-31T18:49:43.103980Z",
     "start_time": "2023-07-31T18:49:43.084491Z"
    }
   }
  },
  {
   "cell_type": "code",
   "execution_count": 7,
   "outputs": [
    {
     "data": {
      "text/plain": "batsman\nA Mishra             225\nAB de Villiers       570\nAD Mathews           289\nAM Rahane            268\nAR Patel             229\nAT Rayudu            425\nBJ Hodge             385\nDA Miller            360\nDA Warner            228\nDJ Bravo             409\nDJ Hussey            234\nDPMD Jayawardene     246\nHarbhajan Singh      418\nIK Pathan            465\nJA Morkel            425\nJH Kallis            231\nJP Duminy            518\nJP Faulkner          294\nKA Pollard           838\nKD Karthik           463\nKM Jadhav            338\nLRPL Taylor          204\nMK Pandey            224\nMK Tiwary            423\nMS Dhoni            1224\nNV Ojha              304\nP Kumar              268\nPP Chawla            311\nR Vinay Kumar        235\nRA Jadeja            576\nRG Sharma            748\nRV Uthappa           275\nS Badrinath          283\nS Dhawan             243\nSK Raina             458\nSPD Smith            316\nSS Tiwary            300\nSTR Binny            218\nV Kohli              546\nWP Saha              295\nY Venugopal Rao      260\nYK Pathan            584\nYuvraj Singh         516\nName: batsman_runs, dtype: int64"
     },
     "execution_count": 7,
     "metadata": {},
     "output_type": "execute_result"
    }
   ],
   "source": [
    "# stored in a variable\n",
    "all_batsman = delivery2.groupby('batsman')['batsman_runs'].count()\n",
    "\n",
    "x = all_batsman>200\n",
    "\n",
    "# mask - result -> all runs greater then 200\n",
    "all_batsman[x]"
   ],
   "metadata": {
    "collapsed": false,
    "ExecuteTime": {
     "end_time": "2023-07-31T18:49:55.670328Z",
     "start_time": "2023-07-31T18:49:55.654414Z"
    }
   }
  },
  {
   "cell_type": "code",
   "execution_count": 8,
   "outputs": [
    {
     "data": {
      "text/plain": "(43,)"
     },
     "execution_count": 8,
     "metadata": {},
     "output_type": "execute_result"
    }
   ],
   "source": [
    "all_batsman[x].shape"
   ],
   "metadata": {
    "collapsed": false,
    "ExecuteTime": {
     "end_time": "2023-07-31T18:50:10.697696Z",
     "start_time": "2023-07-31T18:50:10.693518Z"
    }
   }
  },
  {
   "cell_type": "code",
   "execution_count": 9,
   "outputs": [
    {
     "data": {
      "text/plain": "['A Mishra',\n 'AB de Villiers',\n 'AD Mathews',\n 'AM Rahane',\n 'AR Patel',\n 'AT Rayudu',\n 'BJ Hodge',\n 'DA Miller',\n 'DA Warner',\n 'DJ Bravo',\n 'DJ Hussey',\n 'DPMD Jayawardene',\n 'Harbhajan Singh',\n 'IK Pathan',\n 'JA Morkel',\n 'JH Kallis',\n 'JP Duminy',\n 'JP Faulkner',\n 'KA Pollard',\n 'KD Karthik',\n 'KM Jadhav',\n 'LRPL Taylor',\n 'MK Pandey',\n 'MK Tiwary',\n 'MS Dhoni',\n 'NV Ojha',\n 'P Kumar',\n 'PP Chawla',\n 'R Vinay Kumar',\n 'RA Jadeja',\n 'RG Sharma',\n 'RV Uthappa',\n 'S Badrinath',\n 'S Dhawan',\n 'SK Raina',\n 'SPD Smith',\n 'SS Tiwary',\n 'STR Binny',\n 'V Kohli',\n 'WP Saha',\n 'Y Venugopal Rao',\n 'YK Pathan',\n 'Yuvraj Singh']"
     },
     "execution_count": 9,
     "metadata": {},
     "output_type": "execute_result"
    }
   ],
   "source": [
    "# get indec from series, because we need just batsman names\n",
    "\n",
    "all_batsman[x].index\n",
    "\n",
    "# make a list\n",
    "all_batsman[x].index.to_list()\n",
    "\n",
    "# batsman_list - - data store in var, in the form of list\n",
    "batsman_list =all_batsman[x].index.to_list()\n",
    "batsman_list"
   ],
   "metadata": {
    "collapsed": false,
    "ExecuteTime": {
     "end_time": "2023-07-31T18:51:46.041822Z",
     "start_time": "2023-07-31T18:51:46.032886Z"
    }
   }
  },
  {
   "cell_type": "code",
   "execution_count": 10,
   "outputs": [
    {
     "data": {
      "text/plain": "        match_id  inning          batting_team         bowling_team  over  \\\n62774        265       2  Kochi Tuskers Kerala      Deccan Chargers    12   \n144209       610       1         Gujarat Lions  Sunrisers Hyderabad     5   \n\n        ball        batsman  non_striker    bowler  is_super_over  ...  \\\n62774      6  R Vinay Kumar    RA Jadeja  A Mishra              0  ...   \n144209     2       SK Raina  BB McCullum   B Kumar              0  ...   \n\n        bye_runs  legbye_runs  noball_runs  penalty_runs  batsman_runs  \\\n62774          0            0            0             0             1   \n144209         0            0            0             0             2   \n\n        extra_runs  total_runs  player_dismissed dismissal_kind fielder  \n62774            0           1               NaN            NaN     NaN  \n144209           0           2               NaN            NaN     NaN  \n\n[2 rows x 21 columns]",
      "text/html": "<div>\n<style scoped>\n    .dataframe tbody tr th:only-of-type {\n        vertical-align: middle;\n    }\n\n    .dataframe tbody tr th {\n        vertical-align: top;\n    }\n\n    .dataframe thead th {\n        text-align: right;\n    }\n</style>\n<table border=\"1\" class=\"dataframe\">\n  <thead>\n    <tr style=\"text-align: right;\">\n      <th></th>\n      <th>match_id</th>\n      <th>inning</th>\n      <th>batting_team</th>\n      <th>bowling_team</th>\n      <th>over</th>\n      <th>ball</th>\n      <th>batsman</th>\n      <th>non_striker</th>\n      <th>bowler</th>\n      <th>is_super_over</th>\n      <th>...</th>\n      <th>bye_runs</th>\n      <th>legbye_runs</th>\n      <th>noball_runs</th>\n      <th>penalty_runs</th>\n      <th>batsman_runs</th>\n      <th>extra_runs</th>\n      <th>total_runs</th>\n      <th>player_dismissed</th>\n      <th>dismissal_kind</th>\n      <th>fielder</th>\n    </tr>\n  </thead>\n  <tbody>\n    <tr>\n      <th>62774</th>\n      <td>265</td>\n      <td>2</td>\n      <td>Kochi Tuskers Kerala</td>\n      <td>Deccan Chargers</td>\n      <td>12</td>\n      <td>6</td>\n      <td>R Vinay Kumar</td>\n      <td>RA Jadeja</td>\n      <td>A Mishra</td>\n      <td>0</td>\n      <td>...</td>\n      <td>0</td>\n      <td>0</td>\n      <td>0</td>\n      <td>0</td>\n      <td>1</td>\n      <td>0</td>\n      <td>1</td>\n      <td>NaN</td>\n      <td>NaN</td>\n      <td>NaN</td>\n    </tr>\n    <tr>\n      <th>144209</th>\n      <td>610</td>\n      <td>1</td>\n      <td>Gujarat Lions</td>\n      <td>Sunrisers Hyderabad</td>\n      <td>5</td>\n      <td>2</td>\n      <td>SK Raina</td>\n      <td>BB McCullum</td>\n      <td>B Kumar</td>\n      <td>0</td>\n      <td>...</td>\n      <td>0</td>\n      <td>0</td>\n      <td>0</td>\n      <td>0</td>\n      <td>2</td>\n      <td>0</td>\n      <td>2</td>\n      <td>NaN</td>\n      <td>NaN</td>\n      <td>NaN</td>\n    </tr>\n  </tbody>\n</table>\n<p>2 rows × 21 columns</p>\n</div>"
     },
     "execution_count": 10,
     "metadata": {},
     "output_type": "execute_result"
    }
   ],
   "source": [
    "# strike Rate =(Number of runs/number of balls)/100\n",
    "# Runs stored by all these 43 batsman\n",
    "# Balls played by these 43 batsman\n",
    "\n",
    "# We use isin function here - isin function details are given blow - after this problem.\n",
    "delivery['batsman'].isin(batsman_list)\n",
    "\n",
    "# store in delivery - also do this step with mask\n",
    "# Storing the data in the variable 'delivery' and optionally we can implement a mask for this step.\n",
    "delivery[delivery['batsman'].isin(batsman_list)].sample(2)"
   ],
   "metadata": {
    "collapsed": false,
    "ExecuteTime": {
     "end_time": "2023-08-01T07:55:58.431994Z",
     "start_time": "2023-08-01T07:55:58.387773Z"
    }
   }
  },
  {
   "cell_type": "code",
   "execution_count": 11,
   "outputs": [
    {
     "data": {
      "text/plain": "batsman\nA Mishra           227\nAB de Villiers    1203\nName: batsman_runs, dtype: int64"
     },
     "execution_count": 11,
     "metadata": {},
     "output_type": "execute_result"
    }
   ],
   "source": [
    "# all batsman in delivery2 are played 16-20 overs\n",
    "final = delivery2[delivery2['batsman'].isin(batsman_list)]\n",
    "\n",
    "# calculate runs - sum\n",
    "\n",
    "runs = final.groupby('batsman')['batsman_runs'].sum()\n",
    "\n",
    "runs.head(2)"
   ],
   "metadata": {
    "collapsed": false,
    "ExecuteTime": {
     "end_time": "2023-08-01T07:58:45.597001Z",
     "start_time": "2023-08-01T07:58:45.568142Z"
    }
   }
  },
  {
   "cell_type": "code",
   "execution_count": 14,
   "outputs": [
    {
     "data": {
      "text/plain": "batsman\nA Mishra          225\nAB de Villiers    570\nName: batsman_runs, dtype: int64"
     },
     "execution_count": 14,
     "metadata": {},
     "output_type": "execute_result"
    }
   ],
   "source": [
    "# calculate all balls - use count()\n",
    "\n",
    "balls = final.groupby('batsman')['batsman_runs'].count()\n",
    "\n",
    "balls.head(2)"
   ],
   "metadata": {
    "collapsed": false,
    "ExecuteTime": {
     "end_time": "2023-08-01T08:04:51.714785Z",
     "start_time": "2023-08-01T08:04:51.707958Z"
    }
   }
  },
  {
   "cell_type": "code",
   "execution_count": 15,
   "outputs": [
    {
     "data": {
      "text/plain": "batsman\nA Mishra            100.888889\nAB de Villiers      211.052632\nAD Mathews          147.058824\nAM Rahane           152.985075\nAR Patel            142.794760\nAT Rayudu           165.411765\nBJ Hodge            157.402597\nDA Miller           186.666667\nDA Warner           189.473684\nDJ Bravo            167.726161\nDJ Hussey           175.213675\nDPMD Jayawardene    152.032520\nHarbhajan Singh     147.607656\nIK Pathan           142.580645\nJA Morkel           149.882353\nJH Kallis           170.562771\nJP Duminy           167.760618\nJP Faulkner         149.319728\nKA Pollard          161.336516\nKD Karthik          152.051836\nKM Jadhav           144.378698\nLRPL Taylor         152.941176\nMK Pandey           151.785714\nMK Tiwary           140.189125\nMS Dhoni            169.607843\nNV Ojha             134.868421\nP Kumar             109.701493\nPP Chawla           120.257235\nR Vinay Kumar       108.936170\nRA Jadeja           130.729167\nRG Sharma           175.668449\nRV Uthappa          173.454545\nS Badrinath         149.116608\nS Dhawan            158.847737\nSK Raina            167.467249\nSPD Smith           169.303797\nSS Tiwary           136.666667\nSTR Binny           144.036697\nV Kohli             181.868132\nWP Saha             163.389831\nY Venugopal Rao     148.846154\nYK Pathan           159.246575\nYuvraj Singh        171.124031\nName: batsman_runs, dtype: float64"
     },
     "execution_count": 15,
     "metadata": {},
     "output_type": "execute_result"
    }
   ],
   "source": [
    "sr = (runs/balls)*100\n",
    "sr"
   ],
   "metadata": {
    "collapsed": false,
    "ExecuteTime": {
     "end_time": "2023-08-01T08:05:46.630065Z",
     "start_time": "2023-08-01T08:05:46.622214Z"
    }
   }
  },
  {
   "cell_type": "code",
   "execution_count": null,
   "outputs": [],
   "source": [],
   "metadata": {
    "collapsed": false
   }
  }
 ],
 "metadata": {
  "kernelspec": {
   "display_name": "Python 3",
   "language": "python",
   "name": "python3"
  },
  "language_info": {
   "codemirror_mode": {
    "name": "ipython",
    "version": 2
   },
   "file_extension": ".py",
   "mimetype": "text/x-python",
   "name": "python",
   "nbconvert_exporter": "python",
   "pygments_lexer": "ipython2",
   "version": "2.7.6"
  }
 },
 "nbformat": 4,
 "nbformat_minor": 0
}
