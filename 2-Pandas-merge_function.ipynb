{
 "cells": [
  {
   "cell_type": "code",
   "execution_count": 1,
   "metadata": {
    "collapsed": true,
    "ExecuteTime": {
     "end_time": "2023-08-01T08:16:18.446794Z",
     "start_time": "2023-08-01T08:16:17.878113Z"
    }
   },
   "outputs": [],
   "source": [
    "import pandas as pd\n",
    "import numpy as np"
   ]
  },
  {
   "cell_type": "code",
   "execution_count": 2,
   "outputs": [
    {
     "data": {
      "text/plain": "       match_id  inning         batting_team           bowling_team  over  \\\n27010       116       2  Chennai Super Kings        Kings XI Punjab     1   \n7199         31       1     Delhi Daredevils  Kolkata Knight Riders    11   \n\n       ball    batsman non_striker     bowler  is_super_over  ...  bye_runs  \\\n27010     3   S Vidyut    PA Patel  IK Pathan              0  ...         0   \n7199      6  SV Samson     SS Iyer   UT Yadav              0  ...         0   \n\n       legbye_runs  noball_runs  penalty_runs  batsman_runs  extra_runs  \\\n27010            0            0             0             1           0   \n7199             0            0             0             1           0   \n\n       total_runs  player_dismissed dismissal_kind fielder  \n27010           1               NaN            NaN     NaN  \n7199            1               NaN            NaN     NaN  \n\n[2 rows x 21 columns]",
      "text/html": "<div>\n<style scoped>\n    .dataframe tbody tr th:only-of-type {\n        vertical-align: middle;\n    }\n\n    .dataframe tbody tr th {\n        vertical-align: top;\n    }\n\n    .dataframe thead th {\n        text-align: right;\n    }\n</style>\n<table border=\"1\" class=\"dataframe\">\n  <thead>\n    <tr style=\"text-align: right;\">\n      <th></th>\n      <th>match_id</th>\n      <th>inning</th>\n      <th>batting_team</th>\n      <th>bowling_team</th>\n      <th>over</th>\n      <th>ball</th>\n      <th>batsman</th>\n      <th>non_striker</th>\n      <th>bowler</th>\n      <th>is_super_over</th>\n      <th>...</th>\n      <th>bye_runs</th>\n      <th>legbye_runs</th>\n      <th>noball_runs</th>\n      <th>penalty_runs</th>\n      <th>batsman_runs</th>\n      <th>extra_runs</th>\n      <th>total_runs</th>\n      <th>player_dismissed</th>\n      <th>dismissal_kind</th>\n      <th>fielder</th>\n    </tr>\n  </thead>\n  <tbody>\n    <tr>\n      <th>27010</th>\n      <td>116</td>\n      <td>2</td>\n      <td>Chennai Super Kings</td>\n      <td>Kings XI Punjab</td>\n      <td>1</td>\n      <td>3</td>\n      <td>S Vidyut</td>\n      <td>PA Patel</td>\n      <td>IK Pathan</td>\n      <td>0</td>\n      <td>...</td>\n      <td>0</td>\n      <td>0</td>\n      <td>0</td>\n      <td>0</td>\n      <td>1</td>\n      <td>0</td>\n      <td>1</td>\n      <td>NaN</td>\n      <td>NaN</td>\n      <td>NaN</td>\n    </tr>\n    <tr>\n      <th>7199</th>\n      <td>31</td>\n      <td>1</td>\n      <td>Delhi Daredevils</td>\n      <td>Kolkata Knight Riders</td>\n      <td>11</td>\n      <td>6</td>\n      <td>SV Samson</td>\n      <td>SS Iyer</td>\n      <td>UT Yadav</td>\n      <td>0</td>\n      <td>...</td>\n      <td>0</td>\n      <td>0</td>\n      <td>0</td>\n      <td>0</td>\n      <td>1</td>\n      <td>0</td>\n      <td>1</td>\n      <td>NaN</td>\n      <td>NaN</td>\n      <td>NaN</td>\n    </tr>\n  </tbody>\n</table>\n<p>2 rows × 21 columns</p>\n</div>"
     },
     "execution_count": 2,
     "metadata": {},
     "output_type": "execute_result"
    }
   ],
   "source": [
    "# first dataset\n",
    "delivery = pd.read_csv('deliveries.csv')\n",
    "delivery.sample(2)"
   ],
   "metadata": {
    "collapsed": false,
    "ExecuteTime": {
     "end_time": "2023-08-01T08:17:04.804739Z",
     "start_time": "2023-08-01T08:17:04.628615Z"
    }
   }
  },
  {
   "cell_type": "code",
   "execution_count": 3,
   "outputs": [
    {
     "data": {
      "text/plain": "      id  season     city        date                    team1  \\\n600  601    2016     Pune  2016-04-29  Rising Pune Supergiants   \n465  466    2014  Sharjah  2014-04-22          Kings XI Punjab   \n\n                   team2          toss_winner toss_decision  result  \\\n600        Gujarat Lions        Gujarat Lions         field  normal   \n465  Sunrisers Hyderabad  Sunrisers Hyderabad         field  normal   \n\n     dl_applied           winner  win_by_runs  win_by_wickets player_of_match  \\\n600           0    Gujarat Lions            0               3        DR Smith   \n465           0  Kings XI Punjab           72               0      GJ Maxwell   \n\n                                       venue      umpire1       umpire2  \\\n600  Maharashtra Cricket Association Stadium  CB Gaffaney  BNJ Oxenford   \n465                  Sharjah Cricket Stadium    M Erasmus        S Ravi   \n\n     umpire3  \n600      NaN  \n465      NaN  ",
      "text/html": "<div>\n<style scoped>\n    .dataframe tbody tr th:only-of-type {\n        vertical-align: middle;\n    }\n\n    .dataframe tbody tr th {\n        vertical-align: top;\n    }\n\n    .dataframe thead th {\n        text-align: right;\n    }\n</style>\n<table border=\"1\" class=\"dataframe\">\n  <thead>\n    <tr style=\"text-align: right;\">\n      <th></th>\n      <th>id</th>\n      <th>season</th>\n      <th>city</th>\n      <th>date</th>\n      <th>team1</th>\n      <th>team2</th>\n      <th>toss_winner</th>\n      <th>toss_decision</th>\n      <th>result</th>\n      <th>dl_applied</th>\n      <th>winner</th>\n      <th>win_by_runs</th>\n      <th>win_by_wickets</th>\n      <th>player_of_match</th>\n      <th>venue</th>\n      <th>umpire1</th>\n      <th>umpire2</th>\n      <th>umpire3</th>\n    </tr>\n  </thead>\n  <tbody>\n    <tr>\n      <th>600</th>\n      <td>601</td>\n      <td>2016</td>\n      <td>Pune</td>\n      <td>2016-04-29</td>\n      <td>Rising Pune Supergiants</td>\n      <td>Gujarat Lions</td>\n      <td>Gujarat Lions</td>\n      <td>field</td>\n      <td>normal</td>\n      <td>0</td>\n      <td>Gujarat Lions</td>\n      <td>0</td>\n      <td>3</td>\n      <td>DR Smith</td>\n      <td>Maharashtra Cricket Association Stadium</td>\n      <td>CB Gaffaney</td>\n      <td>BNJ Oxenford</td>\n      <td>NaN</td>\n    </tr>\n    <tr>\n      <th>465</th>\n      <td>466</td>\n      <td>2014</td>\n      <td>Sharjah</td>\n      <td>2014-04-22</td>\n      <td>Kings XI Punjab</td>\n      <td>Sunrisers Hyderabad</td>\n      <td>Sunrisers Hyderabad</td>\n      <td>field</td>\n      <td>normal</td>\n      <td>0</td>\n      <td>Kings XI Punjab</td>\n      <td>72</td>\n      <td>0</td>\n      <td>GJ Maxwell</td>\n      <td>Sharjah Cricket Stadium</td>\n      <td>M Erasmus</td>\n      <td>S Ravi</td>\n      <td>NaN</td>\n    </tr>\n  </tbody>\n</table>\n</div>"
     },
     "execution_count": 3,
     "metadata": {},
     "output_type": "execute_result"
    }
   ],
   "source": [
    "# second dataset\n",
    "match = pd.read_csv('matches.csv')\n",
    "match.sample(2)"
   ],
   "metadata": {
    "collapsed": false,
    "ExecuteTime": {
     "end_time": "2023-08-03T05:20:51.610747Z",
     "start_time": "2023-08-03T05:20:51.567038Z"
    }
   }
  },
  {
   "cell_type": "code",
   "execution_count": 4,
   "outputs": [
    {
     "name": "stdout",
     "output_type": "stream",
     "text": [
      "Delivery Shape (150460, 21)\n",
      "Match Shape (636, 18)\n"
     ]
    }
   ],
   "source": [
    "# Both datasets rows and columns\n",
    "\n",
    "print('Delivery Shape', delivery.shape)\n",
    "print('Match Shape', match.shape)"
   ],
   "metadata": {
    "collapsed": false,
    "ExecuteTime": {
     "end_time": "2023-08-03T05:22:06.401942Z",
     "start_time": "2023-08-03T05:22:06.397354Z"
    }
   }
  },
  {
   "cell_type": "markdown",
   "source": [
    "Now we will marge both datasets through 'id' columns\n",
    "\n",
    "- match_id is in Delivery dataset\n",
    "- id is in Matches dataset\n",
    "\n",
    "delivery.merge( right: 'DataFrame | Series', how: 'MergeHow' = 'inner', on: 'IndexLabel | None' = None, left_on: 'IndexLabel | None' = None, right_on: 'IndexLabel | None' = None, left_index: 'bool' = False, right_index: 'bool' = False, sort: 'bool' = False, suffixes: 'Suffixes' = ('_x', '_y'), copy: 'bool | None' = None, indicator: 'str | bool' = False, validate: 'str | None' = None, )"
   ],
   "metadata": {
    "collapsed": false
   }
  },
  {
   "cell_type": "code",
   "execution_count": 5,
   "outputs": [
    {
     "data": {
      "text/plain": "\" \\ndelivery.merge(\\n    right: 'DataFrame | Series',\\n    how: 'MergeHow' = 'inner',\\n    on: 'IndexLabel | None' = None,\\n    left_on: 'IndexLabel | None' = None,\\n    right_on: 'IndexLabel | None' = None,\\n    left_index: 'bool' = False,\\n    right_index: 'bool' = False,\\n    sort: 'bool' = False,\\n    suffixes: 'Suffixes' = ('_x', '_y'),\\n    copy: 'bool | None' = None,\\n    indicator: 'str | bool' = False,\\n    validate: 'str | None' = None,\\n)\\n\""
     },
     "execution_count": 5,
     "metadata": {},
     "output_type": "execute_result"
    }
   ],
   "source": [
    "# Merge\n",
    "\n",
    "\"\"\"\n",
    "delivery.merge(\n",
    "    right: 'DataFrame | Series',\n",
    "    how: 'MergeHow' = 'inner',\n",
    "    on: 'IndexLabel | None' = None,\n",
    "    left_on: 'IndexLabel | None' = None,\n",
    "    right_on: 'IndexLabel | None' = None,\n",
    "    left_index: 'bool' = False,\n",
    "    right_index: 'bool' = False,\n",
    "    sort: 'bool' = False,\n",
    "    suffixes: 'Suffixes' = ('_x', '_y'),\n",
    "    copy: 'bool | None' = None,\n",
    "    indicator: 'str | bool' = False,\n",
    "    validate: 'str | None' = None,\n",
    ")\n",
    "\"\"\""
   ],
   "metadata": {
    "collapsed": false,
    "ExecuteTime": {
     "end_time": "2023-08-03T05:24:14.149044Z",
     "start_time": "2023-08-03T05:24:14.126159Z"
    }
   }
  },
  {
   "cell_type": "code",
   "execution_count": 6,
   "outputs": [
    {
     "data": {
      "text/plain": "        match_id  inning         batting_team                 bowling_team  \\\n135230       572       1  Sunrisers Hyderabad               Mumbai Indians   \n110490       466       2  Sunrisers Hyderabad              Kings XI Punjab   \n12316         52       2  Sunrisers Hyderabad                Gujarat Lions   \n1822           8       2      Kings XI Punjab  Royal Challengers Bangalore   \n\n        over  ball    batsman non_striker     bowler  is_super_over  ...  \\\n135230    10     4  KV Sharma    KL Rahul  J Suchith              0  ...   \n110490     9     1   KL Rahul   IK Pathan   R Dhawan              0  ...   \n12316     17     2  V Shankar   DA Warner    P Kumar              0  ...   \n1822       4     3    M Vohra     HM Amla  SR Watson              0  ...   \n\n        result  dl_applied               winner  win_by_runs  win_by_wickets  \\\n135230  normal           0       Mumbai Indians            0               9   \n110490  normal           0      Kings XI Punjab           72               0   \n12316   normal           0  Sunrisers Hyderabad            0               8   \n1822    normal           0      Kings XI Punjab            0               8   \n\n        player_of_match                                      venue  \\\n135230   MJ McClenaghan  Rajiv Gandhi International Stadium, Uppal   \n110490       GJ Maxwell                    Sharjah Cricket Stadium   \n12316    Mohammed Siraj                                 Green Park   \n1822           AR Patel                     Holkar Cricket Stadium   \n\n             umpire1        umpire2 umpire3  \n135230   CB Gaffaney      K Srinath     NaN  \n110490     M Erasmus         S Ravi     NaN  \n12316   AK Chaudhary    Nitin Menon     NaN  \n1822    AK Chaudhary  C Shamshuddin     NaN  \n\n[4 rows x 39 columns]",
      "text/html": "<div>\n<style scoped>\n    .dataframe tbody tr th:only-of-type {\n        vertical-align: middle;\n    }\n\n    .dataframe tbody tr th {\n        vertical-align: top;\n    }\n\n    .dataframe thead th {\n        text-align: right;\n    }\n</style>\n<table border=\"1\" class=\"dataframe\">\n  <thead>\n    <tr style=\"text-align: right;\">\n      <th></th>\n      <th>match_id</th>\n      <th>inning</th>\n      <th>batting_team</th>\n      <th>bowling_team</th>\n      <th>over</th>\n      <th>ball</th>\n      <th>batsman</th>\n      <th>non_striker</th>\n      <th>bowler</th>\n      <th>is_super_over</th>\n      <th>...</th>\n      <th>result</th>\n      <th>dl_applied</th>\n      <th>winner</th>\n      <th>win_by_runs</th>\n      <th>win_by_wickets</th>\n      <th>player_of_match</th>\n      <th>venue</th>\n      <th>umpire1</th>\n      <th>umpire2</th>\n      <th>umpire3</th>\n    </tr>\n  </thead>\n  <tbody>\n    <tr>\n      <th>135230</th>\n      <td>572</td>\n      <td>1</td>\n      <td>Sunrisers Hyderabad</td>\n      <td>Mumbai Indians</td>\n      <td>10</td>\n      <td>4</td>\n      <td>KV Sharma</td>\n      <td>KL Rahul</td>\n      <td>J Suchith</td>\n      <td>0</td>\n      <td>...</td>\n      <td>normal</td>\n      <td>0</td>\n      <td>Mumbai Indians</td>\n      <td>0</td>\n      <td>9</td>\n      <td>MJ McClenaghan</td>\n      <td>Rajiv Gandhi International Stadium, Uppal</td>\n      <td>CB Gaffaney</td>\n      <td>K Srinath</td>\n      <td>NaN</td>\n    </tr>\n    <tr>\n      <th>110490</th>\n      <td>466</td>\n      <td>2</td>\n      <td>Sunrisers Hyderabad</td>\n      <td>Kings XI Punjab</td>\n      <td>9</td>\n      <td>1</td>\n      <td>KL Rahul</td>\n      <td>IK Pathan</td>\n      <td>R Dhawan</td>\n      <td>0</td>\n      <td>...</td>\n      <td>normal</td>\n      <td>0</td>\n      <td>Kings XI Punjab</td>\n      <td>72</td>\n      <td>0</td>\n      <td>GJ Maxwell</td>\n      <td>Sharjah Cricket Stadium</td>\n      <td>M Erasmus</td>\n      <td>S Ravi</td>\n      <td>NaN</td>\n    </tr>\n    <tr>\n      <th>12316</th>\n      <td>52</td>\n      <td>2</td>\n      <td>Sunrisers Hyderabad</td>\n      <td>Gujarat Lions</td>\n      <td>17</td>\n      <td>2</td>\n      <td>V Shankar</td>\n      <td>DA Warner</td>\n      <td>P Kumar</td>\n      <td>0</td>\n      <td>...</td>\n      <td>normal</td>\n      <td>0</td>\n      <td>Sunrisers Hyderabad</td>\n      <td>0</td>\n      <td>8</td>\n      <td>Mohammed Siraj</td>\n      <td>Green Park</td>\n      <td>AK Chaudhary</td>\n      <td>Nitin Menon</td>\n      <td>NaN</td>\n    </tr>\n    <tr>\n      <th>1822</th>\n      <td>8</td>\n      <td>2</td>\n      <td>Kings XI Punjab</td>\n      <td>Royal Challengers Bangalore</td>\n      <td>4</td>\n      <td>3</td>\n      <td>M Vohra</td>\n      <td>HM Amla</td>\n      <td>SR Watson</td>\n      <td>0</td>\n      <td>...</td>\n      <td>normal</td>\n      <td>0</td>\n      <td>Kings XI Punjab</td>\n      <td>0</td>\n      <td>8</td>\n      <td>AR Patel</td>\n      <td>Holkar Cricket Stadium</td>\n      <td>AK Chaudhary</td>\n      <td>C Shamshuddin</td>\n      <td>NaN</td>\n    </tr>\n  </tbody>\n</table>\n<p>4 rows × 39 columns</p>\n</div>"
     },
     "execution_count": 6,
     "metadata": {},
     "output_type": "execute_result"
    }
   ],
   "source": [
    "# in `delivery` merge `match`  left_on => detaset given on left, right_on => dataset given on right\n",
    "\n",
    "new_dataset = delivery.merge(match,left_on='match_id',right_on='id')\n",
    "new_dataset.sample(4)"
   ],
   "metadata": {
    "collapsed": false,
    "ExecuteTime": {
     "end_time": "2023-08-03T05:25:40.761447Z",
     "start_time": "2023-08-03T05:25:40.671559Z"
    }
   }
  },
  {
   "cell_type": "code",
   "execution_count": 7,
   "outputs": [
    {
     "name": "stdout",
     "output_type": "stream",
     "text": [
      "(150460, 39)\n"
     ]
    },
    {
     "data": {
      "text/plain": "pandas.core.frame.DataFrame"
     },
     "execution_count": 7,
     "metadata": {},
     "output_type": "execute_result"
    }
   ],
   "source": [
    "# Delivery shape:       (150460, 21)\n",
    "# Matches shape:        (636, 18)\n",
    "# after merge shape is  (150460, 39)\n",
    "\n",
    "print(new_dataset.shape)\n",
    "type(new_dataset)"
   ],
   "metadata": {
    "collapsed": false,
    "ExecuteTime": {
     "end_time": "2023-08-03T05:26:51.302936Z",
     "start_time": "2023-08-03T05:26:51.298338Z"
    }
   }
  },
  {
   "cell_type": "code",
   "execution_count": 13,
   "outputs": [
    {
     "data": {
      "text/plain": "batsman\nA Ashish Reddy     280\nA Chandila           4\nA Chopra            53\nA Choudhary         25\nA Flintoff          62\n                  ... \nYV Takawale        192\nYashpal Singh       47\nYounis Khan          3\nYuvraj Singh      2591\nZ Khan             117\nName: batsman_runs, Length: 461, dtype: int64"
     },
     "execution_count": 13,
     "metadata": {},
     "output_type": "execute_result"
    }
   ],
   "source": [
    "# season wise hmary her batsman nay kitny runs bnae\n",
    "new_dataset.groupby('batsman')['batsman_runs'].sum()"
   ],
   "metadata": {
    "collapsed": false,
    "ExecuteTime": {
     "end_time": "2023-08-03T05:39:30.292051Z",
     "start_time": "2023-08-03T05:39:30.278773Z"
    }
   }
  },
  {
   "cell_type": "markdown",
   "source": [
    "### Let's understand the task first\n",
    "#### Calculate the runs scored by each batsman in each season - season wise runs\n",
    "\n",
    "To achieve this, we will follow these steps:\n",
    "\n",
    "- Group the data based on the 'season' column.\n",
    "- Within season group, further group the data based on the 'batsman' column. (inside the season grop)\n",
    "- Calculate the sum of runs scored by each batsman in each season.\n",
    "\n",
    "### Understand the full code, step by step\n",
    "\n",
    "Let's break down the given code step by step and provide a detailed explanation for each part:\n",
    "\n",
    "Step 1: Import necessary libraries and modules Before running the provided code, you need to ensure that you have the required libraries imported. Assuming you have already imported the necessary libraries like Pandas, the code can be executed.\n",
    "\n",
    "Step 2: Grouping and Aggregating the Data\n",
    "\n",
    "    new_dataset.groupby(['season','batsman'])['batsman_runs'].sum()\n",
    "\n",
    "In this step, the new_dataset DataFrame is being grouped by two columns: 'season' and 'batsman'. The groupby method is used to group the data based on these two columns. The column 'batsman_runs' is then selected using square brackets ['batsman_runs'] to get the 'batsman_runs' values corresponding to each group. The sum() function is applied to each group, which calculates the total 'batsman_runs' for each 'season' and 'batsman' combination.\n",
    "\n",
    "Step 3: Sorting the Data in Descending Order\n",
    "\n",
    "- .sort_values(ascending=False)\n",
    "After grouping and summing, the data is sorted in descending order based on the calculated sum of 'batsman_runs'. The sort_values method is used with ascending=False to sort the data in descending order.\n",
    "\n",
    "Step 4: Resetting the Index\n",
    "\n",
    "- .reset_index()\n",
    "The index of the DataFrame is reset after sorting. This step ensures that the resulting DataFrame maintains a proper index order, and the previous index becomes a regular column.\n",
    "\n",
    "Step 5: Dropping Duplicates Based on 'season' Column\n",
    "\n",
    "- .drop_duplicates(subset='season',keep='first')\n",
    "Since the data is sorted in descending order of the total 'batsman_runs', there might be multiple entries for the same 'season'. This step drops duplicate rows based on the 'season' column while keeping only the first occurrence of each 'season'. It retains the entry with the highest 'batsman_runs' for each 'season'.\n",
    "\n",
    "Step 6: Sorting the Data Based on 'season' and 'batsman'\n",
    "\n",
    "- .sort_values('season')[['season','batsman']]\n",
    "The final step is to sort the DataFrame again, but this time based on the 'season' column in ascending order. Additionally, only the 'season' and 'batsman' columns are retained in the final result. The [['season','batsman']] part is used to select these two columns specifically.\n",
    "\n",
    "In summary, the given code takes a DataFrame named new_dataset, groups the data by 'season' and 'batsman', calculates the total 'batsman_runs' for each group, sorts the data in descending order of the sum of 'batsman_runs', drops duplicates based on the 'season' column while keeping the first occurrence for each 'season', and finally sorts the data based on the 'season' column in ascending order while keeping only the 'season' and 'batsman' columns in the final result."
   ],
   "metadata": {
    "collapsed": false
   }
  },
  {
   "cell_type": "code",
   "execution_count": 16,
   "outputs": [
    {
     "data": {
      "text/plain": "season\n2008    16809\n2009    15376\n2010    17754\n2011    19928\n2012    21322\n2013    21487\n2014    17943\n2015    17427\n2016    17963\n2017    17920\nName: batsman_runs, dtype: int64"
     },
     "execution_count": 16,
     "metadata": {},
     "output_type": "execute_result"
    }
   ],
   "source": [
    "# Group the data based on the 'season' column.\n",
    "\n",
    "new_dataset.groupby('season')['batsman_runs'].sum()"
   ],
   "metadata": {
    "collapsed": false,
    "ExecuteTime": {
     "end_time": "2023-08-03T05:40:03.711984Z",
     "start_time": "2023-08-03T05:40:03.706040Z"
    }
   }
  },
  {
   "cell_type": "code",
   "execution_count": 17,
   "outputs": [
    {
     "data": {
      "text/plain": "season  batsman          \n2008    A Chopra              42\n        A Kumble              13\n        A Mishra              37\n        A Mukund               0\n        A Nehra                3\n                            ... \n2017    Washington Sundar      9\n        YK Pathan            143\n        YS Chahal             13\n        Yuvraj Singh         252\n        Z Khan                 4\nName: batsman_runs, Length: 1531, dtype: int64"
     },
     "execution_count": 17,
     "metadata": {},
     "output_type": "execute_result"
    }
   ],
   "source": [
    "# Within season group, further group the data based on the 'batsman' column. (inside the season grop)\n",
    "\n",
    "new_dataset.groupby(['season','batsman'])['batsman_runs'].sum()\n",
    "\n",
    "# type(new_dataset.groupby(['season','batsman'])['batsman_runs'].sum()) # multi index series\n",
    "# output\n",
    "# 1- season\n",
    "# 2- batsman\n",
    "# 3- runs"
   ],
   "metadata": {
    "collapsed": false,
    "ExecuteTime": {
     "end_time": "2023-08-03T05:40:06.501198Z",
     "start_time": "2023-08-03T05:40:06.457877Z"
    }
   }
  },
  {
   "cell_type": "code",
   "execution_count": 19,
   "outputs": [
    {
     "data": {
      "text/plain": "season  batsman    \n2016    V Kohli        973\n        DA Warner      848\n2013    MEK Hussey     733\n2012    CH Gayle       733\n2013    CH Gayle       720\n                      ... \n2017    MM Patel         0\n2012    AC Blizzard      0\n2011    AB Dinda         0\n2017    AD Nath          0\n2008    L Balaji         0\nName: batsman_runs, Length: 1531, dtype: int64"
     },
     "execution_count": 19,
     "metadata": {},
     "output_type": "execute_result"
    }
   ],
   "source": [
    "# sort values in descending order\n",
    "new_dataset.groupby(['season','batsman'])['batsman_runs'].sum().sort_values(ascending=False)"
   ],
   "metadata": {
    "collapsed": false,
    "ExecuteTime": {
     "end_time": "2023-08-03T05:42:27.961461Z",
     "start_time": "2023-08-03T05:42:27.936174Z"
    }
   }
  },
  {
   "cell_type": "code",
   "execution_count": 20,
   "outputs": [
    {
     "data": {
      "text/plain": "      season      batsman  batsman_runs\n0       2016      V Kohli           973\n1       2016    DA Warner           848\n2       2013   MEK Hussey           733\n3       2012     CH Gayle           733\n4       2013     CH Gayle           720\n...      ...          ...           ...\n1526    2017     MM Patel             0\n1527    2012  AC Blizzard             0\n1528    2011     AB Dinda             0\n1529    2017      AD Nath             0\n1530    2008     L Balaji             0\n\n[1531 rows x 3 columns]",
      "text/html": "<div>\n<style scoped>\n    .dataframe tbody tr th:only-of-type {\n        vertical-align: middle;\n    }\n\n    .dataframe tbody tr th {\n        vertical-align: top;\n    }\n\n    .dataframe thead th {\n        text-align: right;\n    }\n</style>\n<table border=\"1\" class=\"dataframe\">\n  <thead>\n    <tr style=\"text-align: right;\">\n      <th></th>\n      <th>season</th>\n      <th>batsman</th>\n      <th>batsman_runs</th>\n    </tr>\n  </thead>\n  <tbody>\n    <tr>\n      <th>0</th>\n      <td>2016</td>\n      <td>V Kohli</td>\n      <td>973</td>\n    </tr>\n    <tr>\n      <th>1</th>\n      <td>2016</td>\n      <td>DA Warner</td>\n      <td>848</td>\n    </tr>\n    <tr>\n      <th>2</th>\n      <td>2013</td>\n      <td>MEK Hussey</td>\n      <td>733</td>\n    </tr>\n    <tr>\n      <th>3</th>\n      <td>2012</td>\n      <td>CH Gayle</td>\n      <td>733</td>\n    </tr>\n    <tr>\n      <th>4</th>\n      <td>2013</td>\n      <td>CH Gayle</td>\n      <td>720</td>\n    </tr>\n    <tr>\n      <th>...</th>\n      <td>...</td>\n      <td>...</td>\n      <td>...</td>\n    </tr>\n    <tr>\n      <th>1526</th>\n      <td>2017</td>\n      <td>MM Patel</td>\n      <td>0</td>\n    </tr>\n    <tr>\n      <th>1527</th>\n      <td>2012</td>\n      <td>AC Blizzard</td>\n      <td>0</td>\n    </tr>\n    <tr>\n      <th>1528</th>\n      <td>2011</td>\n      <td>AB Dinda</td>\n      <td>0</td>\n    </tr>\n    <tr>\n      <th>1529</th>\n      <td>2017</td>\n      <td>AD Nath</td>\n      <td>0</td>\n    </tr>\n    <tr>\n      <th>1530</th>\n      <td>2008</td>\n      <td>L Balaji</td>\n      <td>0</td>\n    </tr>\n  </tbody>\n</table>\n<p>1531 rows × 3 columns</p>\n</div>"
     },
     "execution_count": 20,
     "metadata": {},
     "output_type": "execute_result"
    }
   ],
   "source": [
    "# reset_index to convert on dataframe\n",
    "new_dataset.groupby(['season','batsman'])['batsman_runs'].sum().sort_values(ascending=False).reset_index()"
   ],
   "metadata": {
    "collapsed": false,
    "ExecuteTime": {
     "end_time": "2023-08-03T05:43:52.238663Z",
     "start_time": "2023-08-03T05:43:52.218453Z"
    }
   }
  },
  {
   "cell_type": "code",
   "execution_count": 21,
   "outputs": [
    {
     "data": {
      "text/plain": "    season       batsman  batsman_runs\n0     2016       V Kohli           973\n2     2013    MEK Hussey           733\n3     2012      CH Gayle           733\n6     2014    RV Uthappa           660\n7     2017     DA Warner           641\n9     2010  SR Tendulkar           618\n10    2008      SE Marsh           616\n11    2011      CH Gayle           608\n14    2009     ML Hayden           572\n17    2015     DA Warner           562",
      "text/html": "<div>\n<style scoped>\n    .dataframe tbody tr th:only-of-type {\n        vertical-align: middle;\n    }\n\n    .dataframe tbody tr th {\n        vertical-align: top;\n    }\n\n    .dataframe thead th {\n        text-align: right;\n    }\n</style>\n<table border=\"1\" class=\"dataframe\">\n  <thead>\n    <tr style=\"text-align: right;\">\n      <th></th>\n      <th>season</th>\n      <th>batsman</th>\n      <th>batsman_runs</th>\n    </tr>\n  </thead>\n  <tbody>\n    <tr>\n      <th>0</th>\n      <td>2016</td>\n      <td>V Kohli</td>\n      <td>973</td>\n    </tr>\n    <tr>\n      <th>2</th>\n      <td>2013</td>\n      <td>MEK Hussey</td>\n      <td>733</td>\n    </tr>\n    <tr>\n      <th>3</th>\n      <td>2012</td>\n      <td>CH Gayle</td>\n      <td>733</td>\n    </tr>\n    <tr>\n      <th>6</th>\n      <td>2014</td>\n      <td>RV Uthappa</td>\n      <td>660</td>\n    </tr>\n    <tr>\n      <th>7</th>\n      <td>2017</td>\n      <td>DA Warner</td>\n      <td>641</td>\n    </tr>\n    <tr>\n      <th>9</th>\n      <td>2010</td>\n      <td>SR Tendulkar</td>\n      <td>618</td>\n    </tr>\n    <tr>\n      <th>10</th>\n      <td>2008</td>\n      <td>SE Marsh</td>\n      <td>616</td>\n    </tr>\n    <tr>\n      <th>11</th>\n      <td>2011</td>\n      <td>CH Gayle</td>\n      <td>608</td>\n    </tr>\n    <tr>\n      <th>14</th>\n      <td>2009</td>\n      <td>ML Hayden</td>\n      <td>572</td>\n    </tr>\n    <tr>\n      <th>17</th>\n      <td>2015</td>\n      <td>DA Warner</td>\n      <td>562</td>\n    </tr>\n  </tbody>\n</table>\n</div>"
     },
     "execution_count": 21,
     "metadata": {},
     "output_type": "execute_result"
    }
   ],
   "source": [
    "# drop duplicates - > keep='first', because we sorted value and have top batsmans in every season.\n",
    "\n",
    "new_dataset.groupby(['season','batsman'])['batsman_runs'].sum().sort_values(ascending=False).reset_index().drop_duplicates(subset='season',keep='first')"
   ],
   "metadata": {
    "collapsed": false,
    "ExecuteTime": {
     "end_time": "2023-08-03T05:45:09.900519Z",
     "start_time": "2023-08-03T05:45:09.875930Z"
    }
   }
  },
  {
   "cell_type": "code",
   "execution_count": 22,
   "outputs": [
    {
     "data": {
      "text/plain": "    season       batsman  batsman_runs\n10    2008      SE Marsh           616\n14    2009     ML Hayden           572\n9     2010  SR Tendulkar           618\n11    2011      CH Gayle           608\n3     2012      CH Gayle           733\n2     2013    MEK Hussey           733\n6     2014    RV Uthappa           660\n17    2015     DA Warner           562\n0     2016       V Kohli           973\n7     2017     DA Warner           641",
      "text/html": "<div>\n<style scoped>\n    .dataframe tbody tr th:only-of-type {\n        vertical-align: middle;\n    }\n\n    .dataframe tbody tr th {\n        vertical-align: top;\n    }\n\n    .dataframe thead th {\n        text-align: right;\n    }\n</style>\n<table border=\"1\" class=\"dataframe\">\n  <thead>\n    <tr style=\"text-align: right;\">\n      <th></th>\n      <th>season</th>\n      <th>batsman</th>\n      <th>batsman_runs</th>\n    </tr>\n  </thead>\n  <tbody>\n    <tr>\n      <th>10</th>\n      <td>2008</td>\n      <td>SE Marsh</td>\n      <td>616</td>\n    </tr>\n    <tr>\n      <th>14</th>\n      <td>2009</td>\n      <td>ML Hayden</td>\n      <td>572</td>\n    </tr>\n    <tr>\n      <th>9</th>\n      <td>2010</td>\n      <td>SR Tendulkar</td>\n      <td>618</td>\n    </tr>\n    <tr>\n      <th>11</th>\n      <td>2011</td>\n      <td>CH Gayle</td>\n      <td>608</td>\n    </tr>\n    <tr>\n      <th>3</th>\n      <td>2012</td>\n      <td>CH Gayle</td>\n      <td>733</td>\n    </tr>\n    <tr>\n      <th>2</th>\n      <td>2013</td>\n      <td>MEK Hussey</td>\n      <td>733</td>\n    </tr>\n    <tr>\n      <th>6</th>\n      <td>2014</td>\n      <td>RV Uthappa</td>\n      <td>660</td>\n    </tr>\n    <tr>\n      <th>17</th>\n      <td>2015</td>\n      <td>DA Warner</td>\n      <td>562</td>\n    </tr>\n    <tr>\n      <th>0</th>\n      <td>2016</td>\n      <td>V Kohli</td>\n      <td>973</td>\n    </tr>\n    <tr>\n      <th>7</th>\n      <td>2017</td>\n      <td>DA Warner</td>\n      <td>641</td>\n    </tr>\n  </tbody>\n</table>\n</div>"
     },
     "execution_count": 22,
     "metadata": {},
     "output_type": "execute_result"
    }
   ],
   "source": [
    "# again sort values in the base of season Descending order\n",
    "new_dataset.groupby(['season','batsman'])['batsman_runs'].sum().sort_values(ascending=False).reset_index().drop_duplicates(subset='season',keep='first').sort_values('season')"
   ],
   "metadata": {
    "collapsed": false,
    "ExecuteTime": {
     "end_time": "2023-08-03T06:54:19.778872Z",
     "start_time": "2023-08-03T06:54:19.729779Z"
    }
   }
  },
  {
   "cell_type": "code",
   "execution_count": 23,
   "outputs": [
    {
     "data": {
      "text/plain": "    season       batsman\n10    2008      SE Marsh\n14    2009     ML Hayden\n9     2010  SR Tendulkar\n11    2011      CH Gayle\n3     2012      CH Gayle\n2     2013    MEK Hussey\n6     2014    RV Uthappa\n17    2015     DA Warner\n0     2016       V Kohli\n7     2017     DA Warner",
      "text/html": "<div>\n<style scoped>\n    .dataframe tbody tr th:only-of-type {\n        vertical-align: middle;\n    }\n\n    .dataframe tbody tr th {\n        vertical-align: top;\n    }\n\n    .dataframe thead th {\n        text-align: right;\n    }\n</style>\n<table border=\"1\" class=\"dataframe\">\n  <thead>\n    <tr style=\"text-align: right;\">\n      <th></th>\n      <th>season</th>\n      <th>batsman</th>\n    </tr>\n  </thead>\n  <tbody>\n    <tr>\n      <th>10</th>\n      <td>2008</td>\n      <td>SE Marsh</td>\n    </tr>\n    <tr>\n      <th>14</th>\n      <td>2009</td>\n      <td>ML Hayden</td>\n    </tr>\n    <tr>\n      <th>9</th>\n      <td>2010</td>\n      <td>SR Tendulkar</td>\n    </tr>\n    <tr>\n      <th>11</th>\n      <td>2011</td>\n      <td>CH Gayle</td>\n    </tr>\n    <tr>\n      <th>3</th>\n      <td>2012</td>\n      <td>CH Gayle</td>\n    </tr>\n    <tr>\n      <th>2</th>\n      <td>2013</td>\n      <td>MEK Hussey</td>\n    </tr>\n    <tr>\n      <th>6</th>\n      <td>2014</td>\n      <td>RV Uthappa</td>\n    </tr>\n    <tr>\n      <th>17</th>\n      <td>2015</td>\n      <td>DA Warner</td>\n    </tr>\n    <tr>\n      <th>0</th>\n      <td>2016</td>\n      <td>V Kohli</td>\n    </tr>\n    <tr>\n      <th>7</th>\n      <td>2017</td>\n      <td>DA Warner</td>\n    </tr>\n  </tbody>\n</table>\n</div>"
     },
     "execution_count": 23,
     "metadata": {},
     "output_type": "execute_result"
    }
   ],
   "source": [
    "# Final result\n",
    "new_dataset.groupby(['season','batsman'])['batsman_runs'].sum().sort_values(ascending=False).reset_index().drop_duplicates(subset='season',keep='first').sort_values('season')[['season','batsman']]"
   ],
   "metadata": {
    "collapsed": false,
    "ExecuteTime": {
     "end_time": "2023-08-03T06:55:54.925230Z",
     "start_time": "2023-08-03T06:55:54.901135Z"
    }
   }
  },
  {
   "cell_type": "code",
   "execution_count": null,
   "outputs": [],
   "source": [],
   "metadata": {
    "collapsed": false
   }
  }
 ],
 "metadata": {
  "kernelspec": {
   "display_name": "Python 3",
   "language": "python",
   "name": "python3"
  },
  "language_info": {
   "codemirror_mode": {
    "name": "ipython",
    "version": 2
   },
   "file_extension": ".py",
   "mimetype": "text/x-python",
   "name": "python",
   "nbconvert_exporter": "python",
   "pygments_lexer": "ipython2",
   "version": "2.7.6"
  }
 },
 "nbformat": 4,
 "nbformat_minor": 0
}
