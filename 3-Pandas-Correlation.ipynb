{
 "cells": [
  {
   "cell_type": "markdown",
   "source": [
    "# Correlation\n",
    "In Pandas, correlation refers to the statistical measure that quantifies the relationship between two or more variables in a dataset. It helps to understand how changes in one variable are associated with changes in another. Pandas provides various methods to calculate and explore correlations between columns in a DataFrame. Here's all about correlation in Pandas:\n",
    "1. **Pearson Correlation**: The Pearson correlation coefficient is a common method used to measure the linear correlation between two continuous variables. It ranges from -1 to 1, where:\n",
    "\n",
    "    - 1 indicates a perfect positive correlation (as one variable increases, the other increases proportionally).\n",
    "    - 0 indicates no linear correlation.\n",
    "    - -1 indicates a perfect negative correlation (as one variable increases, the other decreases proportionally).\n",
    "You can calculate the Pearson correlation coefficient using the corr() method in Pandas:\n",
    "\n",
    "    #Example: Calculating Pearson correlation between columns 'A' and 'B'\n",
    "    correlation = df['A'].corr(df['B'])\n",
    "\n",
    "2. **Spearman Correlation**: The Spearman correlation coefficient assesses the monotonic relationship between two variables. It is based on the ranks of the data rather than the actual values, making it more appropriate for variables with non-linear relationships. You can calculate the Spearman correlation using the corr() method with the method='spearman' parameter:\n",
    "\n",
    "    #Example: Calculating Spearman correlation between columns 'A' and 'B'\n",
    "    correlation = df['A'].corr(df['B'], method='spearman')\n",
    "\n",
    "3. **Kendall Correlation**: The Kendall correlation coefficient is another rank-based method for measuring the association between two variables. It is particularly useful for assessing the correlation between ordinal data. You can calculate the Kendall correlation using the corr() method with the method='kendall' parameter:\n",
    "\n",
    "    #Example: Calculating Kendall correlation between columns 'A' and 'B'\n",
    "    correlation = df['A'].corr(df['B'], method='kendall')\n",
    "4. **Correlation Matrix**: If you want to calculate the correlation between multiple columns in a DataFrame, you can generate a correlation matrix using the corr() method. The result is a DataFrame where each cell contains the correlation coefficient between the corresponding columns:\n",
    "\n",
    "    #Example: Creating a correlation matrix for all columns in the DataFrame\n",
    "    correlation_matrix = df.corr()\n",
    "\n",
    "5. **Heatmap Visualization**: You can visualize the correlation matrix using a heatmap to quickly identify the relationships between various variables. Heatmaps are a graphical representation of the correlation matrix, with colors indicating the strength of the correlation.\n",
    "\n",
    "    import seaborn as sns\n",
    "    import matplotlib.pyplot as plt\n",
    "\n",
    "    #Example: Visualizing the correlation matrix with a heatmap\n",
    "    sns.heatmap(correlation_matrix, annot=True, cmap='coolwarm')\n",
    "    plt.show()\n",
    "\n",
    "6. **Handling Missing Data**: By default, the corr() method in Pandas ignores missing data (NaN values) while computing correlations. If you want to handle missing data differently, you can use the min_periods parameter to set the minimum number of non-missing data points required to calculate the correlation.\n",
    "\n",
    "    #Example: Handling missing data while calculating correlation\n",
    "    correlation = df['A'].corr(df['B'], min_periods=5)\n",
    "\n",
    "Correlation analysis is essential for understanding relationships between variables in a dataset and can provide valuable insights for data exploration and modeling tasks.\n",
    "\n",
    "To calculate the correlation between variables in pandas, you can use the corr() function. This function returns a correlation matrix, which shows the correlation coefficients between all pairs of variables in a DataFrame."
   ],
   "metadata": {
    "collapsed": false
   }
  },
  {
   "cell_type": "code",
   "execution_count": null,
   "outputs": [],
   "source": [
    "import pandas as pd\n",
    "import seaborn as sns\n",
    "import matplotlib.pyplot as plt"
   ],
   "metadata": {
    "collapsed": false
   }
  },
  {
   "cell_type": "code",
   "execution_count": 2,
   "outputs": [
    {
     "name": "stdout",
     "output_type": "stream",
     "text": [
      "     A    B    C\n",
      "A  1.0 -1.0  1.0\n",
      "B -1.0  1.0 -1.0\n",
      "C  1.0 -1.0  1.0\n"
     ]
    }
   ],
   "source": [
    "# Certainly! Here's an example of how to calculate the correlation between variables in pandas:\n",
    "\n",
    "# Create a DataFrame\n",
    "data = {'A': [1,2,3,4,5],\n",
    "        'B': [5,4,3,2,1],\n",
    "        'C': [6,7,8,9,10]}\n",
    "df = pd.DataFrame(data)\n",
    "\n",
    "# Calculate the correlation matrix\n",
    "correlationMatrix = df.corr()\n",
    "\n",
    "print(correlationMatrix)"
   ],
   "metadata": {
    "collapsed": false,
    "ExecuteTime": {
     "end_time": "2023-08-06T15:53:29.084339Z",
     "start_time": "2023-08-06T15:53:29.077100Z"
    }
   }
  },
  {
   "cell_type": "code",
   "execution_count": 3,
   "outputs": [
    {
     "data": {
      "text/plain": "<Axes: >"
     },
     "execution_count": 3,
     "metadata": {},
     "output_type": "execute_result"
    },
    {
     "data": {
      "text/plain": "<Figure size 640x480 with 2 Axes>",
      "image/png": "[encoded data removed]"
     },
     "metadata": {},
     "output_type": "display_data"
    }
   ],
   "source": [
    "sns.heatmap(correlationMatrix)"
   ],
   "metadata": {
    "collapsed": false,
    "ExecuteTime": {
     "end_time": "2023-08-06T15:53:42.440275Z",
     "start_time": "2023-08-06T15:53:42.277780Z"
    }
   }
  },
  {
   "cell_type": "markdown",
   "source": [
    "In this example, we create a DataFrame with three columns (A, B, and C). We then use the corr() function to calculate the correlation matrix, which shows the correlation coefficients between all pairs of variables (A, B, and C). The output shows that each variable has a perfect negative correlation with the other two variables."
   ],
   "metadata": {
    "collapsed": false
   }
  },
  {
   "cell_type": "markdown",
   "source": [
    "#### step by step"
   ],
   "metadata": {
    "collapsed": false
   }
  },
  {
   "cell_type": "code",
   "execution_count": 5,
   "outputs": [
    {
     "data": {
      "text/plain": "-0.9999999999999999"
     },
     "execution_count": 5,
     "metadata": {},
     "output_type": "execute_result"
    }
   ],
   "source": [
    "# Example: Calculating Spearman correlation between columns 'A' and 'B'\n",
    "correlation = df['A'].corr(df['B'], method='spearman')\n",
    "correlation"
   ],
   "metadata": {
    "collapsed": false,
    "ExecuteTime": {
     "end_time": "2023-08-06T16:06:21.827431Z",
     "start_time": "2023-08-06T16:06:21.822811Z"
    }
   }
  },
  {
   "cell_type": "code",
   "execution_count": 6,
   "outputs": [
    {
     "data": {
      "text/plain": "-0.9999999999999999"
     },
     "execution_count": 6,
     "metadata": {},
     "output_type": "execute_result"
    }
   ],
   "source": [
    "# Example: Calculating Pearson correlation between columns 'A' and 'B'\n",
    "correlation = df['A'].corr(df['B'])\n",
    "correlation"
   ],
   "metadata": {
    "collapsed": false,
    "ExecuteTime": {
     "end_time": "2023-08-06T16:06:50.936289Z",
     "start_time": "2023-08-06T16:06:50.931292Z"
    }
   }
  },
  {
   "cell_type": "code",
   "execution_count": 7,
   "outputs": [
    {
     "data": {
      "text/plain": "-0.9999999999999999"
     },
     "execution_count": 7,
     "metadata": {},
     "output_type": "execute_result"
    }
   ],
   "source": [
    "# Example: Calculating Kendall correlation between columns 'A' and 'B'\n",
    "correlation = df['A'].corr(df['B'], method='kendall')\n",
    "correlation"
   ],
   "metadata": {
    "collapsed": false,
    "ExecuteTime": {
     "end_time": "2023-08-06T16:08:03.314932Z",
     "start_time": "2023-08-06T16:08:03.309638Z"
    }
   }
  },
  {
   "cell_type": "code",
   "execution_count": 8,
   "outputs": [
    {
     "data": {
      "text/plain": "     A    B    C\nA  1.0 -1.0  1.0\nB -1.0  1.0 -1.0\nC  1.0 -1.0  1.0",
      "text/html": "<div>\n<style scoped>\n    .dataframe tbody tr th:only-of-type {\n        vertical-align: middle;\n    }\n\n    .dataframe tbody tr th {\n        vertical-align: top;\n    }\n\n    .dataframe thead th {\n        text-align: right;\n    }\n</style>\n<table border=\"1\" class=\"dataframe\">\n  <thead>\n    <tr style=\"text-align: right;\">\n      <th></th>\n      <th>A</th>\n      <th>B</th>\n      <th>C</th>\n    </tr>\n  </thead>\n  <tbody>\n    <tr>\n      <th>A</th>\n      <td>1.0</td>\n      <td>-1.0</td>\n      <td>1.0</td>\n    </tr>\n    <tr>\n      <th>B</th>\n      <td>-1.0</td>\n      <td>1.0</td>\n      <td>-1.0</td>\n    </tr>\n    <tr>\n      <th>C</th>\n      <td>1.0</td>\n      <td>-1.0</td>\n      <td>1.0</td>\n    </tr>\n  </tbody>\n</table>\n</div>"
     },
     "execution_count": 8,
     "metadata": {},
     "output_type": "execute_result"
    }
   ],
   "source": [
    "# Example: Creating a correlation matrix for all columns in the DataFrame\n",
    "correlationMatrix = df.corr()\n",
    "correlationMatrix"
   ],
   "metadata": {
    "collapsed": false,
    "ExecuteTime": {
     "end_time": "2023-08-06T16:08:29.685922Z",
     "start_time": "2023-08-06T16:08:29.673857Z"
    }
   }
  },
  {
   "cell_type": "code",
   "execution_count": 11,
   "outputs": [
    {
     "data": {
      "text/plain": "<Figure size 640x480 with 2 Axes>",
      "image/png": "[encoded data removed]"
     },
     "metadata": {},
     "output_type": "display_data"
    }
   ],
   "source": [
    "# Example: Visualizing the correlation matrix with a heatmap\n",
    "\n",
    "sns.heatmap(correlationMatrix,annot=True, cmap='coolwarm')\n",
    "plt.show()"
   ],
   "metadata": {
    "collapsed": false,
    "ExecuteTime": {
     "end_time": "2023-08-06T16:09:53.128718Z",
     "start_time": "2023-08-06T16:09:53.053833Z"
    }
   }
  },
  {
   "cell_type": "code",
   "execution_count": 12,
   "outputs": [
    {
     "data": {
      "text/plain": "0.9999999999999999"
     },
     "execution_count": 12,
     "metadata": {},
     "output_type": "execute_result"
    }
   ],
   "source": [
    "# Example: Handling missing data while calculating correlation\n",
    "correlation = df['A'].corr(df['C'], min_periods=5)\n",
    "correlation"
   ],
   "metadata": {
    "collapsed": false,
    "ExecuteTime": {
     "end_time": "2023-08-06T16:11:04.607121Z",
     "start_time": "2023-08-06T16:11:04.594346Z"
    }
   }
  },
  {
   "cell_type": "code",
   "execution_count": null,
   "outputs": [],
   "source": [],
   "metadata": {
    "collapsed": false
   }
  }
 ],
 "metadata": {
  "kernelspec": {
   "display_name": "Python 3",
   "language": "python",
   "name": "python3"
  },
  "language_info": {
   "codemirror_mode": {
    "name": "ipython",
    "version": 2
   },
   "file_extension": ".py",
   "mimetype": "text/x-python",
   "name": "python",
   "nbconvert_exporter": "python",
   "pygments_lexer": "ipython2",
   "version": "2.7.6"
  }
 },
 "nbformat": 4,
 "nbformat_minor": 0
}
