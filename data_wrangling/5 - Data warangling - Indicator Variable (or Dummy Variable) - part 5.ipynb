{
 "cells": [
  {
   "cell_type": "markdown",
   "source": [
    "<h2>Data warangling - Indicator Variable (or Dummy Variable) - part 5</h2>"
   ],
   "metadata": {
    "collapsed": false
   }
  },
  {
   "cell_type": "markdown",
   "source": [
    "<h3>What is an indicator variable?</h2>"
   ],
   "metadata": {
    "collapsed": false
   }
  },
  {
   "cell_type": "markdown",
   "source": [
    "An indicator variable (or dummy variable) is a numerical variable used to label categories. They are called 'dummies' because the numbers themselves don't have inherent meaning.\n",
    "\n",
    "Why we use indicator variables?\n",
    "\n",
    "We use indicator variables so we can use categorical variables for regression analysis in the later modules.\n",
    "\n",
    "Example We see the column \"fuel-type\" has two unique values: \"gas\" or \"diesel\". Regression doesn't understand words, only numbers. To use this attribute in regression analysis, we convert \"fuel-type\" to indicator variables.\n",
    "\n",
    "We will use pandas' method 'get_dummies' to assign numerical values to different categories of fuel type."
   ],
   "metadata": {
    "collapsed": false
   }
  },
  {
   "cell_type": "code",
   "execution_count": 1,
   "outputs": [
    {
     "data": {
      "text/plain": "     symboling  normalized-losses           make fuel-type aspiration  \\\n55           3              150.0          mazda       gas        std   \n66           0               93.0  mercedes-benz    diesel      turbo   \n145          0               85.0         subaru       gas      turbo   \n128          3              150.0           saab       gas        std   \n139          0              102.0         subaru       gas        std   \n\n    num-of-doors body-style drive-wheels engine-location  wheel-base  ...  \\\n55           two  hatchback          rwd           front        95.3  ...   \n66           two    hardtop          rwd           front       106.7  ...   \n145         four      wagon          4wd           front        96.9  ...   \n128          two  hatchback          fwd           front        99.1  ...   \n139         four      sedan          fwd           front        97.2  ...   \n\n     engine-size  fuel-system      bore    stroke compression-ratio  \\\n55            80         mpfi  3.329751  3.255423              9.40   \n66           183          idi  3.580000  3.640000             21.50   \n145          108         mpfi  3.620000  2.640000              7.70   \n128          121         mpfi  3.540000  3.070000              9.31   \n139          108         mpfi  3.620000  2.640000              9.00   \n\n    horsepower  peak-rpm city-mpg  highway-mpg  price  \n55         135      6000       16           23  15645  \n66         123      4350       22           25  28176  \n145        111      4800       23           23  11694  \n128        110      5250       21           28  11850  \n139         94      5200       26           32   9960  \n\n[5 rows x 26 columns]",
      "text/html": "<div>\n<style scoped>\n    .dataframe tbody tr th:only-of-type {\n        vertical-align: middle;\n    }\n\n    .dataframe tbody tr th {\n        vertical-align: top;\n    }\n\n    .dataframe thead th {\n        text-align: right;\n    }\n</style>\n<table border=\"1\" class=\"dataframe\">\n  <thead>\n    <tr style=\"text-align: right;\">\n      <th></th>\n      <th>symboling</th>\n      <th>normalized-losses</th>\n      <th>make</th>\n      <th>fuel-type</th>\n      <th>aspiration</th>\n      <th>num-of-doors</th>\n      <th>body-style</th>\n      <th>drive-wheels</th>\n      <th>engine-location</th>\n      <th>wheel-base</th>\n      <th>...</th>\n      <th>engine-size</th>\n      <th>fuel-system</th>\n      <th>bore</th>\n      <th>stroke</th>\n      <th>compression-ratio</th>\n      <th>horsepower</th>\n      <th>peak-rpm</th>\n      <th>city-mpg</th>\n      <th>highway-mpg</th>\n      <th>price</th>\n    </tr>\n  </thead>\n  <tbody>\n    <tr>\n      <th>55</th>\n      <td>3</td>\n      <td>150.0</td>\n      <td>mazda</td>\n      <td>gas</td>\n      <td>std</td>\n      <td>two</td>\n      <td>hatchback</td>\n      <td>rwd</td>\n      <td>front</td>\n      <td>95.3</td>\n      <td>...</td>\n      <td>80</td>\n      <td>mpfi</td>\n      <td>3.329751</td>\n      <td>3.255423</td>\n      <td>9.40</td>\n      <td>135</td>\n      <td>6000</td>\n      <td>16</td>\n      <td>23</td>\n      <td>15645</td>\n    </tr>\n    <tr>\n      <th>66</th>\n      <td>0</td>\n      <td>93.0</td>\n      <td>mercedes-benz</td>\n      <td>diesel</td>\n      <td>turbo</td>\n      <td>two</td>\n      <td>hardtop</td>\n      <td>rwd</td>\n      <td>front</td>\n      <td>106.7</td>\n      <td>...</td>\n      <td>183</td>\n      <td>idi</td>\n      <td>3.580000</td>\n      <td>3.640000</td>\n      <td>21.50</td>\n      <td>123</td>\n      <td>4350</td>\n      <td>22</td>\n      <td>25</td>\n      <td>28176</td>\n    </tr>\n    <tr>\n      <th>145</th>\n      <td>0</td>\n      <td>85.0</td>\n      <td>subaru</td>\n      <td>gas</td>\n      <td>turbo</td>\n      <td>four</td>\n      <td>wagon</td>\n      <td>4wd</td>\n      <td>front</td>\n      <td>96.9</td>\n      <td>...</td>\n      <td>108</td>\n      <td>mpfi</td>\n      <td>3.620000</td>\n      <td>2.640000</td>\n      <td>7.70</td>\n      <td>111</td>\n      <td>4800</td>\n      <td>23</td>\n      <td>23</td>\n      <td>11694</td>\n    </tr>\n    <tr>\n      <th>128</th>\n      <td>3</td>\n      <td>150.0</td>\n      <td>saab</td>\n      <td>gas</td>\n      <td>std</td>\n      <td>two</td>\n      <td>hatchback</td>\n      <td>fwd</td>\n      <td>front</td>\n      <td>99.1</td>\n      <td>...</td>\n      <td>121</td>\n      <td>mpfi</td>\n      <td>3.540000</td>\n      <td>3.070000</td>\n      <td>9.31</td>\n      <td>110</td>\n      <td>5250</td>\n      <td>21</td>\n      <td>28</td>\n      <td>11850</td>\n    </tr>\n    <tr>\n      <th>139</th>\n      <td>0</td>\n      <td>102.0</td>\n      <td>subaru</td>\n      <td>gas</td>\n      <td>std</td>\n      <td>four</td>\n      <td>sedan</td>\n      <td>fwd</td>\n      <td>front</td>\n      <td>97.2</td>\n      <td>...</td>\n      <td>108</td>\n      <td>mpfi</td>\n      <td>3.620000</td>\n      <td>2.640000</td>\n      <td>9.00</td>\n      <td>94</td>\n      <td>5200</td>\n      <td>26</td>\n      <td>32</td>\n      <td>9960</td>\n    </tr>\n  </tbody>\n</table>\n<p>5 rows × 26 columns</p>\n</div>"
     },
     "execution_count": 1,
     "metadata": {},
     "output_type": "execute_result"
    }
   ],
   "source": [
    "import numpy as np\n",
    "import pandas as pd\n",
    "\n",
    "headers = [\"symboling\",\"normalized-losses\",\"make\",\"fuel-type\",\"aspiration\", \"num-of-doors\",\"body-style\",\n",
    "         \"drive-wheels\",\"engine-location\",\"wheel-base\", \"length\",\"width\",\"height\",\"curb-weight\",\"engine-type\",\n",
    "         \"num-of-cylinders\", \"engine-size\",\"fuel-system\",\"bore\",\"stroke\",\"compression-ratio\",\"horsepower\",\n",
    "         \"peak-rpm\",\"city-mpg\",\"highway-mpg\",\"price\"]\n",
    "\n",
    "df = pd.read_csv('automobile_new.csv',names=headers)\n",
    "df.head()"
   ],
   "metadata": {
    "collapsed": false,
    "ExecuteTime": {
     "end_time": "2023-08-16T06:23:34.273439Z",
     "start_time": "2023-08-16T06:23:33.834034Z"
    }
   }
  },
  {
   "cell_type": "code",
   "execution_count": 2,
   "outputs": [
    {
     "data": {
      "text/plain": "Index(['symboling', 'normalized-losses', 'make', 'fuel-type', 'aspiration',\n       'num-of-doors', 'body-style', 'drive-wheels', 'engine-location',\n       'wheel-base', 'length', 'width', 'height', 'curb-weight', 'engine-type',\n       'num-of-cylinders', 'engine-size', 'fuel-system', 'bore', 'stroke',\n       'compression-ratio', 'horsepower', 'peak-rpm', 'city-mpg',\n       'highway-mpg', 'price'],\n      dtype='object')"
     },
     "execution_count": 2,
     "metadata": {},
     "output_type": "execute_result"
    }
   ],
   "source": [
    "df.columns"
   ],
   "metadata": {
    "collapsed": false,
    "ExecuteTime": {
     "end_time": "2023-08-16T06:23:45.761945Z",
     "start_time": "2023-08-16T06:23:45.758389Z"
    }
   }
  },
  {
   "cell_type": "code",
   "execution_count": 3,
   "outputs": [
    {
     "data": {
      "text/plain": "fuel-type\ngas       9\ndiesel    1\nName: count, dtype: int64"
     },
     "execution_count": 3,
     "metadata": {},
     "output_type": "execute_result"
    }
   ],
   "source": [
    "df['fuel-type'].value_counts()"
   ],
   "metadata": {
    "collapsed": false,
    "ExecuteTime": {
     "end_time": "2023-08-16T06:24:08.507733Z",
     "start_time": "2023-08-16T06:24:08.503110Z"
    }
   }
  },
  {
   "cell_type": "code",
   "execution_count": 4,
   "outputs": [
    {
     "data": {
      "text/plain": "     diesel    gas\n55    False   True\n66     True  False\n145   False   True\n128   False   True\n139   False   True",
      "text/html": "<div>\n<style scoped>\n    .dataframe tbody tr th:only-of-type {\n        vertical-align: middle;\n    }\n\n    .dataframe tbody tr th {\n        vertical-align: top;\n    }\n\n    .dataframe thead th {\n        text-align: right;\n    }\n</style>\n<table border=\"1\" class=\"dataframe\">\n  <thead>\n    <tr style=\"text-align: right;\">\n      <th></th>\n      <th>diesel</th>\n      <th>gas</th>\n    </tr>\n  </thead>\n  <tbody>\n    <tr>\n      <th>55</th>\n      <td>False</td>\n      <td>True</td>\n    </tr>\n    <tr>\n      <th>66</th>\n      <td>True</td>\n      <td>False</td>\n    </tr>\n    <tr>\n      <th>145</th>\n      <td>False</td>\n      <td>True</td>\n    </tr>\n    <tr>\n      <th>128</th>\n      <td>False</td>\n      <td>True</td>\n    </tr>\n    <tr>\n      <th>139</th>\n      <td>False</td>\n      <td>True</td>\n    </tr>\n  </tbody>\n</table>\n</div>"
     },
     "execution_count": 4,
     "metadata": {},
     "output_type": "execute_result"
    }
   ],
   "source": [
    "dummy_variables1 = pd.get_dummies(df['fuel-type'])\n",
    "dummy_variables1.head()"
   ],
   "metadata": {
    "collapsed": false,
    "ExecuteTime": {
     "end_time": "2023-08-16T06:25:04.322871Z",
     "start_time": "2023-08-16T06:25:04.310917Z"
    }
   }
  },
  {
   "cell_type": "code",
   "execution_count": 5,
   "outputs": [
    {
     "data": {
      "text/plain": "     fuel-type-diesel  fuel-type-gas\n55              False           True\n66               True          False\n145             False           True\n128             False           True\n139             False           True",
      "text/html": "<div>\n<style scoped>\n    .dataframe tbody tr th:only-of-type {\n        vertical-align: middle;\n    }\n\n    .dataframe tbody tr th {\n        vertical-align: top;\n    }\n\n    .dataframe thead th {\n        text-align: right;\n    }\n</style>\n<table border=\"1\" class=\"dataframe\">\n  <thead>\n    <tr style=\"text-align: right;\">\n      <th></th>\n      <th>fuel-type-diesel</th>\n      <th>fuel-type-gas</th>\n    </tr>\n  </thead>\n  <tbody>\n    <tr>\n      <th>55</th>\n      <td>False</td>\n      <td>True</td>\n    </tr>\n    <tr>\n      <th>66</th>\n      <td>True</td>\n      <td>False</td>\n    </tr>\n    <tr>\n      <th>145</th>\n      <td>False</td>\n      <td>True</td>\n    </tr>\n    <tr>\n      <th>128</th>\n      <td>False</td>\n      <td>True</td>\n    </tr>\n    <tr>\n      <th>139</th>\n      <td>False</td>\n      <td>True</td>\n    </tr>\n  </tbody>\n</table>\n</div>"
     },
     "execution_count": 5,
     "metadata": {},
     "output_type": "execute_result"
    }
   ],
   "source": [
    "# Change the column names for clarity:\n",
    "dummy_variables1.rename(columns={'gas':'fuel-type-gas', 'diesel':'fuel-type-diesel'}, inplace=True)\n",
    "dummy_variables1.head()"
   ],
   "metadata": {
    "collapsed": false,
    "ExecuteTime": {
     "end_time": "2023-08-16T06:26:54.955852Z",
     "start_time": "2023-08-16T06:26:54.946162Z"
    }
   }
  },
  {
   "cell_type": "markdown",
   "source": [
    "In the dataframe, column 'fuel-type' has values for 'gas' and 'diesel' as 0s and 1s now."
   ],
   "metadata": {
    "collapsed": false
   }
  },
  {
   "cell_type": "code",
   "execution_count": 6,
   "outputs": [
    {
     "data": {
      "text/plain": "     symboling  normalized-losses           make fuel-type aspiration  \\\n55           3              150.0          mazda       gas        std   \n66           0               93.0  mercedes-benz    diesel      turbo   \n145          0               85.0         subaru       gas      turbo   \n128          3              150.0           saab       gas        std   \n139          0              102.0         subaru       gas        std   \n\n    num-of-doors body-style drive-wheels engine-location  wheel-base  ...  \\\n55           two  hatchback          rwd           front        95.3  ...   \n66           two    hardtop          rwd           front       106.7  ...   \n145         four      wagon          4wd           front        96.9  ...   \n128          two  hatchback          fwd           front        99.1  ...   \n139         four      sedan          fwd           front        97.2  ...   \n\n         bore    stroke  compression-ratio  horsepower peak-rpm city-mpg  \\\n55   3.329751  3.255423               9.40         135     6000       16   \n66   3.580000  3.640000              21.50         123     4350       22   \n145  3.620000  2.640000               7.70         111     4800       23   \n128  3.540000  3.070000               9.31         110     5250       21   \n139  3.620000  2.640000               9.00          94     5200       26   \n\n     highway-mpg  price  fuel-type-diesel  fuel-type-gas  \n55            23  15645             False           True  \n66            25  28176              True          False  \n145           23  11694             False           True  \n128           28  11850             False           True  \n139           32   9960             False           True  \n\n[5 rows x 28 columns]",
      "text/html": "<div>\n<style scoped>\n    .dataframe tbody tr th:only-of-type {\n        vertical-align: middle;\n    }\n\n    .dataframe tbody tr th {\n        vertical-align: top;\n    }\n\n    .dataframe thead th {\n        text-align: right;\n    }\n</style>\n<table border=\"1\" class=\"dataframe\">\n  <thead>\n    <tr style=\"text-align: right;\">\n      <th></th>\n      <th>symboling</th>\n      <th>normalized-losses</th>\n      <th>make</th>\n      <th>fuel-type</th>\n      <th>aspiration</th>\n      <th>num-of-doors</th>\n      <th>body-style</th>\n      <th>drive-wheels</th>\n      <th>engine-location</th>\n      <th>wheel-base</th>\n      <th>...</th>\n      <th>bore</th>\n      <th>stroke</th>\n      <th>compression-ratio</th>\n      <th>horsepower</th>\n      <th>peak-rpm</th>\n      <th>city-mpg</th>\n      <th>highway-mpg</th>\n      <th>price</th>\n      <th>fuel-type-diesel</th>\n      <th>fuel-type-gas</th>\n    </tr>\n  </thead>\n  <tbody>\n    <tr>\n      <th>55</th>\n      <td>3</td>\n      <td>150.0</td>\n      <td>mazda</td>\n      <td>gas</td>\n      <td>std</td>\n      <td>two</td>\n      <td>hatchback</td>\n      <td>rwd</td>\n      <td>front</td>\n      <td>95.3</td>\n      <td>...</td>\n      <td>3.329751</td>\n      <td>3.255423</td>\n      <td>9.40</td>\n      <td>135</td>\n      <td>6000</td>\n      <td>16</td>\n      <td>23</td>\n      <td>15645</td>\n      <td>False</td>\n      <td>True</td>\n    </tr>\n    <tr>\n      <th>66</th>\n      <td>0</td>\n      <td>93.0</td>\n      <td>mercedes-benz</td>\n      <td>diesel</td>\n      <td>turbo</td>\n      <td>two</td>\n      <td>hardtop</td>\n      <td>rwd</td>\n      <td>front</td>\n      <td>106.7</td>\n      <td>...</td>\n      <td>3.580000</td>\n      <td>3.640000</td>\n      <td>21.50</td>\n      <td>123</td>\n      <td>4350</td>\n      <td>22</td>\n      <td>25</td>\n      <td>28176</td>\n      <td>True</td>\n      <td>False</td>\n    </tr>\n    <tr>\n      <th>145</th>\n      <td>0</td>\n      <td>85.0</td>\n      <td>subaru</td>\n      <td>gas</td>\n      <td>turbo</td>\n      <td>four</td>\n      <td>wagon</td>\n      <td>4wd</td>\n      <td>front</td>\n      <td>96.9</td>\n      <td>...</td>\n      <td>3.620000</td>\n      <td>2.640000</td>\n      <td>7.70</td>\n      <td>111</td>\n      <td>4800</td>\n      <td>23</td>\n      <td>23</td>\n      <td>11694</td>\n      <td>False</td>\n      <td>True</td>\n    </tr>\n    <tr>\n      <th>128</th>\n      <td>3</td>\n      <td>150.0</td>\n      <td>saab</td>\n      <td>gas</td>\n      <td>std</td>\n      <td>two</td>\n      <td>hatchback</td>\n      <td>fwd</td>\n      <td>front</td>\n      <td>99.1</td>\n      <td>...</td>\n      <td>3.540000</td>\n      <td>3.070000</td>\n      <td>9.31</td>\n      <td>110</td>\n      <td>5250</td>\n      <td>21</td>\n      <td>28</td>\n      <td>11850</td>\n      <td>False</td>\n      <td>True</td>\n    </tr>\n    <tr>\n      <th>139</th>\n      <td>0</td>\n      <td>102.0</td>\n      <td>subaru</td>\n      <td>gas</td>\n      <td>std</td>\n      <td>four</td>\n      <td>sedan</td>\n      <td>fwd</td>\n      <td>front</td>\n      <td>97.2</td>\n      <td>...</td>\n      <td>3.620000</td>\n      <td>2.640000</td>\n      <td>9.00</td>\n      <td>94</td>\n      <td>5200</td>\n      <td>26</td>\n      <td>32</td>\n      <td>9960</td>\n      <td>False</td>\n      <td>True</td>\n    </tr>\n  </tbody>\n</table>\n<p>5 rows × 28 columns</p>\n</div>"
     },
     "execution_count": 6,
     "metadata": {},
     "output_type": "execute_result"
    }
   ],
   "source": [
    "# merge data frame 'df' and dummy_variable_1\n",
    "\n",
    "df = pd.concat([df, dummy_variables1], axis=1)\n",
    "df.head()"
   ],
   "metadata": {
    "collapsed": false,
    "ExecuteTime": {
     "end_time": "2023-08-16T06:27:58.120660Z",
     "start_time": "2023-08-16T06:27:58.115480Z"
    }
   }
  },
  {
   "cell_type": "code",
   "execution_count": 7,
   "outputs": [],
   "source": [
    "# drop original column \"fuel-type\" from \"df\"\n",
    "df.drop('fuel-type', axis=1, inplace=True)"
   ],
   "metadata": {
    "collapsed": false,
    "ExecuteTime": {
     "end_time": "2023-08-16T06:28:58.101326Z",
     "start_time": "2023-08-16T06:28:58.097442Z"
    }
   }
  },
  {
   "cell_type": "code",
   "execution_count": 8,
   "outputs": [
    {
     "data": {
      "text/plain": "     symboling  normalized-losses           make aspiration num-of-doors  \\\n55           3              150.0          mazda        std          two   \n66           0               93.0  mercedes-benz      turbo          two   \n145          0               85.0         subaru      turbo         four   \n128          3              150.0           saab        std          two   \n139          0              102.0         subaru        std         four   \n\n    body-style drive-wheels engine-location  wheel-base  length  ...  \\\n55   hatchback          rwd           front        95.3   169.0  ...   \n66     hardtop          rwd           front       106.7   187.5  ...   \n145      wagon          4wd           front        96.9   173.6  ...   \n128  hatchback          fwd           front        99.1   186.6  ...   \n139      sedan          fwd           front        97.2   172.0  ...   \n\n         bore    stroke  compression-ratio horsepower peak-rpm  city-mpg  \\\n55   3.329751  3.255423               9.40        135     6000        16   \n66   3.580000  3.640000              21.50        123     4350        22   \n145  3.620000  2.640000               7.70        111     4800        23   \n128  3.540000  3.070000               9.31        110     5250        21   \n139  3.620000  2.640000               9.00         94     5200        26   \n\n    highway-mpg  price  fuel-type-diesel  fuel-type-gas  \n55           23  15645             False           True  \n66           25  28176              True          False  \n145          23  11694             False           True  \n128          28  11850             False           True  \n139          32   9960             False           True  \n\n[5 rows x 27 columns]",
      "text/html": "<div>\n<style scoped>\n    .dataframe tbody tr th:only-of-type {\n        vertical-align: middle;\n    }\n\n    .dataframe tbody tr th {\n        vertical-align: top;\n    }\n\n    .dataframe thead th {\n        text-align: right;\n    }\n</style>\n<table border=\"1\" class=\"dataframe\">\n  <thead>\n    <tr style=\"text-align: right;\">\n      <th></th>\n      <th>symboling</th>\n      <th>normalized-losses</th>\n      <th>make</th>\n      <th>aspiration</th>\n      <th>num-of-doors</th>\n      <th>body-style</th>\n      <th>drive-wheels</th>\n      <th>engine-location</th>\n      <th>wheel-base</th>\n      <th>length</th>\n      <th>...</th>\n      <th>bore</th>\n      <th>stroke</th>\n      <th>compression-ratio</th>\n      <th>horsepower</th>\n      <th>peak-rpm</th>\n      <th>city-mpg</th>\n      <th>highway-mpg</th>\n      <th>price</th>\n      <th>fuel-type-diesel</th>\n      <th>fuel-type-gas</th>\n    </tr>\n  </thead>\n  <tbody>\n    <tr>\n      <th>55</th>\n      <td>3</td>\n      <td>150.0</td>\n      <td>mazda</td>\n      <td>std</td>\n      <td>two</td>\n      <td>hatchback</td>\n      <td>rwd</td>\n      <td>front</td>\n      <td>95.3</td>\n      <td>169.0</td>\n      <td>...</td>\n      <td>3.329751</td>\n      <td>3.255423</td>\n      <td>9.40</td>\n      <td>135</td>\n      <td>6000</td>\n      <td>16</td>\n      <td>23</td>\n      <td>15645</td>\n      <td>False</td>\n      <td>True</td>\n    </tr>\n    <tr>\n      <th>66</th>\n      <td>0</td>\n      <td>93.0</td>\n      <td>mercedes-benz</td>\n      <td>turbo</td>\n      <td>two</td>\n      <td>hardtop</td>\n      <td>rwd</td>\n      <td>front</td>\n      <td>106.7</td>\n      <td>187.5</td>\n      <td>...</td>\n      <td>3.580000</td>\n      <td>3.640000</td>\n      <td>21.50</td>\n      <td>123</td>\n      <td>4350</td>\n      <td>22</td>\n      <td>25</td>\n      <td>28176</td>\n      <td>True</td>\n      <td>False</td>\n    </tr>\n    <tr>\n      <th>145</th>\n      <td>0</td>\n      <td>85.0</td>\n      <td>subaru</td>\n      <td>turbo</td>\n      <td>four</td>\n      <td>wagon</td>\n      <td>4wd</td>\n      <td>front</td>\n      <td>96.9</td>\n      <td>173.6</td>\n      <td>...</td>\n      <td>3.620000</td>\n      <td>2.640000</td>\n      <td>7.70</td>\n      <td>111</td>\n      <td>4800</td>\n      <td>23</td>\n      <td>23</td>\n      <td>11694</td>\n      <td>False</td>\n      <td>True</td>\n    </tr>\n    <tr>\n      <th>128</th>\n      <td>3</td>\n      <td>150.0</td>\n      <td>saab</td>\n      <td>std</td>\n      <td>two</td>\n      <td>hatchback</td>\n      <td>fwd</td>\n      <td>front</td>\n      <td>99.1</td>\n      <td>186.6</td>\n      <td>...</td>\n      <td>3.540000</td>\n      <td>3.070000</td>\n      <td>9.31</td>\n      <td>110</td>\n      <td>5250</td>\n      <td>21</td>\n      <td>28</td>\n      <td>11850</td>\n      <td>False</td>\n      <td>True</td>\n    </tr>\n    <tr>\n      <th>139</th>\n      <td>0</td>\n      <td>102.0</td>\n      <td>subaru</td>\n      <td>std</td>\n      <td>four</td>\n      <td>sedan</td>\n      <td>fwd</td>\n      <td>front</td>\n      <td>97.2</td>\n      <td>172.0</td>\n      <td>...</td>\n      <td>3.620000</td>\n      <td>2.640000</td>\n      <td>9.00</td>\n      <td>94</td>\n      <td>5200</td>\n      <td>26</td>\n      <td>32</td>\n      <td>9960</td>\n      <td>False</td>\n      <td>True</td>\n    </tr>\n  </tbody>\n</table>\n<p>5 rows × 27 columns</p>\n</div>"
     },
     "execution_count": 8,
     "metadata": {},
     "output_type": "execute_result"
    }
   ],
   "source": [
    "df.head()"
   ],
   "metadata": {
    "collapsed": false,
    "ExecuteTime": {
     "end_time": "2023-08-16T06:29:03.079971Z",
     "start_time": "2023-08-16T06:29:03.072487Z"
    }
   }
  },
  {
   "cell_type": "markdown",
   "source": [
    "**create an indicator variable for the column \"aspiration\"**"
   ],
   "metadata": {
    "collapsed": false
   }
  },
  {
   "cell_type": "code",
   "execution_count": 9,
   "outputs": [
    {
     "data": {
      "text/plain": "       std  turbo\n55    True  False\n66   False   True\n145  False   True\n128   True  False\n139   True  False",
      "text/html": "<div>\n<style scoped>\n    .dataframe tbody tr th:only-of-type {\n        vertical-align: middle;\n    }\n\n    .dataframe tbody tr th {\n        vertical-align: top;\n    }\n\n    .dataframe thead th {\n        text-align: right;\n    }\n</style>\n<table border=\"1\" class=\"dataframe\">\n  <thead>\n    <tr style=\"text-align: right;\">\n      <th></th>\n      <th>std</th>\n      <th>turbo</th>\n    </tr>\n  </thead>\n  <tbody>\n    <tr>\n      <th>55</th>\n      <td>True</td>\n      <td>False</td>\n    </tr>\n    <tr>\n      <th>66</th>\n      <td>False</td>\n      <td>True</td>\n    </tr>\n    <tr>\n      <th>145</th>\n      <td>False</td>\n      <td>True</td>\n    </tr>\n    <tr>\n      <th>128</th>\n      <td>True</td>\n      <td>False</td>\n    </tr>\n    <tr>\n      <th>139</th>\n      <td>True</td>\n      <td>False</td>\n    </tr>\n  </tbody>\n</table>\n</div>"
     },
     "execution_count": 9,
     "metadata": {},
     "output_type": "execute_result"
    }
   ],
   "source": [
    "dummy_variables2 = pd.get_dummies(df['aspiration'])\n",
    "dummy_variables2.head()"
   ],
   "metadata": {
    "collapsed": false,
    "ExecuteTime": {
     "end_time": "2023-08-16T06:30:31.726699Z",
     "start_time": "2023-08-16T06:30:31.721876Z"
    }
   }
  },
  {
   "cell_type": "code",
   "execution_count": 10,
   "outputs": [
    {
     "data": {
      "text/plain": "     aspiration-std  aspiration-turbo\n55             True             False\n66            False              True\n145           False              True\n128            True             False\n139            True             False",
      "text/html": "<div>\n<style scoped>\n    .dataframe tbody tr th:only-of-type {\n        vertical-align: middle;\n    }\n\n    .dataframe tbody tr th {\n        vertical-align: top;\n    }\n\n    .dataframe thead th {\n        text-align: right;\n    }\n</style>\n<table border=\"1\" class=\"dataframe\">\n  <thead>\n    <tr style=\"text-align: right;\">\n      <th></th>\n      <th>aspiration-std</th>\n      <th>aspiration-turbo</th>\n    </tr>\n  </thead>\n  <tbody>\n    <tr>\n      <th>55</th>\n      <td>True</td>\n      <td>False</td>\n    </tr>\n    <tr>\n      <th>66</th>\n      <td>False</td>\n      <td>True</td>\n    </tr>\n    <tr>\n      <th>145</th>\n      <td>False</td>\n      <td>True</td>\n    </tr>\n    <tr>\n      <th>128</th>\n      <td>True</td>\n      <td>False</td>\n    </tr>\n    <tr>\n      <th>139</th>\n      <td>True</td>\n      <td>False</td>\n    </tr>\n  </tbody>\n</table>\n</div>"
     },
     "execution_count": 10,
     "metadata": {},
     "output_type": "execute_result"
    }
   ],
   "source": [
    "# Change the column names for clarity:\n",
    "dummy_variables2.rename(columns={'std':'aspiration-std', 'turbo':'aspiration-turbo'}, inplace=True)\n",
    "dummy_variables2.head()"
   ],
   "metadata": {
    "collapsed": false,
    "ExecuteTime": {
     "end_time": "2023-08-16T06:31:20.952038Z",
     "start_time": "2023-08-16T06:31:20.944531Z"
    }
   }
  },
  {
   "cell_type": "markdown",
   "source": [
    "**Merge the new dataframe to the original dataframe, then drop the column 'aspiration'.**"
   ],
   "metadata": {
    "collapsed": false
   }
  },
  {
   "cell_type": "code",
   "execution_count": 11,
   "outputs": [
    {
     "data": {
      "text/plain": "     symboling  normalized-losses           make aspiration num-of-doors  \\\n55           3              150.0          mazda        std          two   \n66           0               93.0  mercedes-benz      turbo          two   \n145          0               85.0         subaru      turbo         four   \n128          3              150.0           saab        std          two   \n139          0              102.0         subaru        std         four   \n\n    body-style drive-wheels engine-location  wheel-base  length  ...  \\\n55   hatchback          rwd           front        95.3   169.0  ...   \n66     hardtop          rwd           front       106.7   187.5  ...   \n145      wagon          4wd           front        96.9   173.6  ...   \n128  hatchback          fwd           front        99.1   186.6  ...   \n139      sedan          fwd           front        97.2   172.0  ...   \n\n     compression-ratio  horsepower  peak-rpm city-mpg highway-mpg  price  \\\n55                9.40         135      6000       16          23  15645   \n66               21.50         123      4350       22          25  28176   \n145               7.70         111      4800       23          23  11694   \n128               9.31         110      5250       21          28  11850   \n139               9.00          94      5200       26          32   9960   \n\n    fuel-type-diesel  fuel-type-gas  aspiration-std  aspiration-turbo  \n55             False           True            True             False  \n66              True          False           False              True  \n145            False           True           False              True  \n128            False           True            True             False  \n139            False           True            True             False  \n\n[5 rows x 29 columns]",
      "text/html": "<div>\n<style scoped>\n    .dataframe tbody tr th:only-of-type {\n        vertical-align: middle;\n    }\n\n    .dataframe tbody tr th {\n        vertical-align: top;\n    }\n\n    .dataframe thead th {\n        text-align: right;\n    }\n</style>\n<table border=\"1\" class=\"dataframe\">\n  <thead>\n    <tr style=\"text-align: right;\">\n      <th></th>\n      <th>symboling</th>\n      <th>normalized-losses</th>\n      <th>make</th>\n      <th>aspiration</th>\n      <th>num-of-doors</th>\n      <th>body-style</th>\n      <th>drive-wheels</th>\n      <th>engine-location</th>\n      <th>wheel-base</th>\n      <th>length</th>\n      <th>...</th>\n      <th>compression-ratio</th>\n      <th>horsepower</th>\n      <th>peak-rpm</th>\n      <th>city-mpg</th>\n      <th>highway-mpg</th>\n      <th>price</th>\n      <th>fuel-type-diesel</th>\n      <th>fuel-type-gas</th>\n      <th>aspiration-std</th>\n      <th>aspiration-turbo</th>\n    </tr>\n  </thead>\n  <tbody>\n    <tr>\n      <th>55</th>\n      <td>3</td>\n      <td>150.0</td>\n      <td>mazda</td>\n      <td>std</td>\n      <td>two</td>\n      <td>hatchback</td>\n      <td>rwd</td>\n      <td>front</td>\n      <td>95.3</td>\n      <td>169.0</td>\n      <td>...</td>\n      <td>9.40</td>\n      <td>135</td>\n      <td>6000</td>\n      <td>16</td>\n      <td>23</td>\n      <td>15645</td>\n      <td>False</td>\n      <td>True</td>\n      <td>True</td>\n      <td>False</td>\n    </tr>\n    <tr>\n      <th>66</th>\n      <td>0</td>\n      <td>93.0</td>\n      <td>mercedes-benz</td>\n      <td>turbo</td>\n      <td>two</td>\n      <td>hardtop</td>\n      <td>rwd</td>\n      <td>front</td>\n      <td>106.7</td>\n      <td>187.5</td>\n      <td>...</td>\n      <td>21.50</td>\n      <td>123</td>\n      <td>4350</td>\n      <td>22</td>\n      <td>25</td>\n      <td>28176</td>\n      <td>True</td>\n      <td>False</td>\n      <td>False</td>\n      <td>True</td>\n    </tr>\n    <tr>\n      <th>145</th>\n      <td>0</td>\n      <td>85.0</td>\n      <td>subaru</td>\n      <td>turbo</td>\n      <td>four</td>\n      <td>wagon</td>\n      <td>4wd</td>\n      <td>front</td>\n      <td>96.9</td>\n      <td>173.6</td>\n      <td>...</td>\n      <td>7.70</td>\n      <td>111</td>\n      <td>4800</td>\n      <td>23</td>\n      <td>23</td>\n      <td>11694</td>\n      <td>False</td>\n      <td>True</td>\n      <td>False</td>\n      <td>True</td>\n    </tr>\n    <tr>\n      <th>128</th>\n      <td>3</td>\n      <td>150.0</td>\n      <td>saab</td>\n      <td>std</td>\n      <td>two</td>\n      <td>hatchback</td>\n      <td>fwd</td>\n      <td>front</td>\n      <td>99.1</td>\n      <td>186.6</td>\n      <td>...</td>\n      <td>9.31</td>\n      <td>110</td>\n      <td>5250</td>\n      <td>21</td>\n      <td>28</td>\n      <td>11850</td>\n      <td>False</td>\n      <td>True</td>\n      <td>True</td>\n      <td>False</td>\n    </tr>\n    <tr>\n      <th>139</th>\n      <td>0</td>\n      <td>102.0</td>\n      <td>subaru</td>\n      <td>std</td>\n      <td>four</td>\n      <td>sedan</td>\n      <td>fwd</td>\n      <td>front</td>\n      <td>97.2</td>\n      <td>172.0</td>\n      <td>...</td>\n      <td>9.00</td>\n      <td>94</td>\n      <td>5200</td>\n      <td>26</td>\n      <td>32</td>\n      <td>9960</td>\n      <td>False</td>\n      <td>True</td>\n      <td>True</td>\n      <td>False</td>\n    </tr>\n  </tbody>\n</table>\n<p>5 rows × 29 columns</p>\n</div>"
     },
     "execution_count": 11,
     "metadata": {},
     "output_type": "execute_result"
    }
   ],
   "source": [
    "# merge the new dataframe to the original datafram\n",
    "df = pd.concat([df, dummy_variables2], axis=1)\n",
    "df.head()"
   ],
   "metadata": {
    "collapsed": false,
    "ExecuteTime": {
     "end_time": "2023-08-16T06:32:15.107436Z",
     "start_time": "2023-08-16T06:32:15.100890Z"
    }
   }
  },
  {
   "cell_type": "code",
   "execution_count": 12,
   "outputs": [],
   "source": [
    "# drop original column \"fuel-type\" from \"df\"\n",
    "df.drop('aspiration', axis=1, inplace=True)"
   ],
   "metadata": {
    "collapsed": false,
    "ExecuteTime": {
     "end_time": "2023-08-16T06:32:56.693788Z",
     "start_time": "2023-08-16T06:32:56.689436Z"
    }
   }
  },
  {
   "cell_type": "code",
   "execution_count": 13,
   "outputs": [
    {
     "data": {
      "text/plain": "     symboling  normalized-losses           make num-of-doors body-style  \\\n55           3              150.0          mazda          two  hatchback   \n66           0               93.0  mercedes-benz          two    hardtop   \n145          0               85.0         subaru         four      wagon   \n128          3              150.0           saab          two  hatchback   \n139          0              102.0         subaru         four      sedan   \n\n    drive-wheels engine-location  wheel-base  length  width  ...  \\\n55           rwd           front        95.3   169.0   65.7  ...   \n66           rwd           front       106.7   187.5   70.3  ...   \n145          4wd           front        96.9   173.6   65.4  ...   \n128          fwd           front        99.1   186.6   66.5  ...   \n139          fwd           front        97.2   172.0   65.4  ...   \n\n     compression-ratio  horsepower peak-rpm city-mpg  highway-mpg  price  \\\n55                9.40         135     6000       16           23  15645   \n66               21.50         123     4350       22           25  28176   \n145               7.70         111     4800       23           23  11694   \n128               9.31         110     5250       21           28  11850   \n139               9.00          94     5200       26           32   9960   \n\n     fuel-type-diesel  fuel-type-gas  aspiration-std  aspiration-turbo  \n55              False           True            True             False  \n66               True          False           False              True  \n145             False           True           False              True  \n128             False           True            True             False  \n139             False           True            True             False  \n\n[5 rows x 28 columns]",
      "text/html": "<div>\n<style scoped>\n    .dataframe tbody tr th:only-of-type {\n        vertical-align: middle;\n    }\n\n    .dataframe tbody tr th {\n        vertical-align: top;\n    }\n\n    .dataframe thead th {\n        text-align: right;\n    }\n</style>\n<table border=\"1\" class=\"dataframe\">\n  <thead>\n    <tr style=\"text-align: right;\">\n      <th></th>\n      <th>symboling</th>\n      <th>normalized-losses</th>\n      <th>make</th>\n      <th>num-of-doors</th>\n      <th>body-style</th>\n      <th>drive-wheels</th>\n      <th>engine-location</th>\n      <th>wheel-base</th>\n      <th>length</th>\n      <th>width</th>\n      <th>...</th>\n      <th>compression-ratio</th>\n      <th>horsepower</th>\n      <th>peak-rpm</th>\n      <th>city-mpg</th>\n      <th>highway-mpg</th>\n      <th>price</th>\n      <th>fuel-type-diesel</th>\n      <th>fuel-type-gas</th>\n      <th>aspiration-std</th>\n      <th>aspiration-turbo</th>\n    </tr>\n  </thead>\n  <tbody>\n    <tr>\n      <th>55</th>\n      <td>3</td>\n      <td>150.0</td>\n      <td>mazda</td>\n      <td>two</td>\n      <td>hatchback</td>\n      <td>rwd</td>\n      <td>front</td>\n      <td>95.3</td>\n      <td>169.0</td>\n      <td>65.7</td>\n      <td>...</td>\n      <td>9.40</td>\n      <td>135</td>\n      <td>6000</td>\n      <td>16</td>\n      <td>23</td>\n      <td>15645</td>\n      <td>False</td>\n      <td>True</td>\n      <td>True</td>\n      <td>False</td>\n    </tr>\n    <tr>\n      <th>66</th>\n      <td>0</td>\n      <td>93.0</td>\n      <td>mercedes-benz</td>\n      <td>two</td>\n      <td>hardtop</td>\n      <td>rwd</td>\n      <td>front</td>\n      <td>106.7</td>\n      <td>187.5</td>\n      <td>70.3</td>\n      <td>...</td>\n      <td>21.50</td>\n      <td>123</td>\n      <td>4350</td>\n      <td>22</td>\n      <td>25</td>\n      <td>28176</td>\n      <td>True</td>\n      <td>False</td>\n      <td>False</td>\n      <td>True</td>\n    </tr>\n    <tr>\n      <th>145</th>\n      <td>0</td>\n      <td>85.0</td>\n      <td>subaru</td>\n      <td>four</td>\n      <td>wagon</td>\n      <td>4wd</td>\n      <td>front</td>\n      <td>96.9</td>\n      <td>173.6</td>\n      <td>65.4</td>\n      <td>...</td>\n      <td>7.70</td>\n      <td>111</td>\n      <td>4800</td>\n      <td>23</td>\n      <td>23</td>\n      <td>11694</td>\n      <td>False</td>\n      <td>True</td>\n      <td>False</td>\n      <td>True</td>\n    </tr>\n    <tr>\n      <th>128</th>\n      <td>3</td>\n      <td>150.0</td>\n      <td>saab</td>\n      <td>two</td>\n      <td>hatchback</td>\n      <td>fwd</td>\n      <td>front</td>\n      <td>99.1</td>\n      <td>186.6</td>\n      <td>66.5</td>\n      <td>...</td>\n      <td>9.31</td>\n      <td>110</td>\n      <td>5250</td>\n      <td>21</td>\n      <td>28</td>\n      <td>11850</td>\n      <td>False</td>\n      <td>True</td>\n      <td>True</td>\n      <td>False</td>\n    </tr>\n    <tr>\n      <th>139</th>\n      <td>0</td>\n      <td>102.0</td>\n      <td>subaru</td>\n      <td>four</td>\n      <td>sedan</td>\n      <td>fwd</td>\n      <td>front</td>\n      <td>97.2</td>\n      <td>172.0</td>\n      <td>65.4</td>\n      <td>...</td>\n      <td>9.00</td>\n      <td>94</td>\n      <td>5200</td>\n      <td>26</td>\n      <td>32</td>\n      <td>9960</td>\n      <td>False</td>\n      <td>True</td>\n      <td>True</td>\n      <td>False</td>\n    </tr>\n  </tbody>\n</table>\n<p>5 rows × 28 columns</p>\n</div>"
     },
     "execution_count": 13,
     "metadata": {},
     "output_type": "execute_result"
    }
   ],
   "source": [
    "df.head()"
   ],
   "metadata": {
    "collapsed": false,
    "ExecuteTime": {
     "end_time": "2023-08-16T06:33:09.420274Z",
     "start_time": "2023-08-16T06:33:09.412717Z"
    }
   }
  },
  {
   "cell_type": "code",
   "execution_count": 14,
   "outputs": [],
   "source": [
    "df.to_csv('clean_df')"
   ],
   "metadata": {
    "collapsed": false,
    "ExecuteTime": {
     "end_time": "2023-08-16T06:34:36.336591Z",
     "start_time": "2023-08-16T06:34:36.331794Z"
    }
   }
  },
  {
   "cell_type": "code",
   "execution_count": null,
   "outputs": [],
   "source": [],
   "metadata": {
    "collapsed": false
   }
  }
 ],
 "metadata": {
  "kernelspec": {
   "display_name": "Python 3",
   "language": "python",
   "name": "python3"
  },
  "language_info": {
   "codemirror_mode": {
    "name": "ipython",
    "version": 2
   },
   "file_extension": ".py",
   "mimetype": "text/x-python",
   "name": "python",
   "nbconvert_exporter": "python",
   "pygments_lexer": "ipython2",
   "version": "2.7.6"
  }
 },
 "nbformat": 4,
 "nbformat_minor": 0
}
