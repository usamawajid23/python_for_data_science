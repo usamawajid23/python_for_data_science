{
 "cells": [
  {
   "cell_type": "markdown",
   "source": [
    "## Data Standardization - part 3"
   ],
   "metadata": {
    "collapsed": false
   }
  },
  {
   "cell_type": "markdown",
   "source": [
    "Data is usually collected from different agencies in different formats. (Data standardization is also a term for a particular type of data normalization where we subtract the mean and divide by the standard deviation.)"
   ],
   "metadata": {
    "collapsed": false
   }
  },
  {
   "cell_type": "markdown",
   "source": [
    "<h3>What is standardization?</h3>"
   ],
   "metadata": {
    "collapsed": false
   }
  },
  {
   "cell_type": "markdown",
   "source": [
    "Standardization is the process of transforming data into a common format, allowing the researcher to make the meaningful comparison."
   ],
   "metadata": {
    "collapsed": false
   }
  },
  {
   "cell_type": "markdown",
   "source": [
    "<h3>Example</h3>"
   ],
   "metadata": {
    "collapsed": false
   }
  },
  {
   "cell_type": "markdown",
   "source": [
    "Transform mpg to L/100km:\n",
    "\n",
    "In our dataset, the fuel consumption columns \"city-mpg\" and \"highway-mpg\" are represented by mpg (miles per gallon) unit. Assume we are developing an application in a country that accepts the fuel consumption with L/100km standard.\n",
    "\n",
    "We will need to apply **data transformation** to transform mpg into L/100km.\n",
    "\n",
    "The formula for unit conversion is:\n",
    "\n",
    "L/100km = 235 / mpg\n",
    "\n",
    "We can do many mathematical operations directly in Pandas"
   ],
   "metadata": {
    "collapsed": false
   }
  },
  {
   "cell_type": "code",
   "execution_count": 1,
   "outputs": [],
   "source": [
    "import numpy as np\n",
    "import pandas as pd"
   ],
   "metadata": {
    "collapsed": false,
    "ExecuteTime": {
     "end_time": "2023-08-14T16:16:13.840973Z",
     "start_time": "2023-08-14T16:16:13.495737Z"
    }
   }
  },
  {
   "cell_type": "code",
   "execution_count": 8,
   "outputs": [],
   "source": [
    "# create headers\n",
    "headers = [\"symboling\",\"normalized-losses\",\"make\",\"fuel-type\",\"aspiration\", \"num-of-doors\",\"body-style\",\n",
    "         \"drive-wheels\",\"engine-location\",\"wheel-base\", \"length\",\"width\",\"height\",\"curb-weight\",\"engine-type\",\n",
    "         \"num-of-cylinders\", \"engine-size\",\"fuel-system\",\"bore\",\"stroke\",\"compression-ratio\",\"horsepower\",\n",
    "         \"peak-rpm\",\"city-mpg\",\"highway-mpg\",\"price\"]"
   ],
   "metadata": {
    "collapsed": false
   }
  },
  {
   "cell_type": "code",
   "execution_count": 13,
   "outputs": [
    {
     "data": {
      "text/plain": "     symboling  normalized-losses           make fuel-type aspiration  \\\n55           3              150.0          mazda       gas        std   \n66           0               93.0  mercedes-benz    diesel      turbo   \n145          0               85.0         subaru       gas      turbo   \n128          3              150.0           saab       gas        std   \n139          0              102.0         subaru       gas        std   \n\n    num-of-doors body-style drive-wheels engine-location  wheel-base  ...  \\\n55           two  hatchback          rwd           front        95.3  ...   \n66           two    hardtop          rwd           front       106.7  ...   \n145         four      wagon          4wd           front        96.9  ...   \n128          two  hatchback          fwd           front        99.1  ...   \n139         four      sedan          fwd           front        97.2  ...   \n\n     engine-size  fuel-system      bore    stroke compression-ratio  \\\n55            80         mpfi  3.329751  3.255423              9.40   \n66           183          idi  3.580000  3.640000             21.50   \n145          108         mpfi  3.620000  2.640000              7.70   \n128          121         mpfi  3.540000  3.070000              9.31   \n139          108         mpfi  3.620000  2.640000              9.00   \n\n    horsepower  peak-rpm city-mpg  highway-mpg  price  \n55         135      6000       16           23  15645  \n66         123      4350       22           25  28176  \n145        111      4800       23           23  11694  \n128        110      5250       21           28  11850  \n139         94      5200       26           32   9960  \n\n[5 rows x 26 columns]",
      "text/html": "<div>\n<style scoped>\n    .dataframe tbody tr th:only-of-type {\n        vertical-align: middle;\n    }\n\n    .dataframe tbody tr th {\n        vertical-align: top;\n    }\n\n    .dataframe thead th {\n        text-align: right;\n    }\n</style>\n<table border=\"1\" class=\"dataframe\">\n  <thead>\n    <tr style=\"text-align: right;\">\n      <th></th>\n      <th>symboling</th>\n      <th>normalized-losses</th>\n      <th>make</th>\n      <th>fuel-type</th>\n      <th>aspiration</th>\n      <th>num-of-doors</th>\n      <th>body-style</th>\n      <th>drive-wheels</th>\n      <th>engine-location</th>\n      <th>wheel-base</th>\n      <th>...</th>\n      <th>engine-size</th>\n      <th>fuel-system</th>\n      <th>bore</th>\n      <th>stroke</th>\n      <th>compression-ratio</th>\n      <th>horsepower</th>\n      <th>peak-rpm</th>\n      <th>city-mpg</th>\n      <th>highway-mpg</th>\n      <th>price</th>\n    </tr>\n  </thead>\n  <tbody>\n    <tr>\n      <th>55</th>\n      <td>3</td>\n      <td>150.0</td>\n      <td>mazda</td>\n      <td>gas</td>\n      <td>std</td>\n      <td>two</td>\n      <td>hatchback</td>\n      <td>rwd</td>\n      <td>front</td>\n      <td>95.3</td>\n      <td>...</td>\n      <td>80</td>\n      <td>mpfi</td>\n      <td>3.329751</td>\n      <td>3.255423</td>\n      <td>9.40</td>\n      <td>135</td>\n      <td>6000</td>\n      <td>16</td>\n      <td>23</td>\n      <td>15645</td>\n    </tr>\n    <tr>\n      <th>66</th>\n      <td>0</td>\n      <td>93.0</td>\n      <td>mercedes-benz</td>\n      <td>diesel</td>\n      <td>turbo</td>\n      <td>two</td>\n      <td>hardtop</td>\n      <td>rwd</td>\n      <td>front</td>\n      <td>106.7</td>\n      <td>...</td>\n      <td>183</td>\n      <td>idi</td>\n      <td>3.580000</td>\n      <td>3.640000</td>\n      <td>21.50</td>\n      <td>123</td>\n      <td>4350</td>\n      <td>22</td>\n      <td>25</td>\n      <td>28176</td>\n    </tr>\n    <tr>\n      <th>145</th>\n      <td>0</td>\n      <td>85.0</td>\n      <td>subaru</td>\n      <td>gas</td>\n      <td>turbo</td>\n      <td>four</td>\n      <td>wagon</td>\n      <td>4wd</td>\n      <td>front</td>\n      <td>96.9</td>\n      <td>...</td>\n      <td>108</td>\n      <td>mpfi</td>\n      <td>3.620000</td>\n      <td>2.640000</td>\n      <td>7.70</td>\n      <td>111</td>\n      <td>4800</td>\n      <td>23</td>\n      <td>23</td>\n      <td>11694</td>\n    </tr>\n    <tr>\n      <th>128</th>\n      <td>3</td>\n      <td>150.0</td>\n      <td>saab</td>\n      <td>gas</td>\n      <td>std</td>\n      <td>two</td>\n      <td>hatchback</td>\n      <td>fwd</td>\n      <td>front</td>\n      <td>99.1</td>\n      <td>...</td>\n      <td>121</td>\n      <td>mpfi</td>\n      <td>3.540000</td>\n      <td>3.070000</td>\n      <td>9.31</td>\n      <td>110</td>\n      <td>5250</td>\n      <td>21</td>\n      <td>28</td>\n      <td>11850</td>\n    </tr>\n    <tr>\n      <th>139</th>\n      <td>0</td>\n      <td>102.0</td>\n      <td>subaru</td>\n      <td>gas</td>\n      <td>std</td>\n      <td>four</td>\n      <td>sedan</td>\n      <td>fwd</td>\n      <td>front</td>\n      <td>97.2</td>\n      <td>...</td>\n      <td>108</td>\n      <td>mpfi</td>\n      <td>3.620000</td>\n      <td>2.640000</td>\n      <td>9.00</td>\n      <td>94</td>\n      <td>5200</td>\n      <td>26</td>\n      <td>32</td>\n      <td>9960</td>\n    </tr>\n  </tbody>\n</table>\n<p>5 rows × 26 columns</p>\n</div>"
     },
     "execution_count": 13,
     "metadata": {},
     "output_type": "execute_result"
    }
   ],
   "source": [
    "df = pd.read_csv('automobile_new.csv', names= headers)\n",
    "df.head()"
   ],
   "metadata": {
    "collapsed": false,
    "ExecuteTime": {
     "end_time": "2023-08-14T16:20:30.991507Z",
     "start_time": "2023-08-14T16:20:30.984195Z"
    }
   }
  },
  {
   "cell_type": "code",
   "execution_count": 14,
   "outputs": [
    {
     "data": {
      "text/plain": "     symboling  normalized-losses           make fuel-type aspiration  \\\n55           3              150.0          mazda       gas        std   \n66           0               93.0  mercedes-benz    diesel      turbo   \n145          0               85.0         subaru       gas      turbo   \n128          3              150.0           saab       gas        std   \n139          0              102.0         subaru       gas        std   \n\n    num-of-doors body-style drive-wheels engine-location  wheel-base  ...  \\\n55           two  hatchback          rwd           front        95.3  ...   \n66           two    hardtop          rwd           front       106.7  ...   \n145         four      wagon          4wd           front        96.9  ...   \n128          two  hatchback          fwd           front        99.1  ...   \n139         four      sedan          fwd           front        97.2  ...   \n\n     fuel-system      bore    stroke  compression-ratio horsepower peak-rpm  \\\n55          mpfi  3.329751  3.255423               9.40        135     6000   \n66           idi  3.580000  3.640000              21.50        123     4350   \n145         mpfi  3.620000  2.640000               7.70        111     4800   \n128         mpfi  3.540000  3.070000               9.31        110     5250   \n139         mpfi  3.620000  2.640000               9.00         94     5200   \n\n     city-mpg highway-mpg  price  city-L/100km  \n55         16          23  15645     14.687500  \n66         22          25  28176     10.681818  \n145        23          23  11694     10.217391  \n128        21          28  11850     11.190476  \n139        26          32   9960      9.038462  \n\n[5 rows x 27 columns]",
      "text/html": "<div>\n<style scoped>\n    .dataframe tbody tr th:only-of-type {\n        vertical-align: middle;\n    }\n\n    .dataframe tbody tr th {\n        vertical-align: top;\n    }\n\n    .dataframe thead th {\n        text-align: right;\n    }\n</style>\n<table border=\"1\" class=\"dataframe\">\n  <thead>\n    <tr style=\"text-align: right;\">\n      <th></th>\n      <th>symboling</th>\n      <th>normalized-losses</th>\n      <th>make</th>\n      <th>fuel-type</th>\n      <th>aspiration</th>\n      <th>num-of-doors</th>\n      <th>body-style</th>\n      <th>drive-wheels</th>\n      <th>engine-location</th>\n      <th>wheel-base</th>\n      <th>...</th>\n      <th>fuel-system</th>\n      <th>bore</th>\n      <th>stroke</th>\n      <th>compression-ratio</th>\n      <th>horsepower</th>\n      <th>peak-rpm</th>\n      <th>city-mpg</th>\n      <th>highway-mpg</th>\n      <th>price</th>\n      <th>city-L/100km</th>\n    </tr>\n  </thead>\n  <tbody>\n    <tr>\n      <th>55</th>\n      <td>3</td>\n      <td>150.0</td>\n      <td>mazda</td>\n      <td>gas</td>\n      <td>std</td>\n      <td>two</td>\n      <td>hatchback</td>\n      <td>rwd</td>\n      <td>front</td>\n      <td>95.3</td>\n      <td>...</td>\n      <td>mpfi</td>\n      <td>3.329751</td>\n      <td>3.255423</td>\n      <td>9.40</td>\n      <td>135</td>\n      <td>6000</td>\n      <td>16</td>\n      <td>23</td>\n      <td>15645</td>\n      <td>14.687500</td>\n    </tr>\n    <tr>\n      <th>66</th>\n      <td>0</td>\n      <td>93.0</td>\n      <td>mercedes-benz</td>\n      <td>diesel</td>\n      <td>turbo</td>\n      <td>two</td>\n      <td>hardtop</td>\n      <td>rwd</td>\n      <td>front</td>\n      <td>106.7</td>\n      <td>...</td>\n      <td>idi</td>\n      <td>3.580000</td>\n      <td>3.640000</td>\n      <td>21.50</td>\n      <td>123</td>\n      <td>4350</td>\n      <td>22</td>\n      <td>25</td>\n      <td>28176</td>\n      <td>10.681818</td>\n    </tr>\n    <tr>\n      <th>145</th>\n      <td>0</td>\n      <td>85.0</td>\n      <td>subaru</td>\n      <td>gas</td>\n      <td>turbo</td>\n      <td>four</td>\n      <td>wagon</td>\n      <td>4wd</td>\n      <td>front</td>\n      <td>96.9</td>\n      <td>...</td>\n      <td>mpfi</td>\n      <td>3.620000</td>\n      <td>2.640000</td>\n      <td>7.70</td>\n      <td>111</td>\n      <td>4800</td>\n      <td>23</td>\n      <td>23</td>\n      <td>11694</td>\n      <td>10.217391</td>\n    </tr>\n    <tr>\n      <th>128</th>\n      <td>3</td>\n      <td>150.0</td>\n      <td>saab</td>\n      <td>gas</td>\n      <td>std</td>\n      <td>two</td>\n      <td>hatchback</td>\n      <td>fwd</td>\n      <td>front</td>\n      <td>99.1</td>\n      <td>...</td>\n      <td>mpfi</td>\n      <td>3.540000</td>\n      <td>3.070000</td>\n      <td>9.31</td>\n      <td>110</td>\n      <td>5250</td>\n      <td>21</td>\n      <td>28</td>\n      <td>11850</td>\n      <td>11.190476</td>\n    </tr>\n    <tr>\n      <th>139</th>\n      <td>0</td>\n      <td>102.0</td>\n      <td>subaru</td>\n      <td>gas</td>\n      <td>std</td>\n      <td>four</td>\n      <td>sedan</td>\n      <td>fwd</td>\n      <td>front</td>\n      <td>97.2</td>\n      <td>...</td>\n      <td>mpfi</td>\n      <td>3.620000</td>\n      <td>2.640000</td>\n      <td>9.00</td>\n      <td>94</td>\n      <td>5200</td>\n      <td>26</td>\n      <td>32</td>\n      <td>9960</td>\n      <td>9.038462</td>\n    </tr>\n  </tbody>\n</table>\n<p>5 rows × 27 columns</p>\n</div>"
     },
     "execution_count": 14,
     "metadata": {},
     "output_type": "execute_result"
    }
   ],
   "source": [
    "# Convert mpg to L/100km by mathematical operation (235 divided by mpg)\n",
    "df['city-L/100km'] = 235/df['city-mpg']\n",
    "\n",
    "# check your transformed data\n",
    "df.head()"
   ],
   "metadata": {
    "collapsed": false,
    "ExecuteTime": {
     "end_time": "2023-08-14T16:21:56.806763Z",
     "start_time": "2023-08-14T16:21:56.802337Z"
    }
   }
  },
  {
   "cell_type": "markdown",
   "source": [
    "<h3>Q : According to the example above, transform mpg to L/100km in the column of \"highway-mpg\" and change the name of column to \"highway-L/100km\".</h3>"
   ],
   "metadata": {
    "collapsed": false
   }
  },
  {
   "cell_type": "code",
   "execution_count": 15,
   "outputs": [],
   "source": [
    "# transform mpg to L/100km by mathematical operation (235 divided by mpg)\n",
    "df['highway-mpg'] = 235/df['highway-mpg']"
   ],
   "metadata": {
    "collapsed": false,
    "ExecuteTime": {
     "end_time": "2023-08-14T16:24:42.300091Z",
     "start_time": "2023-08-14T16:24:42.293466Z"
    }
   }
  },
  {
   "cell_type": "code",
   "execution_count": 18,
   "outputs": [
    {
     "data": {
      "text/plain": "     symboling  normalized-losses           make fuel-type aspiration  \\\n55           3              150.0          mazda       gas        std   \n66           0               93.0  mercedes-benz    diesel      turbo   \n145          0               85.0         subaru       gas      turbo   \n128          3              150.0           saab       gas        std   \n139          0              102.0         subaru       gas        std   \n\n    num-of-doors body-style drive-wheels engine-location  wheel-base  ...  \\\n55           two  hatchback          rwd           front        95.3  ...   \n66           two    hardtop          rwd           front       106.7  ...   \n145         four      wagon          4wd           front        96.9  ...   \n128          two  hatchback          fwd           front        99.1  ...   \n139         four      sedan          fwd           front        97.2  ...   \n\n     fuel-system      bore    stroke  compression-ratio horsepower peak-rpm  \\\n55          mpfi  3.329751  3.255423               9.40        135     6000   \n66           idi  3.580000  3.640000              21.50        123     4350   \n145         mpfi  3.620000  2.640000               7.70        111     4800   \n128         mpfi  3.540000  3.070000               9.31        110     5250   \n139         mpfi  3.620000  2.640000               9.00         94     5200   \n\n     city-mpg highway-L/100km  price  city-L/100km  \n55         16       10.217391  15645     14.687500  \n66         22        9.400000  28176     10.681818  \n145        23       10.217391  11694     10.217391  \n128        21        8.392857  11850     11.190476  \n139        26        7.343750   9960      9.038462  \n\n[5 rows x 27 columns]",
      "text/html": "<div>\n<style scoped>\n    .dataframe tbody tr th:only-of-type {\n        vertical-align: middle;\n    }\n\n    .dataframe tbody tr th {\n        vertical-align: top;\n    }\n\n    .dataframe thead th {\n        text-align: right;\n    }\n</style>\n<table border=\"1\" class=\"dataframe\">\n  <thead>\n    <tr style=\"text-align: right;\">\n      <th></th>\n      <th>symboling</th>\n      <th>normalized-losses</th>\n      <th>make</th>\n      <th>fuel-type</th>\n      <th>aspiration</th>\n      <th>num-of-doors</th>\n      <th>body-style</th>\n      <th>drive-wheels</th>\n      <th>engine-location</th>\n      <th>wheel-base</th>\n      <th>...</th>\n      <th>fuel-system</th>\n      <th>bore</th>\n      <th>stroke</th>\n      <th>compression-ratio</th>\n      <th>horsepower</th>\n      <th>peak-rpm</th>\n      <th>city-mpg</th>\n      <th>highway-L/100km</th>\n      <th>price</th>\n      <th>city-L/100km</th>\n    </tr>\n  </thead>\n  <tbody>\n    <tr>\n      <th>55</th>\n      <td>3</td>\n      <td>150.0</td>\n      <td>mazda</td>\n      <td>gas</td>\n      <td>std</td>\n      <td>two</td>\n      <td>hatchback</td>\n      <td>rwd</td>\n      <td>front</td>\n      <td>95.3</td>\n      <td>...</td>\n      <td>mpfi</td>\n      <td>3.329751</td>\n      <td>3.255423</td>\n      <td>9.40</td>\n      <td>135</td>\n      <td>6000</td>\n      <td>16</td>\n      <td>10.217391</td>\n      <td>15645</td>\n      <td>14.687500</td>\n    </tr>\n    <tr>\n      <th>66</th>\n      <td>0</td>\n      <td>93.0</td>\n      <td>mercedes-benz</td>\n      <td>diesel</td>\n      <td>turbo</td>\n      <td>two</td>\n      <td>hardtop</td>\n      <td>rwd</td>\n      <td>front</td>\n      <td>106.7</td>\n      <td>...</td>\n      <td>idi</td>\n      <td>3.580000</td>\n      <td>3.640000</td>\n      <td>21.50</td>\n      <td>123</td>\n      <td>4350</td>\n      <td>22</td>\n      <td>9.400000</td>\n      <td>28176</td>\n      <td>10.681818</td>\n    </tr>\n    <tr>\n      <th>145</th>\n      <td>0</td>\n      <td>85.0</td>\n      <td>subaru</td>\n      <td>gas</td>\n      <td>turbo</td>\n      <td>four</td>\n      <td>wagon</td>\n      <td>4wd</td>\n      <td>front</td>\n      <td>96.9</td>\n      <td>...</td>\n      <td>mpfi</td>\n      <td>3.620000</td>\n      <td>2.640000</td>\n      <td>7.70</td>\n      <td>111</td>\n      <td>4800</td>\n      <td>23</td>\n      <td>10.217391</td>\n      <td>11694</td>\n      <td>10.217391</td>\n    </tr>\n    <tr>\n      <th>128</th>\n      <td>3</td>\n      <td>150.0</td>\n      <td>saab</td>\n      <td>gas</td>\n      <td>std</td>\n      <td>two</td>\n      <td>hatchback</td>\n      <td>fwd</td>\n      <td>front</td>\n      <td>99.1</td>\n      <td>...</td>\n      <td>mpfi</td>\n      <td>3.540000</td>\n      <td>3.070000</td>\n      <td>9.31</td>\n      <td>110</td>\n      <td>5250</td>\n      <td>21</td>\n      <td>8.392857</td>\n      <td>11850</td>\n      <td>11.190476</td>\n    </tr>\n    <tr>\n      <th>139</th>\n      <td>0</td>\n      <td>102.0</td>\n      <td>subaru</td>\n      <td>gas</td>\n      <td>std</td>\n      <td>four</td>\n      <td>sedan</td>\n      <td>fwd</td>\n      <td>front</td>\n      <td>97.2</td>\n      <td>...</td>\n      <td>mpfi</td>\n      <td>3.620000</td>\n      <td>2.640000</td>\n      <td>9.00</td>\n      <td>94</td>\n      <td>5200</td>\n      <td>26</td>\n      <td>7.343750</td>\n      <td>9960</td>\n      <td>9.038462</td>\n    </tr>\n  </tbody>\n</table>\n<p>5 rows × 27 columns</p>\n</div>"
     },
     "execution_count": 18,
     "metadata": {},
     "output_type": "execute_result"
    }
   ],
   "source": [
    "# rename column name from \"highway-mpg\" to \"highway-L/100km\"\n",
    "df.rename(columns={'highway-mpg':'highway-L/100km'}, inplace= True)\n",
    "\n",
    "# check your transformed data\n",
    "df.head()"
   ],
   "metadata": {
    "collapsed": false,
    "ExecuteTime": {
     "end_time": "2023-08-14T16:26:26.482396Z",
     "start_time": "2023-08-14T16:26:26.451702Z"
    }
   }
  },
  {
   "cell_type": "code",
   "execution_count": 18,
   "outputs": [],
   "source": [],
   "metadata": {
    "collapsed": false,
    "ExecuteTime": {
     "end_time": "2023-08-14T16:27:12.993720Z",
     "start_time": "2023-08-14T16:27:12.989755Z"
    }
   }
  },
  {
   "cell_type": "markdown",
   "source": [
    "<h2>Data Normalization</h2>"
   ],
   "metadata": {
    "collapsed": false
   }
  },
  {
   "cell_type": "markdown",
   "source": [
    "<h3>Why normalization?</h3>\n",
    "\n",
    "Normalization is the process of transforming values of several variables into a similar range. Typical normalizations include scaling the variable so the variable average is 0, scaling the variable so the variance is 1, or scaling the variable so the variable values range from 0 to 1.\n",
    "\n",
    "Example\n",
    "\n",
    "To demonstrate normalization, let's say we want to scale the columns \"length\", \"width\" and \"height\".\n",
    "\n",
    "Target: would like to normalize those variables so their value ranges from 0 to 1\n",
    "\n",
    "Approach: replace original value by (original value)/(maximum value)"
   ],
   "metadata": {
    "collapsed": false
   }
  },
  {
   "cell_type": "markdown",
   "source": [
    "<h3>Method 1. Simple Feature Scaling</h3>"
   ],
   "metadata": {
    "collapsed": false
   }
  },
  {
   "cell_type": "code",
   "execution_count": 19,
   "outputs": [],
   "source": [
    "# replace (original value) by (original value)/(maximum value)\n",
    "df['length'] = df['length']/df['length'].max()\n",
    "df['width'] = df['width']/df['width'].max()"
   ],
   "metadata": {
    "collapsed": false,
    "ExecuteTime": {
     "end_time": "2023-08-14T16:35:04.021008Z",
     "start_time": "2023-08-14T16:35:04.015567Z"
    }
   }
  },
  {
   "cell_type": "code",
   "execution_count": 20,
   "outputs": [
    {
     "data": {
      "text/plain": "       length     width    height\n55   0.877011  0.920168  0.884135\n66   0.973015  0.984594  0.978610\n145  0.900882  0.915966  0.978610\n128  0.968345  0.931373  1.000000\n139  0.892579  0.915966  0.935829",
      "text/html": "<div>\n<style scoped>\n    .dataframe tbody tr th:only-of-type {\n        vertical-align: middle;\n    }\n\n    .dataframe tbody tr th {\n        vertical-align: top;\n    }\n\n    .dataframe thead th {\n        text-align: right;\n    }\n</style>\n<table border=\"1\" class=\"dataframe\">\n  <thead>\n    <tr style=\"text-align: right;\">\n      <th></th>\n      <th>length</th>\n      <th>width</th>\n      <th>height</th>\n    </tr>\n  </thead>\n  <tbody>\n    <tr>\n      <th>55</th>\n      <td>0.877011</td>\n      <td>0.920168</td>\n      <td>0.884135</td>\n    </tr>\n    <tr>\n      <th>66</th>\n      <td>0.973015</td>\n      <td>0.984594</td>\n      <td>0.978610</td>\n    </tr>\n    <tr>\n      <th>145</th>\n      <td>0.900882</td>\n      <td>0.915966</td>\n      <td>0.978610</td>\n    </tr>\n    <tr>\n      <th>128</th>\n      <td>0.968345</td>\n      <td>0.931373</td>\n      <td>1.000000</td>\n    </tr>\n    <tr>\n      <th>139</th>\n      <td>0.892579</td>\n      <td>0.915966</td>\n      <td>0.935829</td>\n    </tr>\n  </tbody>\n</table>\n</div>"
     },
     "execution_count": 20,
     "metadata": {},
     "output_type": "execute_result"
    }
   ],
   "source": [
    "df['height'] = df['height']/df['height'].max()\n",
    "\n",
    "# show the scaled columns\n",
    "df[['length','width','height']].head()"
   ],
   "metadata": {
    "collapsed": false,
    "ExecuteTime": {
     "end_time": "2023-08-14T16:36:14.489991Z",
     "start_time": "2023-08-14T16:36:14.479316Z"
    }
   }
  },
  {
   "cell_type": "code",
   "execution_count": 21,
   "outputs": [
    {
     "data": {
      "text/plain": "2"
     },
     "execution_count": 21,
     "metadata": {},
     "output_type": "execute_result"
    }
   ],
   "source": [
    "df['height'].value_counts().max()"
   ],
   "metadata": {
    "collapsed": false,
    "ExecuteTime": {
     "end_time": "2023-08-14T16:37:10.718400Z",
     "start_time": "2023-08-14T16:37:10.713407Z"
    }
   }
  },
  {
   "cell_type": "markdown",
   "source": [
    "<h3>Method 2. Min Max</h3>"
   ],
   "metadata": {
    "collapsed": false
   }
  },
  {
   "cell_type": "code",
   "execution_count": 22,
   "outputs": [
    {
     "data": {
      "text/plain": "55     0.302941\n66     0.847059\n145    0.438235\n128    0.820588\n139    0.391176\n160    0.294118\n153    0.223529\n57     0.561765\n7      1.000000\n147    0.000000\nName: length_new, dtype: float64"
     },
     "execution_count": 22,
     "metadata": {},
     "output_type": "execute_result"
    }
   ],
   "source": [
    "# Min Max (original value) - (min value) / (min value - maximum value)\n",
    "df['length_new'] = (df['length'] - df['length'].min()) / (df['length'].max() - df['length'].min())\n",
    "df['length_new']"
   ],
   "metadata": {
    "collapsed": false,
    "ExecuteTime": {
     "end_time": "2023-08-14T16:44:40.016284Z",
     "start_time": "2023-08-14T16:44:40.012716Z"
    }
   }
  },
  {
   "cell_type": "markdown",
   "source": [
    "<h3>Method 3 - Z-score</h3>"
   ],
   "metadata": {
    "collapsed": false
   }
  },
  {
   "cell_type": "code",
   "execution_count": 23,
   "outputs": [
    {
     "data": {
      "text/plain": "55    -0.585379\n66     1.136324\n145   -0.157280\n128    1.052565\n139   -0.306184\n160   -0.613299\n153   -0.836655\n57     0.233593\n7      1.620262\n147   -1.543949\nName: length_zscore, dtype: float64"
     },
     "execution_count": 23,
     "metadata": {},
     "output_type": "execute_result"
    }
   ],
   "source": [
    "# Z-score\n",
    "df['length_zscore'] = (df['length'] - df['length'].mean()) / df['length'].std() # where df['length'].mean() is average of feature & df['length'].std() is standard deviation sigma\n",
    "\n",
    "df['length_zscore']"
   ],
   "metadata": {
    "collapsed": false,
    "ExecuteTime": {
     "end_time": "2023-08-14T16:49:34.263654Z",
     "start_time": "2023-08-14T16:49:34.252944Z"
    }
   }
  },
  {
   "cell_type": "code",
   "execution_count": null,
   "outputs": [],
   "source": [],
   "metadata": {
    "collapsed": false
   }
  }
 ],
 "metadata": {
  "kernelspec": {
   "display_name": "Python 3",
   "language": "python",
   "name": "python3"
  },
  "language_info": {
   "codemirror_mode": {
    "name": "ipython",
    "version": 2
   },
   "file_extension": ".py",
   "mimetype": "text/x-python",
   "name": "python",
   "nbconvert_exporter": "python",
   "pygments_lexer": "ipython2",
   "version": "2.7.6"
  }
 },
 "nbformat": 4,
 "nbformat_minor": 0
}
