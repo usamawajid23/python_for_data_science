{
 "cells": [
  {
   "cell_type": "code",
   "execution_count": 1,
   "outputs": [],
   "source": [
    "import numpy as np\n",
    "import pandas as pd"
   ],
   "metadata": {
    "collapsed": false,
    "ExecuteTime": {
     "end_time": "2023-08-15T18:26:04.435372Z",
     "start_time": "2023-08-15T18:26:03.861077Z"
    }
   }
  },
  {
   "cell_type": "code",
   "execution_count": 5,
   "outputs": [],
   "source": [
    "headers = [\"symboling\",\"normalized-losses\",\"make\",\"fuel-type\",\"aspiration\", \"num-of-doors\",\"body-style\",\n",
    "         \"drive-wheels\",\"engine-location\",\"wheel-base\", \"length\",\"width\",\"height\",\"curb-weight\",\"engine-type\",\n",
    "         \"num-of-cylinders\", \"engine-size\",\"fuel-system\",\"bore\",\"stroke\",\"compression-ratio\",\"horsepower\",\n",
    "         \"peak-rpm\",\"city-mpg\",\"highway-mpg\",\"price\"]"
   ],
   "metadata": {
    "collapsed": false,
    "ExecuteTime": {
     "end_time": "2023-08-15T18:29:30.528202Z",
     "start_time": "2023-08-15T18:29:30.520505Z"
    }
   }
  },
  {
   "cell_type": "code",
   "execution_count": 6,
   "outputs": [
    {
     "data": {
      "text/plain": "     symboling  normalized-losses           make fuel-type aspiration  \\\n55           3              150.0          mazda       gas        std   \n66           0               93.0  mercedes-benz    diesel      turbo   \n145          0               85.0         subaru       gas      turbo   \n128          3              150.0           saab       gas        std   \n139          0              102.0         subaru       gas        std   \n\n    num-of-doors body-style drive-wheels engine-location  wheel-base  ...  \\\n55           two  hatchback          rwd           front        95.3  ...   \n66           two    hardtop          rwd           front       106.7  ...   \n145         four      wagon          4wd           front        96.9  ...   \n128          two  hatchback          fwd           front        99.1  ...   \n139         four      sedan          fwd           front        97.2  ...   \n\n     engine-size  fuel-system      bore    stroke compression-ratio  \\\n55            80         mpfi  3.329751  3.255423              9.40   \n66           183          idi  3.580000  3.640000             21.50   \n145          108         mpfi  3.620000  2.640000              7.70   \n128          121         mpfi  3.540000  3.070000              9.31   \n139          108         mpfi  3.620000  2.640000              9.00   \n\n    horsepower  peak-rpm city-mpg  highway-mpg  price  \n55         135      6000       16           23  15645  \n66         123      4350       22           25  28176  \n145        111      4800       23           23  11694  \n128        110      5250       21           28  11850  \n139         94      5200       26           32   9960  \n\n[5 rows x 26 columns]",
      "text/html": "<div>\n<style scoped>\n    .dataframe tbody tr th:only-of-type {\n        vertical-align: middle;\n    }\n\n    .dataframe tbody tr th {\n        vertical-align: top;\n    }\n\n    .dataframe thead th {\n        text-align: right;\n    }\n</style>\n<table border=\"1\" class=\"dataframe\">\n  <thead>\n    <tr style=\"text-align: right;\">\n      <th></th>\n      <th>symboling</th>\n      <th>normalized-losses</th>\n      <th>make</th>\n      <th>fuel-type</th>\n      <th>aspiration</th>\n      <th>num-of-doors</th>\n      <th>body-style</th>\n      <th>drive-wheels</th>\n      <th>engine-location</th>\n      <th>wheel-base</th>\n      <th>...</th>\n      <th>engine-size</th>\n      <th>fuel-system</th>\n      <th>bore</th>\n      <th>stroke</th>\n      <th>compression-ratio</th>\n      <th>horsepower</th>\n      <th>peak-rpm</th>\n      <th>city-mpg</th>\n      <th>highway-mpg</th>\n      <th>price</th>\n    </tr>\n  </thead>\n  <tbody>\n    <tr>\n      <th>55</th>\n      <td>3</td>\n      <td>150.0</td>\n      <td>mazda</td>\n      <td>gas</td>\n      <td>std</td>\n      <td>two</td>\n      <td>hatchback</td>\n      <td>rwd</td>\n      <td>front</td>\n      <td>95.3</td>\n      <td>...</td>\n      <td>80</td>\n      <td>mpfi</td>\n      <td>3.329751</td>\n      <td>3.255423</td>\n      <td>9.40</td>\n      <td>135</td>\n      <td>6000</td>\n      <td>16</td>\n      <td>23</td>\n      <td>15645</td>\n    </tr>\n    <tr>\n      <th>66</th>\n      <td>0</td>\n      <td>93.0</td>\n      <td>mercedes-benz</td>\n      <td>diesel</td>\n      <td>turbo</td>\n      <td>two</td>\n      <td>hardtop</td>\n      <td>rwd</td>\n      <td>front</td>\n      <td>106.7</td>\n      <td>...</td>\n      <td>183</td>\n      <td>idi</td>\n      <td>3.580000</td>\n      <td>3.640000</td>\n      <td>21.50</td>\n      <td>123</td>\n      <td>4350</td>\n      <td>22</td>\n      <td>25</td>\n      <td>28176</td>\n    </tr>\n    <tr>\n      <th>145</th>\n      <td>0</td>\n      <td>85.0</td>\n      <td>subaru</td>\n      <td>gas</td>\n      <td>turbo</td>\n      <td>four</td>\n      <td>wagon</td>\n      <td>4wd</td>\n      <td>front</td>\n      <td>96.9</td>\n      <td>...</td>\n      <td>108</td>\n      <td>mpfi</td>\n      <td>3.620000</td>\n      <td>2.640000</td>\n      <td>7.70</td>\n      <td>111</td>\n      <td>4800</td>\n      <td>23</td>\n      <td>23</td>\n      <td>11694</td>\n    </tr>\n    <tr>\n      <th>128</th>\n      <td>3</td>\n      <td>150.0</td>\n      <td>saab</td>\n      <td>gas</td>\n      <td>std</td>\n      <td>two</td>\n      <td>hatchback</td>\n      <td>fwd</td>\n      <td>front</td>\n      <td>99.1</td>\n      <td>...</td>\n      <td>121</td>\n      <td>mpfi</td>\n      <td>3.540000</td>\n      <td>3.070000</td>\n      <td>9.31</td>\n      <td>110</td>\n      <td>5250</td>\n      <td>21</td>\n      <td>28</td>\n      <td>11850</td>\n    </tr>\n    <tr>\n      <th>139</th>\n      <td>0</td>\n      <td>102.0</td>\n      <td>subaru</td>\n      <td>gas</td>\n      <td>std</td>\n      <td>four</td>\n      <td>sedan</td>\n      <td>fwd</td>\n      <td>front</td>\n      <td>97.2</td>\n      <td>...</td>\n      <td>108</td>\n      <td>mpfi</td>\n      <td>3.620000</td>\n      <td>2.640000</td>\n      <td>9.00</td>\n      <td>94</td>\n      <td>5200</td>\n      <td>26</td>\n      <td>32</td>\n      <td>9960</td>\n    </tr>\n  </tbody>\n</table>\n<p>5 rows × 26 columns</p>\n</div>"
     },
     "execution_count": 6,
     "metadata": {},
     "output_type": "execute_result"
    }
   ],
   "source": [
    "df = pd.read_csv('automobile_new.csv', names= headers)\n",
    "df.head()"
   ],
   "metadata": {
    "collapsed": false,
    "ExecuteTime": {
     "end_time": "2023-08-15T18:29:32.520691Z",
     "start_time": "2023-08-15T18:29:32.507475Z"
    }
   }
  },
  {
   "cell_type": "markdown",
   "source": [
    "<h3>Why binning?</h3>\n",
    "\n",
    "Binning is a process of transforming continuous numerical variables into discrete categorical 'bins' for grouped analysis.\n",
    "\n",
    "Example:\n",
    "\n",
    "In our dataset, \"horsepower\" is a real valued variable ranging from 48 to 288 and it has 59 unique values. What if we only care about the price difference between cars with high horsepower, medium horsepower, and little horsepower (3 types)? Can we rearrange them into three ‘bins' to simplify analysis?\n",
    "\n",
    "We will use the pandas method 'cut' to segment the 'horsepower' column into 3 bins."
   ],
   "metadata": {
    "collapsed": false
   }
  },
  {
   "cell_type": "code",
   "execution_count": 7,
   "outputs": [
    {
     "data": {
      "text/plain": "55     135\n66     123\n145    111\n128    110\n139     94\n160     70\n153     70\n57      84\n7      110\n147     62\nName: horsepower, dtype: int64"
     },
     "execution_count": 7,
     "metadata": {},
     "output_type": "execute_result"
    }
   ],
   "source": [
    "df['horsepower']"
   ],
   "metadata": {
    "collapsed": false,
    "ExecuteTime": {
     "end_time": "2023-08-15T18:29:34.941907Z",
     "start_time": "2023-08-15T18:29:34.934870Z"
    }
   }
  },
  {
   "cell_type": "markdown",
   "source": [
    "<h3>Example of Binning Data In Pandas</h3>\n",
    "\n",
    "Convert data to correct format:"
   ],
   "metadata": {
    "collapsed": false
   }
  },
  {
   "cell_type": "code",
   "execution_count": 8,
   "outputs": [],
   "source": [
    "df['horsepower'] = df['horsepower'].astype(int, copy=True)"
   ],
   "metadata": {
    "collapsed": false,
    "ExecuteTime": {
     "end_time": "2023-08-15T18:37:44.743123Z",
     "start_time": "2023-08-15T18:37:44.730388Z"
    }
   }
  },
  {
   "cell_type": "markdown",
   "source": [
    "Let's plot the histogram of horsepower to see what the distribution of horsepower looks like."
   ],
   "metadata": {
    "collapsed": false
   }
  },
  {
   "cell_type": "code",
   "execution_count": 12,
   "outputs": [],
   "source": [
    "%matplotlib inline\n",
    "import matplotlib as plt\n",
    "from matplotlib import pyplot"
   ],
   "metadata": {
    "collapsed": false,
    "ExecuteTime": {
     "end_time": "2023-08-15T18:40:56.305357Z",
     "start_time": "2023-08-15T18:40:56.300829Z"
    }
   }
  },
  {
   "cell_type": "code",
   "execution_count": 13,
   "outputs": [
    {
     "data": {
      "text/plain": "Text(0.5, 1.0, 'horsepower bins')"
     },
     "execution_count": 13,
     "metadata": {},
     "output_type": "execute_result"
    },
    {
     "data": {
      "text/plain": "<Figure size 640x480 with 1 Axes>",
      "image/png": "[encoded data removed]"
     },
     "metadata": {},
     "output_type": "display_data"
    }
   ],
   "source": [
    "plt.pyplot.hist(df['horsepower'])\n",
    "\n",
    "# set x/y labels and plot title\n",
    "plt.pyplot.xlabel(\"horsepower\")\n",
    "plt.pyplot.ylabel(\"count\")\n",
    "plt.pyplot.title(\"horsepower bins\")"
   ],
   "metadata": {
    "collapsed": false,
    "ExecuteTime": {
     "end_time": "2023-08-15T18:41:46.668330Z",
     "start_time": "2023-08-15T18:41:46.585543Z"
    }
   }
  },
  {
   "cell_type": "markdown",
   "source": [
    "We would like 3 bins of equal size bandwidth so we use numpy's linspace(start_value, end_value, numbers_generated function.\n",
    "\n",
    "Since we want to include the minimum value of horsepower, we want to set start_value = min(df[\"horsepower\"]).\n",
    "\n",
    "Since we want to include the maximum value of horsepower, we want to set end_value = max(df[\"horsepower\"]).\n",
    "\n",
    "Since we are building 3 bins of equal length, there should be 4 dividers, so numbers_generated = 4.\n",
    "\n",
    "We build a bin array with a minimum value to a maximum value by using the bandwidth calculated above. The values will determine when one bin ends and another begins."
   ],
   "metadata": {
    "collapsed": false
   }
  },
  {
   "cell_type": "code",
   "execution_count": 14,
   "outputs": [
    {
     "data": {
      "text/plain": "array([ 62.        ,  86.33333333, 110.66666667, 135.        ])"
     },
     "execution_count": 14,
     "metadata": {},
     "output_type": "execute_result"
    }
   ],
   "source": [
    "bins = np.linspace(min(df['horsepower']),max(df['horsepower']),4)\n",
    "bins"
   ],
   "metadata": {
    "collapsed": false,
    "ExecuteTime": {
     "end_time": "2023-08-16T06:01:08.338934Z",
     "start_time": "2023-08-16T06:01:08.332520Z"
    }
   }
  },
  {
   "cell_type": "code",
   "execution_count": 15,
   "outputs": [
    {
     "data": {
      "text/plain": "['Low', 'Medium', 'High']"
     },
     "execution_count": 15,
     "metadata": {},
     "output_type": "execute_result"
    }
   ],
   "source": [
    "# We set group names:\n",
    "group_names = ['Low', 'Medium', 'High']\n",
    "group_names"
   ],
   "metadata": {
    "collapsed": false,
    "ExecuteTime": {
     "end_time": "2023-08-16T06:01:52.116089Z",
     "start_time": "2023-08-16T06:01:52.111340Z"
    }
   }
  },
  {
   "cell_type": "markdown",
   "source": [
    "We apply the function \"cut\" to determine what each value of df['horsepower'] belongs to."
   ],
   "metadata": {
    "collapsed": false
   }
  },
  {
   "cell_type": "code",
   "execution_count": 16,
   "outputs": [],
   "source": [
    "df['horsepower-binned'] = pd.cut(df['horsepower'], bins, labels=group_names, include_lowest=True)"
   ],
   "metadata": {
    "collapsed": false,
    "ExecuteTime": {
     "end_time": "2023-08-16T06:04:03.660028Z",
     "start_time": "2023-08-16T06:04:03.653779Z"
    }
   }
  },
  {
   "cell_type": "code",
   "execution_count": 17,
   "outputs": [
    {
     "data": {
      "text/plain": "     horsepower horsepower-binned\n55          135              High\n66          123              High\n145         111              High\n128         110            Medium\n139          94            Medium\n160          70               Low\n153          70               Low\n57           84               Low\n7           110            Medium\n147          62               Low",
      "text/html": "<div>\n<style scoped>\n    .dataframe tbody tr th:only-of-type {\n        vertical-align: middle;\n    }\n\n    .dataframe tbody tr th {\n        vertical-align: top;\n    }\n\n    .dataframe thead th {\n        text-align: right;\n    }\n</style>\n<table border=\"1\" class=\"dataframe\">\n  <thead>\n    <tr style=\"text-align: right;\">\n      <th></th>\n      <th>horsepower</th>\n      <th>horsepower-binned</th>\n    </tr>\n  </thead>\n  <tbody>\n    <tr>\n      <th>55</th>\n      <td>135</td>\n      <td>High</td>\n    </tr>\n    <tr>\n      <th>66</th>\n      <td>123</td>\n      <td>High</td>\n    </tr>\n    <tr>\n      <th>145</th>\n      <td>111</td>\n      <td>High</td>\n    </tr>\n    <tr>\n      <th>128</th>\n      <td>110</td>\n      <td>Medium</td>\n    </tr>\n    <tr>\n      <th>139</th>\n      <td>94</td>\n      <td>Medium</td>\n    </tr>\n    <tr>\n      <th>160</th>\n      <td>70</td>\n      <td>Low</td>\n    </tr>\n    <tr>\n      <th>153</th>\n      <td>70</td>\n      <td>Low</td>\n    </tr>\n    <tr>\n      <th>57</th>\n      <td>84</td>\n      <td>Low</td>\n    </tr>\n    <tr>\n      <th>7</th>\n      <td>110</td>\n      <td>Medium</td>\n    </tr>\n    <tr>\n      <th>147</th>\n      <td>62</td>\n      <td>Low</td>\n    </tr>\n  </tbody>\n</table>\n</div>"
     },
     "execution_count": 17,
     "metadata": {},
     "output_type": "execute_result"
    }
   ],
   "source": [
    "df[['horsepower', 'horsepower-binned']].head(20)"
   ],
   "metadata": {
    "collapsed": false,
    "ExecuteTime": {
     "end_time": "2023-08-16T06:04:39.727114Z",
     "start_time": "2023-08-16T06:04:39.713106Z"
    }
   }
  },
  {
   "cell_type": "markdown",
   "source": [
    "Let's see the number of vehicles in each bin:"
   ],
   "metadata": {
    "collapsed": false
   }
  },
  {
   "cell_type": "code",
   "execution_count": 18,
   "outputs": [
    {
     "data": {
      "text/plain": "horsepower-binned\nLow       4\nMedium    3\nHigh      3\nName: count, dtype: int64"
     },
     "execution_count": 18,
     "metadata": {},
     "output_type": "execute_result"
    }
   ],
   "source": [
    "df['horsepower-binned'].value_counts()"
   ],
   "metadata": {
    "collapsed": false,
    "ExecuteTime": {
     "end_time": "2023-08-16T06:05:20.971221Z",
     "start_time": "2023-08-16T06:05:20.953648Z"
    }
   }
  },
  {
   "cell_type": "code",
   "execution_count": 19,
   "outputs": [
    {
     "data": {
      "text/plain": "Text(0.5, 1.0, 'horsepower bins')"
     },
     "execution_count": 19,
     "metadata": {},
     "output_type": "execute_result"
    },
    {
     "data": {
      "text/plain": "<Figure size 640x480 with 1 Axes>",
      "image/png": "[encoded data removed]"
     },
     "metadata": {},
     "output_type": "display_data"
    }
   ],
   "source": [
    "# Let's plot the distribution of each bin:\n",
    "pyplot.bar(group_names, df['horsepower-binned'].value_counts())\n",
    "\n",
    "# set x/y labels and plot title\n",
    "plt.pyplot.xlabel('horsepower')\n",
    "plt.pyplot.ylabel('count')\n",
    "plt.pyplot.title('horsepower bins')"
   ],
   "metadata": {
    "collapsed": false,
    "ExecuteTime": {
     "end_time": "2023-08-16T06:08:05.859773Z",
     "start_time": "2023-08-16T06:08:05.784166Z"
    }
   }
  },
  {
   "cell_type": "markdown",
   "source": [
    "Now the bins for \"horsepower\" based on 3 categories (\"Low\", \"Medium\" and \"High\").\n",
    "\n",
    "Successfully narrowed down the intervals from 59 to 3!"
   ],
   "metadata": {
    "collapsed": false
   }
  },
  {
   "cell_type": "markdown",
   "source": [
    "<h3>Bins Visualization</h3>\n",
    "\n",
    "Normally, a histogram is used to visualize the distribution of bins we created above."
   ],
   "metadata": {
    "collapsed": false
   }
  },
  {
   "cell_type": "code",
   "execution_count": 21,
   "outputs": [
    {
     "data": {
      "text/plain": "Text(0.5, 1.0, 'horsepower bins')"
     },
     "execution_count": 21,
     "metadata": {},
     "output_type": "execute_result"
    },
    {
     "data": {
      "text/plain": "<Figure size 640x480 with 1 Axes>",
      "image/png": "[encoded data removed]"
     },
     "metadata": {},
     "output_type": "display_data"
    }
   ],
   "source": [
    "# draw historgram of attribute \"horsepower\" with bins = 3\n",
    "plt.pyplot.hist(df['horsepower'], bins=3)\n",
    "\n",
    "# set x/y labels and plot title\n",
    "plt.pyplot.xlabel('horsepower')\n",
    "plt.pyplot.ylabel('count')\n",
    "plt.pyplot.title('horsepower bins')"
   ],
   "metadata": {
    "collapsed": false,
    "ExecuteTime": {
     "end_time": "2023-08-16T06:20:21.506156Z",
     "start_time": "2023-08-16T06:20:21.430340Z"
    }
   }
  },
  {
   "cell_type": "code",
   "execution_count": null,
   "outputs": [],
   "source": [],
   "metadata": {
    "collapsed": false
   }
  }
 ],
 "metadata": {
  "kernelspec": {
   "display_name": "Python 3",
   "language": "python",
   "name": "python3"
  },
  "language_info": {
   "codemirror_mode": {
    "name": "ipython",
    "version": 2
   },
   "file_extension": ".py",
   "mimetype": "text/x-python",
   "name": "python",
   "nbconvert_exporter": "python",
   "pygments_lexer": "ipython2",
   "version": "2.7.6"
  }
 },
 "nbformat": 4,
 "nbformat_minor": 0
}
