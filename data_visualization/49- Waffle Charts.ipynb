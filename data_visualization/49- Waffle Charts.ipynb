{
 "cells": [
  {
   "cell_type": "markdown",
   "id": "216c096d",
   "metadata": {},
   "source": [
    "# Waffle charts - Data Visualization\n",
    "\n",
    "Waffle charts are a fun and easy way to visualize data. Imagine you have a bag of colorful candies, and each candy represents a data point or a piece of information. A waffle chart uses these candies to show the proportion of different categories in your data.\n",
    "\n",
    "Here's a simple explanation of how to create a waffle chart in Python:\n",
    "\n",
    "1. Think of your data: Let's say you have some categories like \"Fruits,\" \"Vegetables,\" \"Sweets,\" and \"Toys.\" You also have the number of items in each category, like 10 fruits, 5 vegetables, 15 sweets, and 8 toys.\n",
    "\n",
    "2. Install the library: First, you need to install a special library called \"pywaffle\" in Python. This library helps us make waffle charts easily. You can do this by asking your teacher or a grown-up to run the command: `pip install pywaffle`\n",
    "\n",
    "3. Create a dictionary: Think of a dictionary as a shopping list. You need to create a dictionary with your categories as keys and the number of items as values. For example:"
   ]
  },
  {
   "cell_type": "code",
   "execution_count": 22,
   "id": "6d080a19",
   "metadata": {},
   "outputs": [
    {
     "data": {
      "text/plain": [
       "{'Fruits': 10, 'Vegetables': 5, 'Sweets': 15, 'Toys': 8}"
      ]
     },
     "execution_count": 22,
     "metadata": {},
     "output_type": "execute_result"
    }
   ],
   "source": [
    "data = {'Fruits': 10, 'Vegetables': 5, 'Sweets': 15, 'Toys': 8}\n",
    "data"
   ]
  },
  {
   "cell_type": "markdown",
   "id": "4d325e7e",
   "metadata": {},
   "source": [
    "4. Draw the waffle chart: Now, it's time to draw the waffle chart! It's like arranging candies on a grid to represent the data. Each candy will be one data point. Ask your teacher or a grown-up to help you with the code:"
   ]
  },
  {
   "cell_type": "code",
   "execution_count": 24,
   "id": "899d37fc",
   "metadata": {},
   "outputs": [
    {
     "data": {
      "image/png": "[encoded data removed]",
      "text/plain": [
       "<Waffle size 640x480 with 1 Axes>"
      ]
     },
     "metadata": {},
     "output_type": "display_data"
    }
   ],
   "source": [
    "import matplotlib.pyplot as plt\n",
    "from pywaffle import Waffle\n",
    "\n",
    "# Create the waffle chart\n",
    "fig = plt.figure(\n",
    "    FigureClass=Waffle,\n",
    "    rows=5,  # Choose how many rows you want in the chart (5 is good for starters)\n",
    "    values=data,  # Use the dictionary we created\n",
    "    colors=['orange', 'green', 'red', 'blue'],  # Choose your favorite colors\n",
    "    legend={'loc': 'upper left', 'bbox_to_anchor': (1, 1)}  # Put the legend on the side\n",
    ")\n",
    "\n",
    "# Add a title\n",
    "plt.title('My Waffle Chart', fontsize=14)\n",
    "\n",
    "# Show the waffle chart\n",
    "plt.show()"
   ]
  },
  {
   "cell_type": "markdown",
   "id": "1bd99597",
   "metadata": {},
   "source": [
    "\n",
    "5. See your chart: Ta-da! Now you have a colorful waffle chart showing the proportion of each category. The number of candies in each category will be proportional to the number of items you have.\n",
    "\n",
    "Remember, waffle charts are a fun and creative way to visualize data. You can change the colors, the number of rows, and even the categories to make different waffle charts. Have fun exploring and showing off your data with colorful candies!"
   ]
  },
  {
   "cell_type": "code",
   "execution_count": 2,
   "id": "516d546b",
   "metadata": {},
   "outputs": [
    {
     "name": "stdout",
     "output_type": "stream",
     "text": [
      "Collecting pywaffle\n",
      "  Downloading pywaffle-1.1.0-py2.py3-none-any.whl (30 kB)\n",
      "Collecting fontawesomefree (from pywaffle)\n",
      "  Downloading fontawesomefree-6.4.0-py3-none-any.whl (25.2 MB)\n",
      "     ---------------------------------------- 0.0/25.2 MB ? eta -:--:--\n",
      "     ---------------------------------------- 0.0/25.2 MB 1.4 MB/s eta 0:00:19\n",
      "     ---------------------------------------- 0.1/25.2 MB 1.1 MB/s eta 0:00:23\n",
      "     ---------------------------------------- 0.1/25.2 MB 1.1 MB/s eta 0:00:23\n",
      "     --------------------------------------- 0.1/25.2 MB 479.1 kB/s eta 0:00:53\n",
      "     --------------------------------------- 0.2/25.2 MB 845.5 kB/s eta 0:00:30\n",
      "     --------------------------------------- 0.2/25.2 MB 845.5 kB/s eta 0:00:30\n",
      "     --------------------------------------- 0.2/25.2 MB 655.6 kB/s eta 0:00:39\n",
      "     --------------------------------------- 0.3/25.2 MB 791.9 kB/s eta 0:00:32\n",
      "     --------------------------------------- 0.3/25.2 MB 756.6 kB/s eta 0:00:33\n",
      "      -------------------------------------- 0.4/25.2 MB 755.6 kB/s eta 0:00:33\n",
      "      --------------------------------------- 0.6/25.2 MB 1.0 MB/s eta 0:00:25\n",
      "      --------------------------------------- 0.6/25.2 MB 1.0 MB/s eta 0:00:25\n",
      "     - -------------------------------------- 0.7/25.2 MB 1.1 MB/s eta 0:00:23\n",
      "     - -------------------------------------- 0.8/25.2 MB 1.2 MB/s eta 0:00:21\n",
      "     - -------------------------------------- 1.2/25.2 MB 1.6 MB/s eta 0:00:16\n",
      "     -- ------------------------------------- 1.3/25.2 MB 1.6 MB/s eta 0:00:16\n",
      "     -- ------------------------------------- 1.5/25.2 MB 1.7 MB/s eta 0:00:14\n",
      "     -- ------------------------------------- 1.5/25.2 MB 1.7 MB/s eta 0:00:14\n",
      "     -- ------------------------------------- 1.5/25.2 MB 1.7 MB/s eta 0:00:14\n",
      "     -- ------------------------------------- 1.5/25.2 MB 1.7 MB/s eta 0:00:14\n",
      "     -- ------------------------------------- 1.5/25.2 MB 1.7 MB/s eta 0:00:14\n",
      "     -- ------------------------------------- 1.5/25.2 MB 1.7 MB/s eta 0:00:14\n",
      "     -- ------------------------------------- 1.5/25.2 MB 1.3 MB/s eta 0:00:19\n",
      "     -- ------------------------------------- 1.6/25.2 MB 1.4 MB/s eta 0:00:18\n",
      "     -- ------------------------------------- 1.6/25.2 MB 1.4 MB/s eta 0:00:18\n",
      "     -- ------------------------------------- 1.6/25.2 MB 1.4 MB/s eta 0:00:18\n",
      "     -- ------------------------------------- 1.6/25.2 MB 1.4 MB/s eta 0:00:18\n",
      "     --- ------------------------------------ 2.0/25.2 MB 1.4 MB/s eta 0:00:17\n",
      "     --- ------------------------------------ 2.1/25.2 MB 1.5 MB/s eta 0:00:16\n",
      "     --- ------------------------------------ 2.1/25.2 MB 1.4 MB/s eta 0:00:17\n",
      "     --- ------------------------------------ 2.1/25.2 MB 1.4 MB/s eta 0:00:17\n",
      "     --- ------------------------------------ 2.1/25.2 MB 1.4 MB/s eta 0:00:17\n",
      "     --- ------------------------------------ 2.1/25.2 MB 1.4 MB/s eta 0:00:17\n",
      "     --- ------------------------------------ 2.1/25.2 MB 1.4 MB/s eta 0:00:17\n",
      "     --- ------------------------------------ 2.1/25.2 MB 1.4 MB/s eta 0:00:17\n",
      "     --- ------------------------------------ 2.1/25.2 MB 1.4 MB/s eta 0:00:17\n",
      "     --- ------------------------------------ 2.1/25.2 MB 1.4 MB/s eta 0:00:17\n",
      "     --- ------------------------------------ 2.1/25.2 MB 1.4 MB/s eta 0:00:17\n",
      "     --- ------------------------------------ 2.1/25.2 MB 1.4 MB/s eta 0:00:17\n",
      "     --- ------------------------------------ 2.1/25.2 MB 1.4 MB/s eta 0:00:17\n",
      "     --- ------------------------------------ 2.1/25.2 MB 1.4 MB/s eta 0:00:17\n",
      "     --- ------------------------------------ 2.1/25.2 MB 1.4 MB/s eta 0:00:17\n",
      "     --- ------------------------------------ 2.1/25.2 MB 1.4 MB/s eta 0:00:17\n",
      "     --- ------------------------------------ 2.1/25.2 MB 1.4 MB/s eta 0:00:17\n",
      "     --- ------------------------------------ 2.1/25.2 MB 1.4 MB/s eta 0:00:17\n",
      "     --- ------------------------------------ 2.1/25.2 MB 1.4 MB/s eta 0:00:17\n",
      "     --- ------------------------------------ 2.1/25.2 MB 1.4 MB/s eta 0:00:17\n",
      "     --- ----------------------------------- 2.1/25.2 MB 889.9 kB/s eta 0:00:26\n",
      "     --- ----------------------------------- 2.4/25.2 MB 987.4 kB/s eta 0:00:24\n",
      "     --- ----------------------------------- 2.4/25.2 MB 993.5 kB/s eta 0:00:23\n",
      "     --- ----------------------------------- 2.4/25.2 MB 993.5 kB/s eta 0:00:23\n",
      "     --- ----------------------------------- 2.4/25.2 MB 993.5 kB/s eta 0:00:23\n",
      "     --- ----------------------------------- 2.4/25.2 MB 993.5 kB/s eta 0:00:23\n",
      "     --- ----------------------------------- 2.4/25.2 MB 993.5 kB/s eta 0:00:23\n",
      "     --- ----------------------------------- 2.4/25.2 MB 993.5 kB/s eta 0:00:23\n",
      "     --- ----------------------------------- 2.4/25.2 MB 993.5 kB/s eta 0:00:23\n",
      "     --- ----------------------------------- 2.4/25.2 MB 993.5 kB/s eta 0:00:23\n",
      "     --- ----------------------------------- 2.4/25.2 MB 993.5 kB/s eta 0:00:23\n",
      "     --- ----------------------------------- 2.4/25.2 MB 993.5 kB/s eta 0:00:23\n",
      "     --- ----------------------------------- 2.4/25.2 MB 993.5 kB/s eta 0:00:23\n",
      "     --- ----------------------------------- 2.4/25.2 MB 993.5 kB/s eta 0:00:23\n",
      "     --- ----------------------------------- 2.4/25.2 MB 993.5 kB/s eta 0:00:23\n",
      "     --- ----------------------------------- 2.4/25.2 MB 993.5 kB/s eta 0:00:23\n",
      "     --- ----------------------------------- 2.4/25.2 MB 993.5 kB/s eta 0:00:23\n",
      "     --- ----------------------------------- 2.4/25.2 MB 993.5 kB/s eta 0:00:23\n",
      "     --- ----------------------------------- 2.4/25.2 MB 993.5 kB/s eta 0:00:23\n",
      "     --- ----------------------------------- 2.4/25.2 MB 993.5 kB/s eta 0:00:23\n",
      "     --- ----------------------------------- 2.4/25.2 MB 993.5 kB/s eta 0:00:23\n",
      "     --- ----------------------------------- 2.4/25.2 MB 993.5 kB/s eta 0:00:23\n",
      "     --- ----------------------------------- 2.4/25.2 MB 993.5 kB/s eta 0:00:23\n",
      "     --- ----------------------------------- 2.4/25.2 MB 993.5 kB/s eta 0:00:23\n",
      "     --- ----------------------------------- 2.4/25.2 MB 993.5 kB/s eta 0:00:23\n",
      "     --- ----------------------------------- 2.4/25.2 MB 993.5 kB/s eta 0:00:23\n",
      "     --- ----------------------------------- 2.4/25.2 MB 993.5 kB/s eta 0:00:23\n",
      "     --- ----------------------------------- 2.4/25.2 MB 993.5 kB/s eta 0:00:23\n",
      "     --- ----------------------------------- 2.4/25.2 MB 993.5 kB/s eta 0:00:23\n",
      "     --- ----------------------------------- 2.4/25.2 MB 993.5 kB/s eta 0:00:23\n",
      "     --- ----------------------------------- 2.4/25.2 MB 993.5 kB/s eta 0:00:23\n",
      "     --- ----------------------------------- 2.4/25.2 MB 993.5 kB/s eta 0:00:23\n",
      "     --- ----------------------------------- 2.4/25.2 MB 993.5 kB/s eta 0:00:23\n",
      "     --- ----------------------------------- 2.4/25.2 MB 993.5 kB/s eta 0:00:23\n",
      "     --- ----------------------------------- 2.4/25.2 MB 993.5 kB/s eta 0:00:23\n",
      "     --- ----------------------------------- 2.4/25.2 MB 993.5 kB/s eta 0:00:23\n",
      "     --- ----------------------------------- 2.4/25.2 MB 993.5 kB/s eta 0:00:23\n",
      "     --- ----------------------------------- 2.4/25.2 MB 993.5 kB/s eta 0:00:23\n",
      "     --- ----------------------------------- 2.4/25.2 MB 993.5 kB/s eta 0:00:23\n",
      "     --- ----------------------------------- 2.4/25.2 MB 993.5 kB/s eta 0:00:23\n",
      "     --- ----------------------------------- 2.4/25.2 MB 993.5 kB/s eta 0:00:23\n",
      "     --- ----------------------------------- 2.4/25.2 MB 993.5 kB/s eta 0:00:23\n",
      "     --- ----------------------------------- 2.4/25.2 MB 993.5 kB/s eta 0:00:23\n",
      "     --- ----------------------------------- 2.4/25.2 MB 993.5 kB/s eta 0:00:23\n",
      "     --- ----------------------------------- 2.4/25.2 MB 993.5 kB/s eta 0:00:23\n",
      "     --- ----------------------------------- 2.4/25.2 MB 993.5 kB/s eta 0:00:23\n",
      "     --- ----------------------------------- 2.4/25.2 MB 993.5 kB/s eta 0:00:23\n",
      "     --- ----------------------------------- 2.4/25.2 MB 993.5 kB/s eta 0:00:23\n",
      "     --- ----------------------------------- 2.4/25.2 MB 993.5 kB/s eta 0:00:23\n",
      "     --- ----------------------------------- 2.4/25.2 MB 993.5 kB/s eta 0:00:23\n",
      "     --- ----------------------------------- 2.4/25.2 MB 993.5 kB/s eta 0:00:23\n",
      "     --- ----------------------------------- 2.4/25.2 MB 993.5 kB/s eta 0:00:23\n",
      "     --- ----------------------------------- 2.4/25.2 MB 993.5 kB/s eta 0:00:23\n",
      "     --- ----------------------------------- 2.4/25.2 MB 993.5 kB/s eta 0:00:23\n",
      "     --- ----------------------------------- 2.4/25.2 MB 993.5 kB/s eta 0:00:23\n",
      "     --- ----------------------------------- 2.4/25.2 MB 993.5 kB/s eta 0:00:23\n",
      "     --- ----------------------------------- 2.4/25.2 MB 993.5 kB/s eta 0:00:23\n",
      "     --- ----------------------------------- 2.4/25.2 MB 993.5 kB/s eta 0:00:23\n",
      "     --- ----------------------------------- 2.4/25.2 MB 993.5 kB/s eta 0:00:23\n",
      "     --- ----------------------------------- 2.4/25.2 MB 993.5 kB/s eta 0:00:23\n",
      "     --- ----------------------------------- 2.4/25.2 MB 993.5 kB/s eta 0:00:23\n",
      "     --- ----------------------------------- 2.4/25.2 MB 993.5 kB/s eta 0:00:23\n",
      "     --- ----------------------------------- 2.4/25.2 MB 993.5 kB/s eta 0:00:23\n",
      "     --- ----------------------------------- 2.4/25.2 MB 993.5 kB/s eta 0:00:23\n",
      "     --- ----------------------------------- 2.4/25.2 MB 993.5 kB/s eta 0:00:23\n",
      "     --- ----------------------------------- 2.4/25.2 MB 993.5 kB/s eta 0:00:23\n",
      "     --- ----------------------------------- 2.4/25.2 MB 993.5 kB/s eta 0:00:23\n",
      "     --- ----------------------------------- 2.4/25.2 MB 993.5 kB/s eta 0:00:23\n",
      "     --- ----------------------------------- 2.4/25.2 MB 993.5 kB/s eta 0:00:23\n",
      "     --- ----------------------------------- 2.4/25.2 MB 993.5 kB/s eta 0:00:23\n",
      "     --- ----------------------------------- 2.4/25.2 MB 993.5 kB/s eta 0:00:23\n",
      "     --- ----------------------------------- 2.4/25.2 MB 993.5 kB/s eta 0:00:23\n",
      "     --- ----------------------------------- 2.4/25.2 MB 993.5 kB/s eta 0:00:23\n",
      "     --- ----------------------------------- 2.4/25.2 MB 993.5 kB/s eta 0:00:23\n",
      "     --- ----------------------------------- 2.4/25.2 MB 993.5 kB/s eta 0:00:23\n",
      "     --- ----------------------------------- 2.4/25.2 MB 993.5 kB/s eta 0:00:23\n",
      "     --- ----------------------------------- 2.5/25.2 MB 401.7 kB/s eta 0:00:57\n",
      "     --- ----------------------------------- 2.5/25.2 MB 401.7 kB/s eta 0:00:57\n",
      "     --- ----------------------------------- 2.5/25.2 MB 401.7 kB/s eta 0:00:57\n",
      "     --- ----------------------------------- 2.5/25.2 MB 394.9 kB/s eta 0:00:58\n",
      "     --- ----------------------------------- 2.5/25.2 MB 394.9 kB/s eta 0:00:58\n",
      "     --- ----------------------------------- 2.5/25.2 MB 394.9 kB/s eta 0:00:58\n",
      "     --- ----------------------------------- 2.5/25.2 MB 394.9 kB/s eta 0:00:58\n",
      "     --- ----------------------------------- 2.5/25.2 MB 394.9 kB/s eta 0:00:58\n",
      "     --- ----------------------------------- 2.5/25.2 MB 394.9 kB/s eta 0:00:58\n",
      "     --- ----------------------------------- 2.5/25.2 MB 394.9 kB/s eta 0:00:58\n",
      "     --- ----------------------------------- 2.5/25.2 MB 380.8 kB/s eta 0:01:00\n",
      "     --- ----------------------------------- 2.5/25.2 MB 380.8 kB/s eta 0:01:00\n",
      "     --- ----------------------------------- 2.5/25.2 MB 380.8 kB/s eta 0:01:00\n",
      "     --- ----------------------------------- 2.5/25.2 MB 380.8 kB/s eta 0:01:00\n",
      "     --- ----------------------------------- 2.5/25.2 MB 380.8 kB/s eta 0:01:00\n",
      "     --- ----------------------------------- 2.5/25.2 MB 380.8 kB/s eta 0:01:00\n",
      "     --- ----------------------------------- 2.5/25.2 MB 380.8 kB/s eta 0:01:00\n",
      "     --- ----------------------------------- 2.5/25.2 MB 380.8 kB/s eta 0:01:00\n",
      "     --- ----------------------------------- 2.5/25.2 MB 380.8 kB/s eta 0:01:00\n",
      "     --- ----------------------------------- 2.5/25.2 MB 359.1 kB/s eta 0:01:04\n",
      "     --- ----------------------------------- 2.5/25.2 MB 359.1 kB/s eta 0:01:04\n",
      "     --- ----------------------------------- 2.5/25.2 MB 359.1 kB/s eta 0:01:04\n",
      "     --- ----------------------------------- 2.5/25.2 MB 359.1 kB/s eta 0:01:04\n",
      "     --- ----------------------------------- 2.5/25.2 MB 359.1 kB/s eta 0:01:04\n",
      "     --- ----------------------------------- 2.5/25.2 MB 359.1 kB/s eta 0:01:04\n",
      "     --- ----------------------------------- 2.5/25.2 MB 359.1 kB/s eta 0:01:04\n",
      "     --- ----------------------------------- 2.5/25.2 MB 345.2 kB/s eta 0:01:06\n",
      "     --- ----------------------------------- 2.5/25.2 MB 345.2 kB/s eta 0:01:06\n",
      "     --- ----------------------------------- 2.5/25.2 MB 345.2 kB/s eta 0:01:06\n",
      "     --- ----------------------------------- 2.5/25.2 MB 345.2 kB/s eta 0:01:06\n",
      "     --- ----------------------------------- 2.5/25.2 MB 345.2 kB/s eta 0:01:06\n",
      "     --- ----------------------------------- 2.5/25.2 MB 345.2 kB/s eta 0:01:06\n",
      "     --- ----------------------------------- 2.6/25.2 MB 334.4 kB/s eta 0:01:08\n",
      "     --- ----------------------------------- 2.6/25.2 MB 334.4 kB/s eta 0:01:08\n",
      "     --- ----------------------------------- 2.6/25.2 MB 334.4 kB/s eta 0:01:08\n",
      "     ---- ---------------------------------- 2.6/25.2 MB 331.6 kB/s eta 0:01:09\n",
      "     ---- ---------------------------------- 2.6/25.2 MB 331.6 kB/s eta 0:01:09\n",
      "     ---- ---------------------------------- 2.6/25.2 MB 331.6 kB/s eta 0:01:09\n",
      "     ---- ---------------------------------- 2.6/25.2 MB 327.7 kB/s eta 0:01:09\n",
      "     ---- ---------------------------------- 2.6/25.2 MB 327.7 kB/s eta 0:01:09\n",
      "     ---- ---------------------------------- 2.6/25.2 MB 327.7 kB/s eta 0:01:09\n",
      "     ---- ---------------------------------- 2.6/25.2 MB 327.7 kB/s eta 0:01:09\n",
      "     ---- ---------------------------------- 2.6/25.2 MB 327.7 kB/s eta 0:01:09\n",
      "     ---- ---------------------------------- 2.6/25.2 MB 327.7 kB/s eta 0:01:09\n",
      "     ---- ---------------------------------- 2.6/25.2 MB 317.1 kB/s eta 0:01:12\n",
      "     ---- ---------------------------------- 2.6/25.2 MB 317.1 kB/s eta 0:01:12\n",
      "     ---- ---------------------------------- 2.6/25.2 MB 317.1 kB/s eta 0:01:12\n",
      "     ---- ---------------------------------- 2.6/25.2 MB 317.1 kB/s eta 0:01:12\n",
      "     ---- ---------------------------------- 2.6/25.2 MB 313.7 kB/s eta 0:01:12\n",
      "     ---- ---------------------------------- 2.6/25.2 MB 313.7 kB/s eta 0:01:12\n",
      "     ---- ---------------------------------- 2.6/25.2 MB 313.7 kB/s eta 0:01:12\n",
      "     ---- ---------------------------------- 2.7/25.2 MB 310.3 kB/s eta 0:01:13\n",
      "     ---- ---------------------------------- 2.7/25.2 MB 310.3 kB/s eta 0:01:13\n",
      "     ---- ---------------------------------- 2.7/25.2 MB 310.3 kB/s eta 0:01:13\n",
      "     ---- ---------------------------------- 2.7/25.2 MB 305.9 kB/s eta 0:01:14\n",
      "     ---- ---------------------------------- 2.7/25.2 MB 305.9 kB/s eta 0:01:14\n",
      "     ---- ---------------------------------- 2.7/25.2 MB 305.9 kB/s eta 0:01:14\n",
      "     ---- ---------------------------------- 2.7/25.2 MB 304.0 kB/s eta 0:01:14\n",
      "     ---- ---------------------------------- 2.7/25.2 MB 304.0 kB/s eta 0:01:14\n",
      "     ---- ---------------------------------- 2.7/25.2 MB 304.0 kB/s eta 0:01:14\n",
      "     ---- ---------------------------------- 2.7/25.2 MB 301.0 kB/s eta 0:01:15\n",
      "     ---- ---------------------------------- 2.7/25.2 MB 301.0 kB/s eta 0:01:15\n",
      "     ---- ---------------------------------- 2.7/25.2 MB 298.1 kB/s eta 0:01:16\n",
      "     ---- ---------------------------------- 2.7/25.2 MB 298.1 kB/s eta 0:01:16\n",
      "     ---- ---------------------------------- 2.7/25.2 MB 298.1 kB/s eta 0:01:16\n",
      "     ---- ---------------------------------- 2.8/25.2 MB 294.7 kB/s eta 0:01:17\n",
      "     ---- ---------------------------------- 2.8/25.2 MB 294.7 kB/s eta 0:01:17\n",
      "     ---- ---------------------------------- 2.8/25.2 MB 294.7 kB/s eta 0:01:17\n",
      "     ---- ---------------------------------- 2.8/25.2 MB 293.1 kB/s eta 0:01:17\n",
      "     ---- ---------------------------------- 2.8/25.2 MB 293.1 kB/s eta 0:01:17\n",
      "     ---- ---------------------------------- 2.8/25.2 MB 293.1 kB/s eta 0:01:17\n",
      "     ---- ---------------------------------- 2.8/25.2 MB 293.1 kB/s eta 0:01:17\n",
      "     ---- ---------------------------------- 2.8/25.2 MB 291.1 kB/s eta 0:01:17\n",
      "     ---- ---------------------------------- 2.8/25.2 MB 291.1 kB/s eta 0:01:17\n",
      "     ---- ---------------------------------- 2.8/25.2 MB 291.1 kB/s eta 0:01:17\n",
      "     ---- ---------------------------------- 2.9/25.2 MB 291.2 kB/s eta 0:01:17\n",
      "     ---- ---------------------------------- 2.9/25.2 MB 291.2 kB/s eta 0:01:17\n",
      "     ---- ---------------------------------- 2.9/25.2 MB 291.2 kB/s eta 0:01:17\n",
      "     ---- ---------------------------------- 2.9/25.2 MB 291.2 kB/s eta 0:01:17\n",
      "     ---- ---------------------------------- 2.9/25.2 MB 288.7 kB/s eta 0:01:18\n",
      "     ---- ---------------------------------- 2.9/25.2 MB 288.7 kB/s eta 0:01:18\n",
      "     ---- ---------------------------------- 2.9/25.2 MB 288.7 kB/s eta 0:01:18\n",
      "     ---- ---------------------------------- 2.9/25.2 MB 285.2 kB/s eta 0:01:19\n",
      "     ---- ---------------------------------- 2.9/25.2 MB 286.3 kB/s eta 0:01:18\n",
      "     ---- ---------------------------------- 2.9/25.2 MB 286.3 kB/s eta 0:01:18\n",
      "     ---- ---------------------------------- 2.9/25.2 MB 286.3 kB/s eta 0:01:18\n",
      "     ---- ---------------------------------- 2.9/25.2 MB 284.4 kB/s eta 0:01:19\n",
      "     ---- ---------------------------------- 2.9/25.2 MB 284.4 kB/s eta 0:01:19\n",
      "     ---- ---------------------------------- 2.9/25.2 MB 281.6 kB/s eta 0:01:20\n",
      "     ---- ---------------------------------- 3.0/25.2 MB 284.1 kB/s eta 0:01:19\n",
      "     ---- ---------------------------------- 3.0/25.2 MB 284.1 kB/s eta 0:01:19\n",
      "     ---- ---------------------------------- 3.0/25.2 MB 283.5 kB/s eta 0:01:19\n",
      "     ---- ---------------------------------- 3.0/25.2 MB 283.8 kB/s eta 0:01:19\n",
      "     ---- ---------------------------------- 3.0/25.2 MB 283.8 kB/s eta 0:01:19\n",
      "     ---- ---------------------------------- 3.0/25.2 MB 282.2 kB/s eta 0:01:19\n",
      "     ---- ---------------------------------- 3.0/25.2 MB 282.2 kB/s eta 0:01:19\n",
      "     ---- ---------------------------------- 3.0/25.2 MB 281.6 kB/s eta 0:01:19\n",
      "     ---- ---------------------------------- 3.1/25.2 MB 281.8 kB/s eta 0:01:19\n",
      "     ---- ---------------------------------- 3.1/25.2 MB 281.8 kB/s eta 0:01:19\n",
      "     ---- ---------------------------------- 3.1/25.2 MB 280.4 kB/s eta 0:01:19\n",
      "     ---- ---------------------------------- 3.1/25.2 MB 281.0 kB/s eta 0:01:19\n",
      "     ---- ---------------------------------- 3.1/25.2 MB 280.0 kB/s eta 0:01:19\n",
      "     ---- ---------------------------------- 3.1/25.2 MB 280.0 kB/s eta 0:01:19\n",
      "     ---- ---------------------------------- 3.1/25.2 MB 280.2 kB/s eta 0:01:19\n",
      "     ---- ---------------------------------- 3.1/25.2 MB 281.3 kB/s eta 0:01:19\n",
      "     ---- ---------------------------------- 3.2/25.2 MB 281.0 kB/s eta 0:01:19\n",
      "     ---- ---------------------------------- 3.2/25.2 MB 281.3 kB/s eta 0:01:19\n",
      "     ---- ---------------------------------- 3.2/25.2 MB 281.9 kB/s eta 0:01:19\n",
      "     ---- ---------------------------------- 3.2/25.2 MB 281.7 kB/s eta 0:01:19\n",
      "     ---- ---------------------------------- 3.2/25.2 MB 282.3 kB/s eta 0:01:18\n",
      "     ----- --------------------------------- 3.2/25.2 MB 282.0 kB/s eta 0:01:18\n",
      "     ----- --------------------------------- 3.3/25.2 MB 283.1 kB/s eta 0:01:18\n",
      "     ----- --------------------------------- 3.3/25.2 MB 283.3 kB/s eta 0:01:18\n",
      "     ----- --------------------------------- 3.3/25.2 MB 284.4 kB/s eta 0:01:17\n",
      "     ----- --------------------------------- 3.3/25.2 MB 284.4 kB/s eta 0:01:17\n",
      "     ----- --------------------------------- 3.3/25.2 MB 285.2 kB/s eta 0:01:17\n",
      "     ----- --------------------------------- 3.4/25.2 MB 285.8 kB/s eta 0:01:17\n",
      "     ----- --------------------------------- 3.4/25.2 MB 285.8 kB/s eta 0:01:17\n",
      "     ----- --------------------------------- 3.4/25.2 MB 286.6 kB/s eta 0:01:17\n",
      "     ----- --------------------------------- 3.4/25.2 MB 286.7 kB/s eta 0:01:17\n",
      "     ----- --------------------------------- 3.4/25.2 MB 288.1 kB/s eta 0:01:16\n",
      "     ----- --------------------------------- 3.5/25.2 MB 288.3 kB/s eta 0:01:16\n",
      "     ----- --------------------------------- 3.5/25.2 MB 289.8 kB/s eta 0:01:15\n",
      "     ----- --------------------------------- 3.5/25.2 MB 290.7 kB/s eta 0:01:15\n",
      "     ----- --------------------------------- 3.5/25.2 MB 290.8 kB/s eta 0:01:15\n",
      "     ----- --------------------------------- 3.6/25.2 MB 292.7 kB/s eta 0:01:14\n",
      "     ----- --------------------------------- 3.6/25.2 MB 293.7 kB/s eta 0:01:14\n",
      "     ----- --------------------------------- 3.6/25.2 MB 294.2 kB/s eta 0:01:14\n",
      "     ----- --------------------------------- 3.6/25.2 MB 294.2 kB/s eta 0:01:14\n",
      "     ----- --------------------------------- 3.7/25.2 MB 297.4 kB/s eta 0:01:13\n",
      "     ----- --------------------------------- 3.7/25.2 MB 298.7 kB/s eta 0:01:12\n",
      "     ----- --------------------------------- 3.8/25.2 MB 301.0 kB/s eta 0:01:12\n",
      "     ----- --------------------------------- 3.8/25.2 MB 301.0 kB/s eta 0:01:12\n",
      "     ----- --------------------------------- 3.8/25.2 MB 303.2 kB/s eta 0:01:11\n",
      "     ----- --------------------------------- 3.8/25.2 MB 304.1 kB/s eta 0:01:11\n",
      "     ----- --------------------------------- 3.9/25.2 MB 305.8 kB/s eta 0:01:10\n",
      "     ------ -------------------------------- 3.9/25.2 MB 306.7 kB/s eta 0:01:10\n",
      "     ------ -------------------------------- 3.9/25.2 MB 308.3 kB/s eta 0:01:10\n",
      "     ------ -------------------------------- 3.9/25.2 MB 308.3 kB/s eta 0:01:10\n",
      "     ------ -------------------------------- 4.0/25.2 MB 307.7 kB/s eta 0:01:10\n",
      "     ------ -------------------------------- 4.0/25.2 MB 309.8 kB/s eta 0:01:09\n",
      "     ------ -------------------------------- 4.0/25.2 MB 311.8 kB/s eta 0:01:08\n",
      "     ------ -------------------------------- 4.1/25.2 MB 312.7 kB/s eta 0:01:08\n",
      "     ------ -------------------------------- 4.1/25.2 MB 315.5 kB/s eta 0:01:07\n",
      "     ------ -------------------------------- 4.1/25.2 MB 315.9 kB/s eta 0:01:07\n",
      "     ------ -------------------------------- 4.2/25.2 MB 318.7 kB/s eta 0:01:06\n",
      "     ------ -------------------------------- 4.2/25.2 MB 319.5 kB/s eta 0:01:06\n",
      "     ------ -------------------------------- 4.3/25.2 MB 322.3 kB/s eta 0:01:05\n",
      "     ------ -------------------------------- 4.3/25.2 MB 322.3 kB/s eta 0:01:05\n",
      "     ------ -------------------------------- 4.3/25.2 MB 322.7 kB/s eta 0:01:05\n",
      "     ------ -------------------------------- 4.4/25.2 MB 326.5 kB/s eta 0:01:04\n",
      "     ------ -------------------------------- 4.4/25.2 MB 329.2 kB/s eta 0:01:04\n",
      "     ------ -------------------------------- 4.5/25.2 MB 331.1 kB/s eta 0:01:03\n",
      "     ------ -------------------------------- 4.5/25.2 MB 333.7 kB/s eta 0:01:02\n",
      "     ------- ------------------------------- 4.6/25.2 MB 336.4 kB/s eta 0:01:02\n",
      "     ------- ------------------------------- 4.6/25.2 MB 336.8 kB/s eta 0:01:02\n",
      "     ------- ------------------------------- 4.6/25.2 MB 339.0 kB/s eta 0:01:01\n",
      "     ------- ------------------------------- 4.7/25.2 MB 342.3 kB/s eta 0:01:00\n",
      "     ------- ------------------------------- 4.8/25.2 MB 345.6 kB/s eta 0:01:00\n",
      "     ------- ------------------------------- 4.8/25.2 MB 346.3 kB/s eta 0:00:59\n",
      "     ------- ------------------------------- 4.8/25.2 MB 349.2 kB/s eta 0:00:59\n",
      "     ------- ------------------------------- 4.9/25.2 MB 353.5 kB/s eta 0:00:58\n",
      "     ------- ------------------------------- 5.0/25.2 MB 356.4 kB/s eta 0:00:57\n",
      "     ------- ------------------------------- 5.0/25.2 MB 357.4 kB/s eta 0:00:57\n",
      "     ------- ------------------------------- 5.1/25.2 MB 362.1 kB/s eta 0:00:56\n",
      "     ------- ------------------------------- 5.2/25.2 MB 366.3 kB/s eta 0:00:55\n",
      "     -------- ------------------------------ 5.2/25.2 MB 367.7 kB/s eta 0:00:55\n",
      "     -------- ------------------------------ 5.3/25.2 MB 371.8 kB/s eta 0:00:54\n",
      "     -------- ------------------------------ 5.3/25.2 MB 375.3 kB/s eta 0:00:53\n",
      "     -------- ------------------------------ 5.4/25.2 MB 379.8 kB/s eta 0:00:53\n",
      "     -------- ------------------------------ 5.5/25.2 MB 382.2 kB/s eta 0:00:52\n",
      "     -------- ------------------------------ 5.5/25.2 MB 385.2 kB/s eta 0:00:52\n",
      "     -------- ------------------------------ 5.7/25.2 MB 392.1 kB/s eta 0:00:50\n",
      "     -------- ------------------------------ 5.7/25.2 MB 396.4 kB/s eta 0:00:50\n",
      "     -------- ------------------------------ 5.8/25.2 MB 399.0 kB/s eta 0:00:49\n",
      "     --------- ----------------------------- 6.0/25.2 MB 408.0 kB/s eta 0:00:48\n",
      "     --------- ----------------------------- 6.1/25.2 MB 411.8 kB/s eta 0:00:47\n",
      "     --------- ----------------------------- 6.1/25.2 MB 410.6 kB/s eta 0:00:47\n",
      "     --------- ----------------------------- 6.2/25.2 MB 416.8 kB/s eta 0:00:46\n",
      "     --------- ----------------------------- 6.3/25.2 MB 423.9 kB/s eta 0:00:45\n",
      "     ---------- ---------------------------- 6.5/25.2 MB 429.7 kB/s eta 0:00:44\n",
      "     ---------- ---------------------------- 6.6/25.2 MB 435.8 kB/s eta 0:00:43\n",
      "     ---------- ---------------------------- 6.7/25.2 MB 443.7 kB/s eta 0:00:42\n",
      "     ---------- ---------------------------- 6.9/25.2 MB 452.3 kB/s eta 0:00:41\n",
      "     ---------- ---------------------------- 7.1/25.2 MB 461.4 kB/s eta 0:00:40\n",
      "     ----------- --------------------------- 7.2/25.2 MB 466.3 kB/s eta 0:00:39\n",
      "     ----------- --------------------------- 7.4/25.2 MB 475.7 kB/s eta 0:00:38\n",
      "     ----------- --------------------------- 7.4/25.2 MB 475.6 kB/s eta 0:00:38\n",
      "     ----------- --------------------------- 7.4/25.2 MB 475.6 kB/s eta 0:00:38\n",
      "     ------------ -------------------------- 7.9/25.2 MB 499.3 kB/s eta 0:00:35\n",
      "     ------------ -------------------------- 7.9/25.2 MB 500.5 kB/s eta 0:00:35\n",
      "     ------------ -------------------------- 7.9/25.2 MB 500.5 kB/s eta 0:00:35\n",
      "     ------------ -------------------------- 8.0/25.2 MB 502.0 kB/s eta 0:00:35\n",
      "     ------------ -------------------------- 8.0/25.2 MB 502.0 kB/s eta 0:00:35\n",
      "     ------------ -------------------------- 8.2/25.2 MB 509.5 kB/s eta 0:00:34\n",
      "     ------------ -------------------------- 8.2/25.2 MB 510.1 kB/s eta 0:00:34\n",
      "     ------------ -------------------------- 8.3/25.2 MB 510.8 kB/s eta 0:00:34\n",
      "     ------------- ------------------------- 8.4/25.2 MB 515.9 kB/s eta 0:00:33\n",
      "     ------------- ------------------------- 8.5/25.2 MB 517.0 kB/s eta 0:00:33\n",
      "     ------------- ------------------------- 8.6/25.2 MB 520.7 kB/s eta 0:00:32\n",
      "     ------------- ------------------------- 8.7/25.2 MB 523.8 kB/s eta 0:00:32\n",
      "     ------------- ------------------------- 8.8/25.2 MB 527.5 kB/s eta 0:00:32\n",
      "     ------------- ------------------------- 8.9/25.2 MB 532.8 kB/s eta 0:00:31\n",
      "     ------------- ------------------------- 9.0/25.2 MB 536.3 kB/s eta 0:00:31\n",
      "     -------------- ------------------------ 9.1/25.2 MB 539.1 kB/s eta 0:00:30\n",
      "     -------------- ------------------------ 9.2/25.2 MB 542.8 kB/s eta 0:00:30\n",
      "     -------------- ------------------------ 9.3/25.2 MB 546.2 kB/s eta 0:00:30\n",
      "     -------------- ------------------------ 9.4/25.2 MB 550.4 kB/s eta 0:00:29\n",
      "     -------------- ------------------------ 9.5/25.2 MB 552.6 kB/s eta 0:00:29\n",
      "     -------------- ------------------------ 9.5/25.2 MB 553.9 kB/s eta 0:00:29\n",
      "     -------------- ------------------------ 9.5/25.2 MB 553.9 kB/s eta 0:00:29\n",
      "     -------------- ------------------------ 9.7/25.2 MB 557.4 kB/s eta 0:00:28\n",
      "     --------------- ----------------------- 9.8/25.2 MB 562.3 kB/s eta 0:00:28\n",
      "     --------------- ----------------------- 9.8/25.2 MB 563.2 kB/s eta 0:00:28\n",
      "     --------------- ----------------------- 9.9/25.2 MB 564.8 kB/s eta 0:00:28\n",
      "     --------------- ---------------------- 10.0/25.2 MB 566.3 kB/s eta 0:00:27\n",
      "     --------------- ---------------------- 10.0/25.2 MB 566.6 kB/s eta 0:00:27\n",
      "     --------------- ---------------------- 10.1/25.2 MB 568.0 kB/s eta 0:00:27\n",
      "     --------------- ---------------------- 10.1/25.2 MB 570.6 kB/s eta 0:00:27\n",
      "     --------------- ---------------------- 10.2/25.2 MB 570.2 kB/s eta 0:00:27\n",
      "     --------------- ---------------------- 10.2/25.2 MB 572.3 kB/s eta 0:00:27\n",
      "     --------------- ---------------------- 10.3/25.2 MB 575.8 kB/s eta 0:00:26\n",
      "     --------------- ---------------------- 10.3/25.2 MB 575.3 kB/s eta 0:00:26\n",
      "     --------------- ---------------------- 10.4/25.2 MB 574.3 kB/s eta 0:00:26\n",
      "     --------------- ---------------------- 10.5/25.2 MB 575.8 kB/s eta 0:00:26\n",
      "     --------------- ---------------------- 10.5/25.2 MB 575.3 kB/s eta 0:00:26\n",
      "     --------------- ---------------------- 10.6/25.2 MB 577.4 kB/s eta 0:00:26\n",
      "     ---------------- --------------------- 10.6/25.2 MB 576.8 kB/s eta 0:00:26\n",
      "     ---------------- --------------------- 10.7/25.2 MB 574.8 kB/s eta 0:00:26\n",
      "     ---------------- --------------------- 10.8/25.2 MB 573.3 kB/s eta 0:00:26\n",
      "     ---------------- --------------------- 10.8/25.2 MB 573.8 kB/s eta 0:00:26\n",
      "     ---------------- --------------------- 10.9/25.2 MB 572.8 kB/s eta 0:00:26\n",
      "     ---------------- --------------------- 10.9/25.2 MB 571.8 kB/s eta 0:00:25\n",
      "     ---------------- --------------------- 11.0/25.2 MB 572.3 kB/s eta 0:00:25\n",
      "     ---------------- --------------------- 11.0/25.2 MB 570.8 kB/s eta 0:00:25\n",
      "     ---------------- --------------------- 11.1/25.2 MB 568.8 kB/s eta 0:00:25\n",
      "     ---------------- --------------------- 11.1/25.2 MB 568.8 kB/s eta 0:00:25\n",
      "     ---------------- --------------------- 11.2/25.2 MB 566.4 kB/s eta 0:00:25\n",
      "     ---------------- --------------------- 11.2/25.2 MB 564.9 kB/s eta 0:00:25\n",
      "     ----------------- -------------------- 11.3/25.2 MB 563.4 kB/s eta 0:00:25\n",
      "     ----------------- -------------------- 11.3/25.2 MB 562.9 kB/s eta 0:00:25\n",
      "     ----------------- -------------------- 11.4/25.2 MB 561.0 kB/s eta 0:00:25\n",
      "     ----------------- -------------------- 11.4/25.2 MB 561.0 kB/s eta 0:00:25\n",
      "     ----------------- -------------------- 11.5/25.2 MB 560.1 kB/s eta 0:00:25\n",
      "     ----------------- -------------------- 11.5/25.2 MB 559.1 kB/s eta 0:00:25\n",
      "     ----------------- -------------------- 11.5/25.2 MB 558.1 kB/s eta 0:00:25\n",
      "     ----------------- -------------------- 11.6/25.2 MB 556.7 kB/s eta 0:00:25\n",
      "     ----------------- -------------------- 11.7/25.2 MB 555.3 kB/s eta 0:00:25\n",
      "     ----------------- -------------------- 11.7/25.2 MB 554.4 kB/s eta 0:00:25\n",
      "     ----------------- -------------------- 11.7/25.2 MB 554.4 kB/s eta 0:00:25\n",
      "     ----------------- -------------------- 11.8/25.2 MB 561.0 kB/s eta 0:00:24\n",
      "     ----------------- -------------------- 11.9/25.2 MB 564.9 kB/s eta 0:00:24\n",
      "     ----------------- -------------------- 11.9/25.2 MB 562.9 kB/s eta 0:00:24\n",
      "     ------------------ ------------------- 12.0/25.2 MB 561.0 kB/s eta 0:00:24\n",
      "     ------------------ ------------------- 12.1/25.2 MB 559.1 kB/s eta 0:00:24\n",
      "     ------------------ ------------------- 12.1/25.2 MB 556.7 kB/s eta 0:00:24\n",
      "     ------------------ ------------------- 12.2/25.2 MB 555.3 kB/s eta 0:00:24\n",
      "     ------------------ ------------------- 12.3/25.2 MB 554.8 kB/s eta 0:00:24\n",
      "     ------------------ ------------------- 12.4/25.2 MB 582.5 kB/s eta 0:00:22\n",
      "     ------------------ ------------------- 12.5/25.2 MB 581.4 kB/s eta 0:00:22\n",
      "     ------------------ ------------------- 12.5/25.2 MB 579.4 kB/s eta 0:00:22\n",
      "     ------------------ ------------------- 12.6/25.2 MB 577.3 kB/s eta 0:00:22\n",
      "     ------------------- ------------------ 12.7/25.2 MB 575.3 kB/s eta 0:00:22\n",
      "     ------------------- ------------------ 12.7/25.2 MB 744.8 kB/s eta 0:00:17\n",
      "     ------------------- ------------------ 12.8/25.2 MB 813.3 kB/s eta 0:00:16\n",
      "     ------------------- ------------------ 12.9/25.2 MB 873.0 kB/s eta 0:00:15\n",
      "     ------------------- ------------------ 12.9/25.2 MB 893.2 kB/s eta 0:00:14\n",
      "     ------------------- ------------------ 13.0/25.2 MB 923.4 kB/s eta 0:00:14\n",
      "     ------------------- ------------------ 13.1/25.2 MB 947.5 kB/s eta 0:00:13\n",
      "     ------------------- ------------------ 13.1/25.2 MB 957.1 kB/s eta 0:00:13\n",
      "     -------------------- ------------------- 13.2/25.2 MB 1.0 MB/s eta 0:00:12\n",
      "     --------------------- ------------------ 13.3/25.2 MB 1.0 MB/s eta 0:00:12\n",
      "     --------------------- ------------------ 13.4/25.2 MB 1.0 MB/s eta 0:00:12\n",
      "     --------------------- ------------------ 13.4/25.2 MB 1.1 MB/s eta 0:00:12\n",
      "     --------------------- ------------------ 13.5/25.2 MB 1.1 MB/s eta 0:00:11\n",
      "     --------------------- ------------------ 13.6/25.2 MB 1.1 MB/s eta 0:00:11\n",
      "     --------------------- ------------------ 13.6/25.2 MB 1.1 MB/s eta 0:00:11\n",
      "     --------------------- ------------------ 13.7/25.2 MB 1.1 MB/s eta 0:00:11\n",
      "     --------------------- ------------------ 13.8/25.2 MB 1.1 MB/s eta 0:00:11\n",
      "     ---------------------- ----------------- 13.9/25.2 MB 1.1 MB/s eta 0:00:11\n",
      "     ---------------------- ----------------- 14.0/25.2 MB 1.1 MB/s eta 0:00:10\n",
      "     ---------------------- ----------------- 14.0/25.2 MB 1.1 MB/s eta 0:00:10\n",
      "     ---------------------- ----------------- 14.1/25.2 MB 1.1 MB/s eta 0:00:10\n",
      "     ---------------------- ----------------- 14.2/25.2 MB 1.2 MB/s eta 0:00:10\n",
      "     ---------------------- ----------------- 14.3/25.2 MB 1.2 MB/s eta 0:00:10\n",
      "     ---------------------- ----------------- 14.3/25.2 MB 1.2 MB/s eta 0:00:10\n",
      "     ---------------------- ----------------- 14.4/25.2 MB 1.2 MB/s eta 0:00:10\n",
      "     ----------------------- ---------------- 14.5/25.2 MB 1.2 MB/s eta 0:00:10\n",
      "     ----------------------- ---------------- 14.6/25.2 MB 1.2 MB/s eta 0:00:09\n",
      "     ----------------------- ---------------- 14.7/25.2 MB 1.2 MB/s eta 0:00:09\n",
      "     ----------------------- ---------------- 14.7/25.2 MB 1.2 MB/s eta 0:00:09\n",
      "     ----------------------- ---------------- 14.8/25.2 MB 1.2 MB/s eta 0:00:09\n",
      "     ----------------------- ---------------- 14.9/25.2 MB 1.2 MB/s eta 0:00:09\n",
      "     ----------------------- ---------------- 14.9/25.2 MB 1.2 MB/s eta 0:00:09\n",
      "     ----------------------- ---------------- 15.0/25.2 MB 1.2 MB/s eta 0:00:09\n",
      "     ----------------------- ---------------- 15.1/25.2 MB 1.2 MB/s eta 0:00:09\n",
      "     ------------------------ --------------- 15.1/25.2 MB 1.2 MB/s eta 0:00:09\n",
      "     ------------------------ --------------- 15.2/25.2 MB 1.2 MB/s eta 0:00:09\n",
      "     ------------------------ --------------- 15.3/25.2 MB 1.2 MB/s eta 0:00:09\n",
      "     ------------------------ --------------- 15.3/25.2 MB 1.2 MB/s eta 0:00:09\n",
      "     ------------------------ --------------- 15.4/25.2 MB 1.2 MB/s eta 0:00:09\n",
      "     ------------------------ --------------- 15.4/25.2 MB 1.2 MB/s eta 0:00:09\n",
      "     ------------------------ --------------- 15.5/25.2 MB 1.2 MB/s eta 0:00:09\n",
      "     ------------------------ --------------- 15.5/25.2 MB 1.2 MB/s eta 0:00:09\n",
      "     ------------------------ --------------- 15.6/25.2 MB 1.2 MB/s eta 0:00:09\n",
      "     ------------------------ --------------- 15.7/25.2 MB 1.2 MB/s eta 0:00:09\n",
      "     ------------------------- -------------- 15.8/25.2 MB 1.2 MB/s eta 0:00:09\n",
      "     ------------------------- -------------- 15.8/25.2 MB 1.2 MB/s eta 0:00:08\n",
      "     ------------------------- -------------- 15.9/25.2 MB 1.2 MB/s eta 0:00:08\n",
      "     ------------------------- -------------- 15.9/25.2 MB 1.2 MB/s eta 0:00:08\n",
      "     ------------------------- -------------- 16.0/25.2 MB 1.2 MB/s eta 0:00:08\n",
      "     ------------------------- -------------- 16.0/25.2 MB 1.2 MB/s eta 0:00:08\n",
      "     ------------------------- -------------- 16.1/25.2 MB 1.2 MB/s eta 0:00:08\n",
      "     ------------------------- -------------- 16.2/25.2 MB 1.2 MB/s eta 0:00:08\n",
      "     ------------------------- -------------- 16.2/25.2 MB 1.2 MB/s eta 0:00:08\n",
      "     ------------------------- -------------- 16.3/25.2 MB 1.2 MB/s eta 0:00:08\n",
      "     ------------------------- -------------- 16.3/25.2 MB 1.2 MB/s eta 0:00:08\n",
      "     -------------------------- ------------- 16.4/25.2 MB 1.2 MB/s eta 0:00:08\n",
      "     -------------------------- ------------- 16.4/25.2 MB 1.2 MB/s eta 0:00:08\n",
      "     -------------------------- ------------- 16.5/25.2 MB 1.2 MB/s eta 0:00:08\n",
      "     -------------------------- ------------- 16.5/25.2 MB 1.2 MB/s eta 0:00:08\n",
      "     -------------------------- ------------- 16.5/25.2 MB 1.2 MB/s eta 0:00:08\n",
      "     -------------------------- ------------- 16.5/25.2 MB 1.2 MB/s eta 0:00:08\n",
      "     -------------------------- ------------- 16.5/25.2 MB 1.2 MB/s eta 0:00:08\n",
      "     -------------------------- ------------- 16.6/25.2 MB 1.2 MB/s eta 0:00:08\n",
      "     -------------------------- ------------- 16.6/25.2 MB 1.2 MB/s eta 0:00:08\n",
      "     -------------------------- ------------- 16.6/25.2 MB 1.1 MB/s eta 0:00:08\n",
      "     -------------------------- ------------- 16.7/25.2 MB 1.1 MB/s eta 0:00:08\n",
      "     -------------------------- ------------- 16.8/25.2 MB 1.1 MB/s eta 0:00:08\n",
      "     -------------------------- ------------- 16.8/25.2 MB 1.1 MB/s eta 0:00:08\n",
      "     -------------------------- ------------- 16.8/25.2 MB 1.1 MB/s eta 0:00:08\n",
      "     -------------------------- ------------- 16.8/25.2 MB 1.1 MB/s eta 0:00:08\n",
      "     -------------------------- ------------- 16.9/25.2 MB 1.1 MB/s eta 0:00:08\n",
      "     -------------------------- ------------- 16.9/25.2 MB 1.1 MB/s eta 0:00:08\n",
      "     -------------------------- ------------- 17.0/25.2 MB 1.1 MB/s eta 0:00:08\n",
      "     --------------------------- ------------ 17.0/25.2 MB 1.1 MB/s eta 0:00:08\n",
      "     --------------------------- ------------ 17.0/25.2 MB 1.1 MB/s eta 0:00:08\n",
      "     --------------------------- ------------ 17.0/25.2 MB 1.1 MB/s eta 0:00:08\n",
      "     --------------------------- ------------ 17.1/25.2 MB 1.1 MB/s eta 0:00:08\n",
      "     --------------------------- ------------ 17.2/25.2 MB 1.1 MB/s eta 0:00:08\n",
      "     --------------------------- ------------ 17.2/25.2 MB 1.1 MB/s eta 0:00:08\n",
      "     --------------------------- ------------ 17.2/25.2 MB 1.1 MB/s eta 0:00:08\n",
      "     --------------------------- ------------ 17.2/25.2 MB 1.1 MB/s eta 0:00:08\n",
      "     --------------------------- ------------ 17.4/25.2 MB 1.1 MB/s eta 0:00:08\n",
      "     --------------------------- ------------ 17.4/25.2 MB 1.1 MB/s eta 0:00:08\n",
      "     --------------------------- ------------ 17.4/25.2 MB 1.1 MB/s eta 0:00:08\n",
      "     --------------------------- ------------ 17.5/25.2 MB 1.1 MB/s eta 0:00:08\n",
      "     --------------------------- ------------ 17.5/25.2 MB 1.1 MB/s eta 0:00:08\n",
      "     --------------------------- ------------ 17.6/25.2 MB 1.1 MB/s eta 0:00:08\n",
      "     --------------------------- ------------ 17.6/25.2 MB 1.1 MB/s eta 0:00:08\n",
      "     ---------------------------- ----------- 17.7/25.2 MB 1.1 MB/s eta 0:00:07\n",
      "     ---------------------------- ----------- 17.7/25.2 MB 1.1 MB/s eta 0:00:07\n",
      "     ---------------------------- ----------- 17.8/25.2 MB 1.1 MB/s eta 0:00:07\n",
      "     ---------------------------- ----------- 17.8/25.2 MB 1.1 MB/s eta 0:00:07\n",
      "     ---------------------------- ----------- 17.9/25.2 MB 1.1 MB/s eta 0:00:07\n",
      "     ---------------------------- ----------- 17.9/25.2 MB 1.1 MB/s eta 0:00:07\n",
      "     ---------------------------- ----------- 18.0/25.2 MB 1.1 MB/s eta 0:00:07\n",
      "     ---------------------------- ----------- 18.0/25.2 MB 1.0 MB/s eta 0:00:07\n",
      "     ---------------------------- ----------- 18.1/25.2 MB 1.0 MB/s eta 0:00:07\n",
      "     ---------------------------- ----------- 18.1/25.2 MB 1.0 MB/s eta 0:00:07\n",
      "     ---------------------------- ----------- 18.2/25.2 MB 1.1 MB/s eta 0:00:07\n",
      "     ---------------------------- ----------- 18.2/25.2 MB 1.0 MB/s eta 0:00:07\n",
      "     ----------------------------- ---------- 18.3/25.2 MB 1.1 MB/s eta 0:00:07\n",
      "     ----------------------------- ---------- 18.3/25.2 MB 1.0 MB/s eta 0:00:07\n",
      "     ----------------------------- ---------- 18.4/25.2 MB 1.0 MB/s eta 0:00:07\n",
      "     ----------------------------- ---------- 18.4/25.2 MB 1.0 MB/s eta 0:00:07\n",
      "     ----------------------------- ---------- 18.5/25.2 MB 1.0 MB/s eta 0:00:07\n",
      "     ----------------------------- ---------- 18.5/25.2 MB 1.0 MB/s eta 0:00:07\n",
      "     ----------------------------- ---------- 18.6/25.2 MB 1.0 MB/s eta 0:00:07\n",
      "     ----------------------------- ---------- 18.6/25.2 MB 1.0 MB/s eta 0:00:07\n",
      "     ----------------------------- ---------- 18.7/25.2 MB 1.0 MB/s eta 0:00:07\n",
      "     ----------------------------- ---------- 18.7/25.2 MB 1.0 MB/s eta 0:00:07\n",
      "     ----------------------------- ---------- 18.8/25.2 MB 1.0 MB/s eta 0:00:07\n",
      "     ----------------------------- ---------- 18.8/25.2 MB 1.0 MB/s eta 0:00:07\n",
      "     ----------------------------- ---------- 18.9/25.2 MB 1.0 MB/s eta 0:00:07\n",
      "     ------------------------------ --------- 18.9/25.2 MB 1.0 MB/s eta 0:00:07\n",
      "     ------------------------------ --------- 19.0/25.2 MB 1.0 MB/s eta 0:00:07\n",
      "     ------------------------------ --------- 19.0/25.2 MB 1.0 MB/s eta 0:00:06\n",
      "     ------------------------------ --------- 19.1/25.2 MB 1.0 MB/s eta 0:00:06\n",
      "     ------------------------------ --------- 19.1/25.2 MB 1.0 MB/s eta 0:00:06\n",
      "     ------------------------------ --------- 19.2/25.2 MB 1.0 MB/s eta 0:00:06\n",
      "     ------------------------------ --------- 19.3/25.2 MB 1.0 MB/s eta 0:00:06\n",
      "     ------------------------------ --------- 19.3/25.2 MB 1.0 MB/s eta 0:00:06\n",
      "     ------------------------------ --------- 19.4/25.2 MB 1.0 MB/s eta 0:00:06\n",
      "     ------------------------------ --------- 19.4/25.2 MB 1.0 MB/s eta 0:00:06\n",
      "     ------------------------------ --------- 19.5/25.2 MB 1.0 MB/s eta 0:00:06\n",
      "     ------------------------------ --------- 19.5/25.2 MB 1.0 MB/s eta 0:00:06\n",
      "     ------------------------------- -------- 19.6/25.2 MB 1.0 MB/s eta 0:00:06\n",
      "     ------------------------------- -------- 19.7/25.2 MB 1.0 MB/s eta 0:00:06\n",
      "     ------------------------------- -------- 19.7/25.2 MB 1.0 MB/s eta 0:00:06\n",
      "     ------------------------------- -------- 19.8/25.2 MB 1.0 MB/s eta 0:00:06\n",
      "     ------------------------------- -------- 19.9/25.2 MB 1.0 MB/s eta 0:00:06\n",
      "     ------------------------------- -------- 20.0/25.2 MB 1.0 MB/s eta 0:00:06\n",
      "     ------------------------------- -------- 20.0/25.2 MB 1.0 MB/s eta 0:00:05\n",
      "     ------------------------------- -------- 20.2/25.2 MB 1.0 MB/s eta 0:00:05\n",
      "     -------------------------------- ------- 20.2/25.2 MB 1.0 MB/s eta 0:00:05\n",
      "     -------------------------------- ------- 20.3/25.2 MB 1.0 MB/s eta 0:00:05\n",
      "     -------------------------------- ------- 20.4/25.2 MB 1.0 MB/s eta 0:00:05\n",
      "     -------------------------------- ------- 20.5/25.2 MB 1.0 MB/s eta 0:00:05\n",
      "     -------------------------------- ------- 20.5/25.2 MB 1.0 MB/s eta 0:00:05\n",
      "     -------------------------------- ------- 20.6/25.2 MB 1.0 MB/s eta 0:00:05\n",
      "     -------------------------------- ------- 20.7/25.2 MB 1.0 MB/s eta 0:00:05\n",
      "     -------------------------------- ------- 20.7/25.2 MB 1.0 MB/s eta 0:00:05\n",
      "     --------------------------------- ------ 20.8/25.2 MB 1.0 MB/s eta 0:00:05\n",
      "     --------------------------------- ------ 20.9/25.2 MB 1.1 MB/s eta 0:00:05\n",
      "     --------------------------------- ------ 20.9/25.2 MB 1.1 MB/s eta 0:00:05\n",
      "     --------------------------------- ------ 21.0/25.2 MB 1.1 MB/s eta 0:00:04\n",
      "     --------------------------------- ------ 21.1/25.2 MB 1.1 MB/s eta 0:00:04\n",
      "     --------------------------------- ------ 21.2/25.2 MB 1.1 MB/s eta 0:00:04\n",
      "     --------------------------------- ------ 21.2/25.2 MB 1.1 MB/s eta 0:00:04\n",
      "     --------------------------------- ------ 21.3/25.2 MB 1.1 MB/s eta 0:00:04\n",
      "     --------------------------------- ------ 21.4/25.2 MB 1.1 MB/s eta 0:00:04\n",
      "     ---------------------------------- ----- 21.5/25.2 MB 1.1 MB/s eta 0:00:04\n",
      "     ---------------------------------- ----- 21.6/25.2 MB 1.1 MB/s eta 0:00:04\n",
      "     ---------------------------------- ----- 21.6/25.2 MB 1.1 MB/s eta 0:00:04\n",
      "     ---------------------------------- ----- 21.7/25.2 MB 1.1 MB/s eta 0:00:04\n",
      "     ---------------------------------- ----- 21.8/25.2 MB 1.1 MB/s eta 0:00:04\n",
      "     ---------------------------------- ----- 21.9/25.2 MB 1.1 MB/s eta 0:00:04\n",
      "     ---------------------------------- ----- 22.0/25.2 MB 1.1 MB/s eta 0:00:03\n",
      "     ---------------------------------- ----- 22.0/25.2 MB 1.1 MB/s eta 0:00:03\n",
      "     ----------------------------------- ---- 22.1/25.2 MB 1.1 MB/s eta 0:00:03\n",
      "     ----------------------------------- ---- 22.1/25.2 MB 1.1 MB/s eta 0:00:03\n",
      "     ----------------------------------- ---- 22.2/25.2 MB 1.1 MB/s eta 0:00:03\n",
      "     ----------------------------------- ---- 22.3/25.2 MB 1.1 MB/s eta 0:00:03\n",
      "     ----------------------------------- ---- 22.4/25.2 MB 1.1 MB/s eta 0:00:03\n",
      "     ----------------------------------- ---- 22.4/25.2 MB 1.1 MB/s eta 0:00:03\n",
      "     ----------------------------------- ---- 22.5/25.2 MB 1.1 MB/s eta 0:00:03\n",
      "     ----------------------------------- ---- 22.6/25.2 MB 1.1 MB/s eta 0:00:03\n",
      "     ----------------------------------- ---- 22.7/25.2 MB 1.1 MB/s eta 0:00:03\n",
      "     ------------------------------------ --- 22.8/25.2 MB 1.1 MB/s eta 0:00:03\n",
      "     ------------------------------------ --- 22.8/25.2 MB 1.1 MB/s eta 0:00:03\n",
      "     ------------------------------------ --- 22.9/25.2 MB 1.1 MB/s eta 0:00:03\n",
      "     ------------------------------------ --- 23.0/25.2 MB 1.1 MB/s eta 0:00:03\n",
      "     ------------------------------------ --- 23.0/25.2 MB 1.1 MB/s eta 0:00:03\n",
      "     ------------------------------------ --- 23.1/25.2 MB 1.1 MB/s eta 0:00:02\n",
      "     ------------------------------------ --- 23.2/25.2 MB 1.1 MB/s eta 0:00:02\n",
      "     ------------------------------------ --- 23.2/25.2 MB 1.1 MB/s eta 0:00:02\n",
      "     ------------------------------------- -- 23.3/25.2 MB 1.1 MB/s eta 0:00:02\n",
      "     ------------------------------------- -- 23.4/25.2 MB 1.1 MB/s eta 0:00:02\n",
      "     ------------------------------------- -- 23.4/25.2 MB 1.1 MB/s eta 0:00:02\n",
      "     ------------------------------------- -- 23.5/25.2 MB 1.1 MB/s eta 0:00:02\n",
      "     ------------------------------------- -- 23.6/25.2 MB 1.1 MB/s eta 0:00:02\n",
      "     ------------------------------------- -- 23.7/25.2 MB 1.1 MB/s eta 0:00:02\n",
      "     ------------------------------------- -- 23.7/25.2 MB 1.1 MB/s eta 0:00:02\n",
      "     ------------------------------------- -- 23.8/25.2 MB 1.1 MB/s eta 0:00:02\n",
      "     ------------------------------------- -- 23.9/25.2 MB 1.1 MB/s eta 0:00:02\n",
      "     ------------------------------------- -- 23.9/25.2 MB 1.1 MB/s eta 0:00:02\n",
      "     -------------------------------------- - 24.0/25.2 MB 1.1 MB/s eta 0:00:02\n",
      "     -------------------------------------- - 24.1/25.2 MB 1.1 MB/s eta 0:00:02\n",
      "     -------------------------------------- - 24.1/25.2 MB 1.1 MB/s eta 0:00:01\n",
      "     -------------------------------------- - 24.2/25.2 MB 1.1 MB/s eta 0:00:01\n",
      "     -------------------------------------- - 24.2/25.2 MB 1.1 MB/s eta 0:00:01\n",
      "     -------------------------------------- - 24.3/25.2 MB 1.1 MB/s eta 0:00:01\n",
      "     -------------------------------------- - 24.3/25.2 MB 1.1 MB/s eta 0:00:01\n",
      "     -------------------------------------- - 24.4/25.2 MB 1.1 MB/s eta 0:00:01\n",
      "     -------------------------------------- - 24.5/25.2 MB 1.1 MB/s eta 0:00:01\n",
      "     -------------------------------------- - 24.5/25.2 MB 1.1 MB/s eta 0:00:01\n",
      "     ---------------------------------------  24.6/25.2 MB 1.1 MB/s eta 0:00:01\n",
      "     ---------------------------------------  24.7/25.2 MB 1.1 MB/s eta 0:00:01\n",
      "     ---------------------------------------  24.7/25.2 MB 1.1 MB/s eta 0:00:01\n",
      "     ---------------------------------------  24.8/25.2 MB 1.1 MB/s eta 0:00:01\n",
      "     ---------------------------------------  24.9/25.2 MB 1.1 MB/s eta 0:00:01\n",
      "     ---------------------------------------  24.9/25.2 MB 1.1 MB/s eta 0:00:01\n",
      "     ---------------------------------------  25.1/25.2 MB 1.1 MB/s eta 0:00:01\n",
      "     ---------------------------------------  25.1/25.2 MB 1.1 MB/s eta 0:00:01\n",
      "     ---------------------------------------  25.1/25.2 MB 1.1 MB/s eta 0:00:01\n",
      "     ---------------------------------------  25.1/25.2 MB 1.1 MB/s eta 0:00:01\n",
      "     ---------------------------------------  25.2/25.2 MB 1.1 MB/s eta 0:00:01\n",
      "     ---------------------------------------  25.2/25.2 MB 1.1 MB/s eta 0:00:01\n",
      "     ---------------------------------------  25.2/25.2 MB 1.1 MB/s eta 0:00:01\n",
      "     ---------------------------------------  25.2/25.2 MB 1.1 MB/s eta 0:00:01\n",
      "     ---------------------------------------  25.2/25.2 MB 1.1 MB/s eta 0:00:01\n",
      "     ---------------------------------------  25.2/25.2 MB 1.1 MB/s eta 0:00:01\n",
      "     ---------------------------------------  25.2/25.2 MB 1.1 MB/s eta 0:00:01\n",
      "     ---------------------------------------  25.2/25.2 MB 1.1 MB/s eta 0:00:01\n",
      "     ---------------------------------------  25.2/25.2 MB 1.1 MB/s eta 0:00:01\n",
      "     ---------------------------------------- 25.2/25.2 MB 1.0 MB/s eta 0:00:00\n",
      "Requirement already satisfied: matplotlib in c:\\users\\ayman\\appdata\\local\\programs\\python\\python311\\lib\\site-packages (from pywaffle) (3.7.1)\n",
      "Requirement already satisfied: contourpy>=1.0.1 in c:\\users\\ayman\\appdata\\local\\programs\\python\\python311\\lib\\site-packages (from matplotlib->pywaffle) (1.0.7)\n",
      "Requirement already satisfied: cycler>=0.10 in c:\\users\\ayman\\appdata\\local\\programs\\python\\python311\\lib\\site-packages (from matplotlib->pywaffle) (0.11.0)\n",
      "Requirement already satisfied: fonttools>=4.22.0 in c:\\users\\ayman\\appdata\\local\\programs\\python\\python311\\lib\\site-packages (from matplotlib->pywaffle) (4.39.4)\n",
      "Requirement already satisfied: kiwisolver>=1.0.1 in c:\\users\\ayman\\appdata\\local\\programs\\python\\python311\\lib\\site-packages (from matplotlib->pywaffle) (1.4.4)\n",
      "Requirement already satisfied: numpy>=1.20 in c:\\users\\ayman\\appdata\\local\\programs\\python\\python311\\lib\\site-packages (from matplotlib->pywaffle) (1.24.3)\n",
      "Requirement already satisfied: packaging>=20.0 in c:\\users\\ayman\\appdata\\local\\programs\\python\\python311\\lib\\site-packages (from matplotlib->pywaffle) (23.1)\n",
      "Requirement already satisfied: pillow>=6.2.0 in c:\\users\\ayman\\appdata\\local\\programs\\python\\python311\\lib\\site-packages (from matplotlib->pywaffle) (9.5.0)\n",
      "Requirement already satisfied: pyparsing>=2.3.1 in c:\\users\\ayman\\appdata\\local\\programs\\python\\python311\\lib\\site-packages (from matplotlib->pywaffle) (3.0.9)\n",
      "Requirement already satisfied: python-dateutil>=2.7 in c:\\users\\ayman\\appdata\\local\\programs\\python\\python311\\lib\\site-packages (from matplotlib->pywaffle) (2.8.2)\n",
      "Requirement already satisfied: six>=1.5 in c:\\users\\ayman\\appdata\\local\\programs\\python\\python311\\lib\\site-packages (from python-dateutil>=2.7->matplotlib->pywaffle) (1.16.0)\n",
      "Installing collected packages: fontawesomefree, pywaffle\n",
      "Successfully installed fontawesomefree-6.4.0 pywaffle-1.1.0\n",
      "Note: you may need to restart the kernel to use updated packages.\n"
     ]
    },
    {
     "name": "stderr",
     "output_type": "stream",
     "text": [
      "\n",
      "[notice] A new release of pip is available: 23.2 -> 23.2.1\n",
      "[notice] To update, run: python.exe -m pip install --upgrade pip\n"
     ]
    }
   ],
   "source": [
    "pip install pywaffle"
   ]
  },
  {
   "cell_type": "code",
   "execution_count": 18,
   "id": "265d4034",
   "metadata": {},
   "outputs": [],
   "source": [
    "import matplotlib.pyplot as plt\n",
    "from pywaffle import Waffle\n",
    "import pandas as pd"
   ]
  },
  {
   "cell_type": "code",
   "execution_count": 21,
   "id": "754a98bf",
   "metadata": {},
   "outputs": [
    {
     "data": {
      "image/png": "[encoded data removed]",
      "text/plain": [
       "<Waffle size 640x480 with 1 Axes>"
      ]
     },
     "metadata": {},
     "output_type": "display_data"
    }
   ],
   "source": [
    "# Data\n",
    "value = [5, 5, 5, 5]\n",
    "\n",
    "# Waffle chart\n",
    "plt.figure(\n",
    "    FigureClass = Waffle,\n",
    "    rows = 5,\n",
    "    values = value)\n",
    "\n",
    "plt.show() "
   ]
  },
  {
   "cell_type": "code",
   "execution_count": 3,
   "id": "dfc2b9eb",
   "metadata": {},
   "outputs": [
    {
     "data": {
      "image/png": "[encoded data removed]",
      "text/plain": [
       "<Waffle size 640x480 with 1 Axes>"
      ]
     },
     "metadata": {},
     "output_type": "display_data"
    }
   ],
   "source": [
    "# Data\n",
    "value = [12, 22, 16, 38, 12]\n",
    "\n",
    "# Waffle chart\n",
    "plt.figure(\n",
    "    FigureClass = Waffle,\n",
    "    rows = 10,\n",
    "    values = value)\n",
    "\n",
    "plt.show() "
   ]
  },
  {
   "cell_type": "code",
   "execution_count": null,
   "id": "493f4685",
   "metadata": {},
   "outputs": [],
   "source": []
  },
  {
   "cell_type": "code",
   "execution_count": 7,
   "id": "2e218ea5",
   "metadata": {},
   "outputs": [
    {
     "data": {
      "text/html": [
       "<div>\n",
       "<style scoped>\n",
       "    .dataframe tbody tr th:only-of-type {\n",
       "        vertical-align: middle;\n",
       "    }\n",
       "\n",
       "    .dataframe tbody tr th {\n",
       "        vertical-align: top;\n",
       "    }\n",
       "\n",
       "    .dataframe thead th {\n",
       "        text-align: right;\n",
       "    }\n",
       "</style>\n",
       "<table border=\"1\" class=\"dataframe\">\n",
       "  <thead>\n",
       "    <tr style=\"text-align: right;\">\n",
       "      <th></th>\n",
       "      <th>categories</th>\n",
       "      <th>proportions</th>\n",
       "    </tr>\n",
       "  </thead>\n",
       "  <tbody>\n",
       "    <tr>\n",
       "      <th>0</th>\n",
       "      <td>Category A</td>\n",
       "      <td>25</td>\n",
       "    </tr>\n",
       "    <tr>\n",
       "      <th>1</th>\n",
       "      <td>Category B</td>\n",
       "      <td>15</td>\n",
       "    </tr>\n",
       "    <tr>\n",
       "      <th>2</th>\n",
       "      <td>Category C</td>\n",
       "      <td>30</td>\n",
       "    </tr>\n",
       "    <tr>\n",
       "      <th>3</th>\n",
       "      <td>Category D</td>\n",
       "      <td>20</td>\n",
       "    </tr>\n",
       "  </tbody>\n",
       "</table>\n",
       "</div>"
      ],
      "text/plain": [
       "   categories  proportions\n",
       "0  Category A           25\n",
       "1  Category B           15\n",
       "2  Category C           30\n",
       "3  Category D           20"
      ]
     },
     "execution_count": 7,
     "metadata": {},
     "output_type": "execute_result"
    }
   ],
   "source": [
    "# Example data\n",
    "categories = ['Category A', 'Category B', 'Category C', 'Category D']\n",
    "proportions = [25, 15, 30, 20]\n",
    "\n",
    "# Create a DataFrame from the data\n",
    "data = {'categories': categories, 'proportions': proportions}\n",
    "df = pd.DataFrame(data)\n",
    "df"
   ]
  },
  {
   "cell_type": "markdown",
   "id": "45013140",
   "metadata": {},
   "source": [
    "Sure, let's break down the code step by step:\n",
    "\n",
    "1. Import the necessary libraries:\n",
    "```python\n",
    "import matplotlib.pyplot as plt\n",
    "from pywaffle import Waffle\n",
    "```\n",
    "Here, we import `matplotlib.pyplot` for plotting and `Waffle` from `pywaffle` to create the waffle chart.\n",
    "\n",
    "2. Prepare the data:\n",
    "```python\n",
    "categories = ['Category A', 'Category B', 'Category C', 'Category D']\n",
    "proportions = [25, 15, 30, 20]\n",
    "```\n",
    "We define `categories`, which is a list containing the names of the categories, and `proportions`, which is a list containing the respective proportions for each category.\n",
    "\n",
    "3. Create a DataFrame from the data:\n",
    "```python\n",
    "data = {'categories': categories, 'proportions': proportions}\n",
    "df = pd.DataFrame(data)\n",
    "```\n",
    "We use the `pd.DataFrame` function from pandas to create a DataFrame named `df` from the `data` dictionary. This allows us to organize the data in a tabular format.\n",
    "\n",
    "4. Compute the number of tiles for each category:\n",
    "```python\n",
    "total_tiles = sum(proportions)\n",
    "df['tiles'] = (df['proportions'] / total_tiles) * 100\n",
    "```\n",
    "We calculate the `total_tiles` by summing up all the proportions. Then, we create a new column in the DataFrame named 'tiles' to store the percentage of tiles for each category.\n",
    "\n",
    "5. Create the waffle chart:\n",
    "```python\n",
    "fig = plt.figure(\n",
    "    FigureClass=Waffle,\n",
    "    rows=5,\n",
    "    values=df['tiles'],\n",
    "    labels=list(df['categories']),\n",
    "    figsize=(8, 4),\n",
    "    colors=['red', 'green', 'blue', 'orange'],\n",
    "    legend={'loc': 'upper left', 'bbox_to_anchor': (1, 1)}\n",
    ")\n",
    "```\n",
    "Here, we create the waffle chart using `plt.figure` and specifying the `FigureClass` as `Waffle`. The `rows` parameter determines the number of rows in the chart. We pass the `tiles` column as `values` to represent the proportions of each category. The `labels` parameter provides the category names to be displayed on the chart. `figsize` sets the size of the chart, and `colors` allows us to set custom colors for each category. The `legend` parameter positions the legend in the upper-left corner of the chart.\n",
    "\n",
    "6. Add a title and show the chart:\n",
    "```python\n",
    "plt.title('Simple Waffle Chart Example', fontsize=14)\n",
    "plt.show()\n",
    "```\n",
    "We add a title to the chart using `plt.title`, and finally, `plt.show()` displays the waffle chart.\n",
    "\n",
    "Running this code should create a simple waffle chart representing the proportions of each category using colored blocks. You can modify the data, chart size, colors, and other parameters to customize the waffle chart according to your specific requirements."
   ]
  },
  {
   "cell_type": "code",
   "execution_count": 8,
   "id": "e15da1fd",
   "metadata": {},
   "outputs": [
    {
     "data": {
      "image/png": "[encoded data removed]",
      "text/plain": [
       "<Waffle size 800x400 with 1 Axes>"
      ]
     },
     "metadata": {},
     "output_type": "display_data"
    }
   ],
   "source": [
    "# Total number of tiles in the waffle chart\n",
    "total_tiles = sum(proportions)\n",
    "\n",
    "# Compute the number of tiles for each category based on their proportions\n",
    "df['tiles'] = (df['proportions'] / total_tiles) * 100\n",
    "\n",
    "# Create the waffle chart\n",
    "fig = plt.figure(\n",
    "    FigureClass=Waffle,\n",
    "    rows=10,\n",
    "    values=df['tiles'],\n",
    "    labels=list(df['categories']),\n",
    "    figsize=(8, 4),\n",
    "    legend={'loc': 'upper left', 'bbox_to_anchor': (1, 1)}\n",
    ")\n",
    "\n",
    "# Add a title\n",
    "plt.title('Waffle Chart Example', fontsize=14)\n",
    "\n",
    "# Show the waffle chart\n",
    "plt.show()\n"
   ]
  },
  {
   "cell_type": "code",
   "execution_count": 9,
   "id": "22412940",
   "metadata": {},
   "outputs": [
    {
     "data": {
      "text/plain": [
       "90"
      ]
     },
     "execution_count": 9,
     "metadata": {},
     "output_type": "execute_result"
    }
   ],
   "source": [
    "25 + 15+ 30+ 20"
   ]
  },
  {
   "cell_type": "code",
   "execution_count": 10,
   "id": "357016dc",
   "metadata": {},
   "outputs": [
    {
     "data": {
      "text/plain": [
       "90"
      ]
     },
     "execution_count": 10,
     "metadata": {},
     "output_type": "execute_result"
    }
   ],
   "source": [
    "total_tiles = sum(proportions)\n",
    "total_tiles"
   ]
  },
  {
   "cell_type": "code",
   "execution_count": 12,
   "id": "05d99e7e",
   "metadata": {},
   "outputs": [
    {
     "data": {
      "text/plain": [
       "0    25\n",
       "1    15\n",
       "2    30\n",
       "3    20\n",
       "Name: proportions, dtype: int64"
      ]
     },
     "execution_count": 12,
     "metadata": {},
     "output_type": "execute_result"
    }
   ],
   "source": [
    "df['proportions']"
   ]
  },
  {
   "cell_type": "code",
   "execution_count": 11,
   "id": "490895a5",
   "metadata": {},
   "outputs": [
    {
     "data": {
      "text/plain": [
       "0    27.777778\n",
       "1    16.666667\n",
       "2    33.333333\n",
       "3    22.222222\n",
       "Name: tiles, dtype: float64"
      ]
     },
     "execution_count": 11,
     "metadata": {},
     "output_type": "execute_result"
    }
   ],
   "source": [
    "df['tiles'] = (df['proportions'] / total_tiles) * 100\n",
    "df['tiles']"
   ]
  },
  {
   "cell_type": "code",
   "execution_count": 13,
   "id": "a883167d",
   "metadata": {},
   "outputs": [
    {
     "data": {
      "text/plain": [
       "27.77777777777778"
      ]
     },
     "execution_count": 13,
     "metadata": {},
     "output_type": "execute_result"
    }
   ],
   "source": [
    "25/90 * 100"
   ]
  },
  {
   "cell_type": "code",
   "execution_count": 14,
   "id": "25457684",
   "metadata": {},
   "outputs": [
    {
     "data": {
      "text/plain": [
       "16.666666666666664"
      ]
     },
     "execution_count": 14,
     "metadata": {},
     "output_type": "execute_result"
    }
   ],
   "source": [
    "15/90 * 100"
   ]
  },
  {
   "cell_type": "code",
   "execution_count": 15,
   "id": "22b11097",
   "metadata": {},
   "outputs": [
    {
     "data": {
      "text/plain": [
       "pywaffle.waffle.Waffle"
      ]
     },
     "execution_count": 15,
     "metadata": {},
     "output_type": "execute_result"
    }
   ],
   "source": [
    "FigureClass=Waffle\n",
    "FigureClass"
   ]
  },
  {
   "cell_type": "code",
   "execution_count": 16,
   "id": "9bc5ebdf",
   "metadata": {},
   "outputs": [
    {
     "data": {
      "text/plain": [
       "0    27.777778\n",
       "1    16.666667\n",
       "2    33.333333\n",
       "3    22.222222\n",
       "Name: tiles, dtype: float64"
      ]
     },
     "execution_count": 16,
     "metadata": {},
     "output_type": "execute_result"
    }
   ],
   "source": [
    "values=df['tiles']\n",
    "values"
   ]
  },
  {
   "cell_type": "code",
   "execution_count": 17,
   "id": "1b4deb35",
   "metadata": {},
   "outputs": [
    {
     "data": {
      "text/plain": [
       "['Category A', 'Category B', 'Category C', 'Category D']"
      ]
     },
     "execution_count": 17,
     "metadata": {},
     "output_type": "execute_result"
    }
   ],
   "source": [
    "labels=list(df['categories'])\n",
    "labels"
   ]
  },
  {
   "cell_type": "markdown",
   "id": "cfdd41e4",
   "metadata": {},
   "source": [
    "#### Spacing and aspect ratio\n",
    "\n",
    "The spacing of the tiles defaults to 0.2 and can be customized with interval_ratio_x for the X-axis and with interval_ratio_y for the Y-axis. You can also customize the aspect ratio of the tiles with block_aspect_ratio, which defaults to 1."
   ]
  },
  {
   "cell_type": "code",
   "execution_count": 26,
   "id": "52909c9a",
   "metadata": {},
   "outputs": [
    {
     "data": {
      "image/png": "[encoded data removed]",
      "text/plain": [
       "<Waffle size 640x480 with 1 Axes>"
      ]
     },
     "metadata": {},
     "output_type": "display_data"
    }
   ],
   "source": [
    "# Data\n",
    "value = [12, 22, 16, 38, 12]\n",
    "\n",
    "# Waffle chart\n",
    "plt.figure(\n",
    "    FigureClass = Waffle,\n",
    "    rows = 10,\n",
    "    columns = 10,\n",
    "    values = value,\n",
    "    interval_ratio_x = 1,\n",
    "    interval_ratio_y = 2,\n",
    "    block_aspect_ratio = 1.25)\n",
    "\n",
    "plt.show() "
   ]
  },
  {
   "cell_type": "markdown",
   "id": "be1ab0d8",
   "metadata": {},
   "source": [
    "Examples: https://python-charts.com/part-whole/waffle-chart-matplotlib/"
   ]
  },
  {
   "cell_type": "markdown",
   "id": "f4f5502f",
   "metadata": {},
   "source": [
    "#### Tiles direction\n",
    "\n",
    "The different groups are ordered by default by columns, from left to right. However, if you set **vertical = True** the groups will be stacked from bottom to top."
   ]
  },
  {
   "cell_type": "code",
   "execution_count": 27,
   "id": "a6929eec",
   "metadata": {},
   "outputs": [
    {
     "data": {
      "image/png": "[encoded data removed]",
      "text/plain": [
       "<Waffle size 640x480 with 1 Axes>"
      ]
     },
     "execution_count": 27,
     "metadata": {},
     "output_type": "execute_result"
    },
    {
     "data": {
      "image/png": "[encoded data removed]",
      "text/plain": [
       "<Waffle size 640x480 with 1 Axes>"
      ]
     },
     "metadata": {},
     "output_type": "display_data"
    }
   ],
   "source": [
    "from pywaffle import Waffle\n",
    "import matplotlib.pyplot as plt\n",
    "\n",
    "# Data\n",
    "value = [12, 22, 16, 38, 12]\n",
    "\n",
    "# Waffle chart\n",
    "plt.figure(\n",
    "    FigureClass = Waffle,\n",
    "    rows = 10,\n",
    "    columns = 10,\n",
    "    values = value,\n",
    "    vertical = True) # vertical true\n",
    "\n",
    "# plt.show() \n"
   ]
  },
  {
   "cell_type": "markdown",
   "id": "963014fa",
   "metadata": {},
   "source": [
    "#### Different icon for each group\n",
    "\n",
    "You can pass an array with as many icons as values to the icons argument to set a different icon for each group."
   ]
  },
  {
   "cell_type": "markdown",
   "id": "8a81b891",
   "metadata": {},
   "source": [
    "face-smile  '♥'  '★'  '⬤'\n",
    "\n",
    "pywaffle also provides **cmap_name** to specify a predefined color palette. Possible options are \n",
    "Set1, Set2, Set3, Pastel1, Pastel2, tab10, tab20, tab20b, tab20c, Paired, Accent and Dark2."
   ]
  },
  {
   "cell_type": "code",
   "execution_count": 80,
   "id": "002d018b",
   "metadata": {},
   "outputs": [
    {
     "data": {
      "image/png": "[encoded data removed]",
      "text/plain": [
       "<Waffle size 640x480 with 1 Axes>"
      ]
     },
     "metadata": {},
     "output_type": "display_data"
    }
   ],
   "source": [
    "# Data\n",
    "value = [12, 22, 16, 18, 12]\n",
    "\n",
    "icon = ['★', '😃', '♥', '😍', '⬤']\n",
    "\n",
    "# Waffle chart\n",
    "plt.figure(\n",
    "    FigureClass = Waffle,\n",
    "    rows = 10,\n",
    "    columns = 10,\n",
    "    values = value,\n",
    "    characters =  icon,    # change icon\n",
    "    cmap_name=  'tab10')   # change color\n",
    "\n",
    "plt.show() \n"
   ]
  },
  {
   "cell_type": "code",
   "execution_count": 113,
   "id": "d5fd1cbf",
   "metadata": {},
   "outputs": [
    {
     "data": {
      "image/png": "[encoded data removed]",
      "text/plain": [
       "<Waffle size 640x480 with 1 Axes>"
      ]
     },
     "metadata": {},
     "output_type": "display_data"
    }
   ],
   "source": [
    "# Data\n",
    "value = [1, 1, 1, 1, 1,1,1,1,1,1]\n",
    "\n",
    "icon = [ 'A','Y','M','A','N','I','J','A','Z','😍' ]\n",
    "\n",
    "\n",
    "# Waffle chart\n",
    "plt.figure(\n",
    "    FigureClass = Waffle,\n",
    "    rows = 2,\n",
    "    columns = 5,\n",
    "    values = value,\n",
    "#     block_arranging_style = \"snake\",\n",
    "    starting_location='NW',     # NW, SW, NE and SE \n",
    "    vertical = True,\n",
    "    characters =  icon,    # change icon\n",
    "    cmap_name=  'tab10')   # change color\n",
    "\n",
    "plt.show() "
   ]
  },
  {
   "cell_type": "code",
   "execution_count": null,
   "id": "3c05d1e5",
   "metadata": {},
   "outputs": [],
   "source": []
  }
 ],
 "metadata": {
  "kernelspec": {
   "display_name": "Python 3 (ipykernel)",
   "language": "python",
   "name": "python3"
  },
  "language_info": {
   "codemirror_mode": {
    "name": "ipython",
    "version": 3
   },
   "file_extension": ".py",
   "mimetype": "text/x-python",
   "name": "python",
   "nbconvert_exporter": "python",
   "pygments_lexer": "ipython3",
   "version": "3.11.3"
  }
 },
 "nbformat": 4,
 "nbformat_minor": 5
}
